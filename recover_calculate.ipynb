{
  "nbformat": 4,
  "nbformat_minor": 0,
  "metadata": {
    "colab": {
      "provenance": [],
      "mount_file_id": "1O7erWKj3spUgilLGDB-SQ2narxOMciBF",
      "authorship_tag": "ABX9TyNw+PRUWMdlRlJ+BxYG53B9",
      "include_colab_link": true
    },
    "kernelspec": {
      "name": "python3",
      "display_name": "Python 3"
    },
    "language_info": {
      "name": "python"
    }
  },
  "cells": [
    {
      "cell_type": "markdown",
      "metadata": {
        "id": "view-in-github",
        "colab_type": "text"
      },
      "source": [
        "<a href=\"https://colab.research.google.com/github/eliferdentr/Assignments/blob/main/recover_calculate.ipynb\" target=\"_parent\"><img src=\"https://colab.research.google.com/assets/colab-badge.svg\" alt=\"Open In Colab\"/></a>"
      ]
    },
    {
      "cell_type": "code",
      "source": [],
      "metadata": {
        "id": "BgpfwlfQoa-Y"
      },
      "execution_count": null,
      "outputs": []
    },
    {
      "cell_type": "markdown",
      "source": [],
      "metadata": {
        "id": "lswMyNyvobvO"
      }
    },
    {
      "cell_type": "code",
      "execution_count": null,
      "metadata": {
        "colab": {
          "base_uri": "https://localhost:8080/"
        },
        "id": "FsmddHcSyb4n",
        "outputId": "f582eeef-7fa7-4435-bd94-cc17a1464577"
      },
      "outputs": [
        {
          "output_type": "stream",
          "name": "stdout",
          "text": [
            "Recovery rate: 9.00%\n"
          ]
        }
      ],
      "source": [
        "import os\n",
        "import glob\n",
        "import cv2\n",
        "\n",
        "def calculate_recovery_rate(original_dir, corrupted_dir):\n",
        "    total_files = 0\n",
        "    total_recovered = 0\n",
        "\n",
        "    # Loop over all files in the original directory\n",
        "    for file_path in glob.glob(os.path.join(original_dir, \"*.jpeg\")):\n",
        "        total_files += 1\n",
        "\n",
        "        corrupted_file_path = os.path.join(corrupted_dir, os.path.basename(file_path))\n",
        "\n",
        "        original_image = cv2.imread(file_path)\n",
        "        corrupted_image = cv2.imread(corrupted_file_path)\n",
        "\n",
        "        if original_image is None or corrupted_image is None:\n",
        "            continue\n",
        "\n",
        "        original_gray = cv2.cvtColor(original_image, cv2.COLOR_BGR2GRAY)\n",
        "        corrupted_gray = cv2.cvtColor(corrupted_image, cv2.COLOR_BGR2GRAY)\n",
        "\n",
        "        mse = ((original_gray - corrupted_gray) ** 2).mean()\n",
        "\n",
        "        if mse < 100:\n",
        "            total_recovered += 1\n",
        "\n",
        "    recovery_rate = (total_recovered / total_files) * 100\n",
        "\n",
        "    return recovery_rate\n",
        "\n",
        "original_dir = \"/content/drive/MyDrive/openimages/compressed\"\n",
        "corrupted_dir = \"/content/drive/MyDrive/openimages/compressed/corrupted_files\"\n",
        "\n",
        "recovery_rate = calculate_recovery_rate(original_dir, corrupted_dir)\n",
        "print(\"Recovery rate: {:.2f}%\".format(recovery_rate))\n"
      ]
    },
    {
      "cell_type": "code",
      "source": [
        "import os\n",
        "import glob\n",
        "import cv2\n",
        "\n",
        "def calculate_recovery_rate(original_dir, corrupted_dir):\n",
        "    total_files = 0\n",
        "    total_recovered = 0\n",
        "\n",
        "    # Loop over all files in the original directory\n",
        "    for file_path in glob.glob(os.path.join(original_dir, \"*.jpeg\")):\n",
        "        total_files += 1\n",
        "\n",
        "        corrupted_file_path = os.path.join(corrupted_dir, os.path.basename(file_path))\n",
        "\n",
        "        original_image = cv2.imread(file_path)\n",
        "        corrupted_image = cv2.imread(corrupted_file_path)\n",
        "\n",
        "        if original_image is None or corrupted_image is None:\n",
        "            continue\n",
        "\n",
        "        recovered_image = corrupted_image.copy()  \n",
        "\n",
        "        if cv2.countNonZero(cv2.subtract(original_image, recovered_image)) == 0:\n",
        "            total_recovered += 1\n",
        "\n",
        "    # Calculate the recovery rate\n",
        "    recovery_rate = (total_recovered / total_files) * 100\n",
        "\n",
        "    return recovery_rate\n",
        "\n",
        "original_dir = \"/content/drive/MyDrive/openimages/compressed\"\n",
        "corrupted_dir = \"/content/drive/MyDrive/openimages/compressed/corrupted_files\"\n",
        "\n",
        "recovery_rate = calculate_recovery_rate(original_dir, corrupted_dir)\n",
        "print(\"Recovery rate: {:.2f}%\".format(recovery_rate))\n"
      ],
      "metadata": {
        "colab": {
          "base_uri": "https://localhost:8080/",
          "height": 339
        },
        "id": "9U-K3Aofy9L2",
        "outputId": "9644eaa3-ea7b-4108-a7fd-33de677aa5ee"
      },
      "execution_count": null,
      "outputs": [
        {
          "output_type": "error",
          "ename": "error",
          "evalue": "ignored",
          "traceback": [
            "\u001b[0;31m---------------------------------------------------------------------------\u001b[0m",
            "\u001b[0;31merror\u001b[0m                                     Traceback (most recent call last)",
            "\u001b[0;32m<ipython-input-5-7c1d091c6315>\u001b[0m in \u001b[0;36m<cell line: 38>\u001b[0;34m()\u001b[0m\n\u001b[1;32m     36\u001b[0m \u001b[0mcorrupted_dir\u001b[0m \u001b[0;34m=\u001b[0m \u001b[0;34m\"/content/drive/MyDrive/openimages/compressed/corrupted_files\"\u001b[0m\u001b[0;34m\u001b[0m\u001b[0;34m\u001b[0m\u001b[0m\n\u001b[1;32m     37\u001b[0m \u001b[0;34m\u001b[0m\u001b[0m\n\u001b[0;32m---> 38\u001b[0;31m \u001b[0mrecovery_rate\u001b[0m \u001b[0;34m=\u001b[0m \u001b[0mcalculate_recovery_rate\u001b[0m\u001b[0;34m(\u001b[0m\u001b[0moriginal_dir\u001b[0m\u001b[0;34m,\u001b[0m \u001b[0mcorrupted_dir\u001b[0m\u001b[0;34m)\u001b[0m\u001b[0;34m\u001b[0m\u001b[0;34m\u001b[0m\u001b[0m\n\u001b[0m\u001b[1;32m     39\u001b[0m \u001b[0mprint\u001b[0m\u001b[0;34m(\u001b[0m\u001b[0;34m\"Recovery rate: {:.2f}%\"\u001b[0m\u001b[0;34m.\u001b[0m\u001b[0mformat\u001b[0m\u001b[0;34m(\u001b[0m\u001b[0mrecovery_rate\u001b[0m\u001b[0;34m)\u001b[0m\u001b[0;34m)\u001b[0m\u001b[0;34m\u001b[0m\u001b[0;34m\u001b[0m\u001b[0m\n",
            "\u001b[0;32m<ipython-input-5-7c1d091c6315>\u001b[0m in \u001b[0;36mcalculate_recovery_rate\u001b[0;34m(original_dir, corrupted_dir)\u001b[0m\n\u001b[1;32m     25\u001b[0m \u001b[0;34m\u001b[0m\u001b[0m\n\u001b[1;32m     26\u001b[0m         \u001b[0;31m# Compare the recovered image with the original image\u001b[0m\u001b[0;34m\u001b[0m\u001b[0;34m\u001b[0m\u001b[0m\n\u001b[0;32m---> 27\u001b[0;31m         \u001b[0;32mif\u001b[0m \u001b[0mcv2\u001b[0m\u001b[0;34m.\u001b[0m\u001b[0mcountNonZero\u001b[0m\u001b[0;34m(\u001b[0m\u001b[0mcv2\u001b[0m\u001b[0;34m.\u001b[0m\u001b[0msubtract\u001b[0m\u001b[0;34m(\u001b[0m\u001b[0moriginal_image\u001b[0m\u001b[0;34m,\u001b[0m \u001b[0mrecovered_image\u001b[0m\u001b[0;34m)\u001b[0m\u001b[0;34m)\u001b[0m \u001b[0;34m==\u001b[0m \u001b[0;36m0\u001b[0m\u001b[0;34m:\u001b[0m\u001b[0;34m\u001b[0m\u001b[0;34m\u001b[0m\u001b[0m\n\u001b[0m\u001b[1;32m     28\u001b[0m             \u001b[0mtotal_recovered\u001b[0m \u001b[0;34m+=\u001b[0m \u001b[0;36m1\u001b[0m\u001b[0;34m\u001b[0m\u001b[0;34m\u001b[0m\u001b[0m\n\u001b[1;32m     29\u001b[0m \u001b[0;34m\u001b[0m\u001b[0m\n",
            "\u001b[0;31merror\u001b[0m: OpenCV(4.7.0) /io/opencv/modules/core/src/count_non_zero.dispatch.cpp:128: error: (-215:Assertion failed) cn == 1 in function 'countNonZero'\n"
          ]
        }
      ]
    },
    {
      "cell_type": "code",
      "source": [
        "import os\n",
        "import glob\n",
        "import cv2\n",
        "\n",
        "def recover_files(original_dir, corrupted_dir):\n",
        "    total_files = 0\n",
        "    total_recovered = 0\n",
        "\n",
        "    # Loop over all files in the original directory\n",
        "    for file_path in glob.glob(os.path.join(original_dir, \"*.jpeg\")):\n",
        "        total_files += 1\n",
        "\n",
        "        corrupted_file_path = os.path.join(corrupted_dir, os.path.basename(file_path))\n",
        "\n",
        "        original_image = cv2.imread(file_path)\n",
        "        corrupted_image = cv2.imread(corrupted_file_path)\n",
        "\n",
        "        if original_image is None or corrupted_image is None:\n",
        "            continue\n",
        "        corrected_image = error_correction(original_image, corrupted_image)\n",
        "\n",
        "        enhanced_image = image_enhancement(corrected_image)\n",
        "\n",
        "\n",
        "        recovered_file_path = os.path.join(recovered_dir, os.path.basename(file_path))\n",
        "        cv2.imwrite(recovered_file_path, enhanced_image)\n",
        "        total_recovered += 1\n",
        "    recovery_rate = (total_recovered / total_files) * 100\n",
        "\n",
        "    return recovery_rate\n",
        "\n",
        "def error_correction(original_image, corrupted_image):\n",
        "    diff_image = cv2.absdiff(original_image, corrupted_image)\n",
        "\n",
        "    diff_gray = cv2.cvtColor(diff_image, cv2.COLOR_BGR2GRAY)\n",
        "\n",
        "    _, mask = cv2.threshold(diff_gray, 1, 255, cv2.THRESH_BINARY)\n",
        "\n",
        "    corrected_image = cv2.bitwise_and(corrupted_image, corrupted_image, mask=mask)\n",
        "\n",
        "    return corrected_image\n",
        "\n",
        "def image_enhancement(image):\n",
        "    # burayabaklm\n",
        "    return image\n",
        "\n",
        "original_dir = \"/content/drive/MyDrive/openimages/compressed\"\n",
        "corrupted_dir = \"/content/drive/MyDrive/openimages/compressed/corrupted_files\"\n",
        "recovered_dir = \"/content/drive/MyDrive/openimages/compressed/recovered_files\"\n",
        "\n",
        "recovery_rate = recover_files(original_dir, corrupted_dir)\n",
        "print(\"Recovery rate: {:.2f}%\".format(recovery_rate))\n"
      ],
      "metadata": {
        "colab": {
          "base_uri": "https://localhost:8080/"
        },
        "id": "92iu0xSN0cEb",
        "outputId": "9a74996e-c280-46a9-83dd-9fabe621e91a"
      },
      "execution_count": null,
      "outputs": [
        {
          "output_type": "stream",
          "name": "stdout",
          "text": [
            "Recovery rate: 28.00%\n"
          ]
        }
      ]
    },
    {
      "cell_type": "code",
      "source": [
        "import os\n",
        "import glob\n",
        "import cv2\n",
        "\n",
        "def recover_files(original_dir, corrupted_dir):\n",
        "    total_files = 0\n",
        "    total_recovered = 0\n",
        "\n",
        "    # Loop over all files in the original directory\n",
        "    for file_path in glob.glob(os.path.join(original_dir, \"*.jpeg\")):\n",
        "        total_files += 1\n",
        "\n",
        "        corrupted_file_path = os.path.join(corrupted_dir, os.path.basename(file_path))\n",
        "\n",
        "        original_image = cv2.imread(file_path)\n",
        "        corrupted_image = cv2.imread(corrupted_file_path)\n",
        "\n",
        "        if original_image is None or corrupted_image is None:\n",
        "            continue\n",
        "        corrected_image = error_correction(original_image, corrupted_image)\n",
        "\n",
        "        enhanced_image = image_enhancement(corrected_image)\n",
        "\n",
        "        recovered_file_path = os.path.join(recovered_dir, os.path.basename(file_path))\n",
        "        cv2.imwrite(recovered_file_path, enhanced_image)\n",
        "        total_recovered += 1\n",
        "\n",
        "    recovery_rate = (total_recovered / total_files) * 100\n",
        "\n",
        "    return recovery_rate\n",
        "\n",
        "def error_correction(original_image, corrupted_image):\n",
        "    # Calculate the absolute difference between the original and corrupted images\n",
        "    diff_image = cv2.absdiff(original_image, corrupted_image)\n",
        "\n",
        "    # Convert the difference image to grayscale\n",
        "    diff_gray = cv2.cvtColor(diff_image, cv2.COLOR_BGR2GRAY)\n",
        "\n",
        "    # Apply adaptive thresholding to create a binary mask of the differences\n",
        "    _, mask = cv2.threshold(diff_gray, 0, 255, cv2.THRESH_BINARY + cv2.THRESH_OTSU)\n",
        "\n",
        "    # Apply morphological operations to improve the mask\n",
        "    kernel = cv2.getStructuringElement(cv2.MORPH_RECT, (5, 5))\n",
        "    mask = cv2.morphologyEx(mask, cv2.MORPH_OPEN, kernel)\n",
        "    mask = cv2.morphologyEx(mask, cv2.MORPH_CLOSE, kernel)\n",
        "\n",
        "    # Apply the mask to the corrupted image to correct the errors\n",
        "    corrected_image = cv2.inpaint(corrupted_image, mask, 3, cv2.INPAINT_TELEA)\n",
        "\n",
        "    return corrected_image\n",
        "\n",
        "def image_enhancement(image):\n",
        "    #\n",
        "    return image\n",
        "\n",
        "original_dir = \"/content/drive/MyDrive/openimages/compressed\"\n",
        "corrupted_dir = \"/content/drive/MyDrive/openimages/compressed/corrupted_files\"\n",
        "recovered_dir = \"/content/drive/MyDrive/openimages/compressed/recovered_files\"\n",
        "\n",
        "recovery_rate = recover_files(original_dir, corrupted_dir)\n",
        "print(\"Recovery rate: {:.2f}%\".format(recovery_rate))\n"
      ],
      "metadata": {
        "colab": {
          "base_uri": "https://localhost:8080/"
        },
        "id": "cDIeoXDz0ynV",
        "outputId": "7cc2201d-0b0e-4bba-d2a2-0f7151b8ee32"
      },
      "execution_count": null,
      "outputs": [
        {
          "output_type": "stream",
          "name": "stdout",
          "text": [
            "Recovery rate: 28.00%\n"
          ]
        }
      ]
    },
    {
      "cell_type": "code",
      "source": [
        "import os\n",
        "import glob\n",
        "import cv2\n",
        "import numpy as np\n",
        "from skimage.metrics import structural_similarity as ssim\n",
        "\n",
        "def recover_files(original_dir, corrupted_dir):\n",
        "    total_files = 0\n",
        "    total_recovered = 0\n",
        "\n",
        "    # Loop over all files in the original directory\n",
        "    for file_path in glob.glob(os.path.join(original_dir, \"*.jpeg\")):\n",
        "        total_files += 1\n",
        "\n",
        "        corrupted_file_path = os.path.join(corrupted_dir, os.path.basename(file_path))\n",
        "\n",
        "        original_image = cv2.imread(file_path)\n",
        "        corrupted_image = cv2.imread(corrupted_file_path)\n",
        "\n",
        "        if original_image is None or corrupted_image is None:\n",
        "            continue\n",
        "\n",
        "        corrected_image = error_correction(original_image, corrupted_image)\n",
        "\n",
        "        enhanced_image = image_enhancement(corrected_image)\n",
        "\n",
        "        ssim_score = calculate_ssim(original_image, enhanced_image)\n",
        "\n",
        "        # Save the recovered image only if the SSIM score is above a certain threshold\n",
        "        if ssim_score >= 0.9:\n",
        "            recovered_file_path = os.path.join(recovered_dir, os.path.basename(file_path))\n",
        "            cv2.imwrite(recovered_file_path, enhanced_image)\n",
        "            total_recovered += 1\n",
        "\n",
        "    # recovery rate\n",
        "    recovery_rate = (total_recovered / total_files) * 100\n",
        "\n",
        "    return recovery_rate\n",
        "\n",
        "def error_correction(original_image, corrupted_image):\n",
        "\n",
        "    height, width, _ = original_image.shape\n",
        "    num_pixels = int(0.01 * height * width)  # 1% error rate\n",
        "    indices = np.random.choice(height * width, size=num_pixels, replace=False)\n",
        "    for index in indices:\n",
        "        row = index // width\n",
        "        col = index % width\n",
        "        corrupted_image[row, col] = original_image[row, col]\n",
        "\n",
        "    return corrupted_image\n",
        "\n",
        "def image_enhancement(image):\n",
        "    # Apply advanced image enhancement techniques (e.g., denoising, sharpening, contrast adjustment)\n",
        "    # You can use OpenCV functions, image processing libraries, or deep learning-based methods for enhancement\n",
        "\n",
        "    # Placeholder: Apply histogram equalization to enhance contrast\n",
        "    hsv_image = cv2.cvtColor(image, cv2.COLOR_BGR2HSV)\n",
        "    hsv_image[:, :, 2] = cv2.equalizeHist(hsv_image[:, :, 2])\n",
        "    enhanced_image = cv2.cvtColor(hsv_image, cv2.COLOR_HSV2BGR)\n",
        "\n",
        "    return enhanced_image\n",
        "\n",
        "def calculate_ssim(image1, image2):\n",
        "    # Calculate the structural similarity index (SSIM) between two images\n",
        "    gray1 = cv2.cvtColor(image1, cv2.COLOR_BGR2GRAY)\n",
        "    gray2 = cv2.cvtColor(image2, cv2.COLOR_BGR2GRAY)\n",
        "    ssim_score = ssim(gray1, gray2)\n",
        "\n",
        "    return ssim_score\n",
        "\n",
        "original_dir = \"/content/drive/MyDrive/openimages/compressed\"\n",
        "corrupted_dir = \"/content/drive/MyDrive/openimages/compressed/corrupted_files\"\n",
        "recovered_dir = \"/content/drive/MyDrive/openimages/compressed/recovered_files\"\n",
        "\n",
        "\n",
        "recovery_rate = recover_files(original_dir, corrupted_dir)\n",
        "print(\"Recovery rate: {:.2f}%\".format(recovery_rate))\n"
      ],
      "metadata": {
        "colab": {
          "base_uri": "https://localhost:8080/"
        },
        "id": "RDYg1fjw1ijI",
        "outputId": "96d6a7a7-3cbb-49fc-d38d-0b19c4361a45"
      },
      "execution_count": null,
      "outputs": [
        {
          "output_type": "stream",
          "name": "stdout",
          "text": [
            "Recovery rate: 0.00%\n"
          ]
        }
      ]
    },
    {
      "cell_type": "code",
      "source": [
        "import os\n",
        "import cv2\n",
        "import numpy as np\n",
        "from skimage.metrics import structural_similarity as ssim\n",
        "import glob\n",
        "\n",
        "def error_correction(original_image, corrupted_image):\n",
        "\n",
        "    # Check if the images are empty\n",
        "    if original_image is None or corrupted_image is None:\n",
        "        return None\n",
        "\n",
        "    # Convert images to grayscale\n",
        "    original_gray = cv2.cvtColor(original_image, cv2.COLOR_BGR2GRAY)\n",
        "    corrupted_gray = cv2.cvtColor(corrupted_image, cv2.COLOR_BGR2GRAY)\n",
        "\n",
        "    # Apply error correction algorithm (example: simple pixel replacement)\n",
        "    corrected_gray = corrupted_gray.copy()\n",
        "    mask = original_gray != corrupted_gray\n",
        "    corrected_gray[mask] = original_gray[mask]\n",
        "\n",
        "    # Convert the corrected grayscale image back to BGR\n",
        "    corrected_image = cv2.cvtColor(corrected_gray, cv2.COLOR_GRAY2BGR)\n",
        "    return corrected_image\n",
        "\n",
        "def image_enhancement(image):\n",
        "    # Perform image enhancement techniques\n",
        "    if image is None:\n",
        "        return None\n",
        "\n",
        "    #bilateral filtering\n",
        "    enhanced_image = cv2.bilateralFilter(image, 9, 75, 75)\n",
        "\n",
        "    #gamma correction\n",
        "    gamma = 1.2\n",
        "    enhanced_image = np.clip(enhanced_image ** (1 / gamma), 0, 255).astype(np.uint8)\n",
        "    return enhanced_image\n",
        "\n",
        "def calculate_recovery_rate(original_dir, corrupted_dir, recovered_dir):\n",
        "    total_files = 0\n",
        "    recovered_files = 0\n",
        "\n",
        "    # Loop over all files in the original directory\n",
        "    for file_path in glob.glob(os.path.join(original_dir, \"*\")):\n",
        "        # Get the file name\n",
        "        file_name = os.path.basename(file_path)\n",
        "\n",
        "\n",
        "        corrupted_path = os.path.join(corrupted_dir, file_name)\n",
        "        recovered_path = os.path.join(recovered_dir, file_name)\n",
        "\n",
        "\n",
        "        original_image = cv2.imread(file_path)\n",
        "        corrupted_image = cv2.imread(corrupted_path)\n",
        "\n",
        "\n",
        "        corrected_image = error_correction(original_image, corrupted_image)\n",
        "        enhanced_image = image_enhancement(corrected_image)\n",
        "\n",
        "        if enhanced_image is None:\n",
        "            continue\n",
        "\n",
        "\n",
        "        cv2.imwrite(recovered_path, enhanced_image)\n",
        "\n",
        "        # Calculate the structural similarity index (SSIM)\n",
        "        ssim_score = ssim(original_image, enhanced_image, multichannel=True)\n",
        "\n",
        "        # Update the recovery statistics\n",
        "        total_files += 1\n",
        "        if ssim_score >= 0.95:\n",
        "            recovered_files += 1\n",
        "\n",
        "    # Calculate the recovery rate\n",
        "    recovery_rate = (recovered_files / total_files) * 100\n",
        "\n",
        "    return recovery_rate\n",
        "\n",
        "\n",
        "original_dir = \"/content/drive/MyDrive/openimages/compressed\"\n",
        "corrupted_dir = \"/content/drive/MyDrive/openimages/compressed/corrupted_files\"\n",
        "recovered_dir = \"/content/drive/MyDrive/openimages/compressed/recovered_files\"\n",
        "\n",
        "recovery_rate = calculate_recovery_rate(original_dir, corrupted_dir, recovered_dir)\n",
        "print(\"Recovery rate: {:.2f}%\".format(recovery_rate))\n"
      ],
      "metadata": {
        "colab": {
          "base_uri": "https://localhost:8080/"
        },
        "id": "e0WCCqOr2nYJ",
        "outputId": "5ad0a312-b1ff-4a50-acbc-ddccef7b7401"
      },
      "execution_count": null,
      "outputs": [
        {
          "output_type": "stream",
          "name": "stderr",
          "text": [
            "<ipython-input-16-4cc3b18895d4>:76: FutureWarning: `multichannel` is a deprecated argument name for `structural_similarity`. It will be removed in version 1.0. Please use `channel_axis` instead.\n",
            "  ssim_score = ssim(original_image, enhanced_image, multichannel=True)\n"
          ]
        },
        {
          "output_type": "stream",
          "name": "stdout",
          "text": [
            "Recovery rate: 0.00%\n"
          ]
        }
      ]
    },
    {
      "cell_type": "code",
      "source": [
        "import os\n",
        "import glob\n",
        "import shutil\n",
        "\n",
        "def recover_files(original_dir, corrupted_dir):\n",
        "    total_files = 0\n",
        "    total_recovered = 0\n",
        "\n",
        "    # Loop over all MP3 files in the directory\n",
        "    for file_name in glob.glob(os.path.join(original_dir, \"*.mp3\")):\n",
        "        total_files += 1\n",
        "\n",
        "        corrupted_file_name = os.path.join(corrupted_dir, os.path.basename(file_name))\n",
        "\n",
        "        if os.path.exists(corrupted_file_name):\n",
        "            recovered_file_name = os.path.join(original_dir, os.path.basename(file_name))\n",
        "            shutil.copy(corrupted_file_name, recovered_file_name)\n",
        "            total_recovered += 1\n",
        "\n",
        "    # Calculate the recovery rate\n",
        "    recovery_rate = (total_recovered / max(total_files, 1)) * 100\n",
        "\n",
        "    return recovery_rate\n",
        "\n",
        "original_dir_mp3 = \"/content/drive/MyDrive/muzikler/mp3\"\n",
        "corrupted_dir_mp3 = \"/content/drive/MyDrive/muzikler/mp3/corrupted_files\"\n",
        "\n",
        "original_dir_aac = \"/content/drive/MyDrive/muzikler/aac\"\n",
        "corrupted_dir_aac = \"/content/drive/MyDrive/muzikler/aac/corrupted_files\"\n",
        "\n",
        "recovery_rate_mp3 = recover_files(original_dir_mp3, corrupted_dir_mp3)\n",
        "recovery_rate_aac = recover_files(original_dir_aac, corrupted_dir_aac)\n",
        "\n",
        "print(\"MP3 Recovery rate: {:.2f}%\".format(recovery_rate_mp3))\n",
        "print(\"AAC Recovery rate: {:.2f}%\".format(recovery_rate_aac))\n"
      ],
      "metadata": {
        "colab": {
          "base_uri": "https://localhost:8080/"
        },
        "id": "OPYrLd-X41Pv",
        "outputId": "2ca4106e-aceb-4d1f-f2df-41748f046345"
      },
      "execution_count": null,
      "outputs": [
        {
          "output_type": "stream",
          "name": "stdout",
          "text": [
            "MP3 Recovery rate: 100.00%\n",
            "AAC Recovery rate: 0.00%\n"
          ]
        }
      ]
    },
    {
      "cell_type": "code",
      "source": [
        "import subprocess\n",
        "\n",
        "def recover_aac_files(original_dir, corrupted_dir):\n",
        "    total_files = 0\n",
        "    total_recovered = 0\n",
        "\n",
        "\n",
        "    for file_name in glob.glob(os.path.join(original_dir, \"*.aac\")):\n",
        "        total_files += 1\n",
        "\n",
        "        corrupted_file_name = os.path.join(corrupted_dir, os.path.basename(file_name))\n",
        "\n",
        "\n",
        "        if os.path.exists(corrupted_file_name):\n",
        "            recovered_file_name = os.path.join(original_dir, os.path.basename(file_name))\n",
        "            subprocess.call([\"ffmpeg\", \"-i\", corrupted_file_name, \"-c:a\", \"copy\", recovered_file_name])\n",
        "            total_recovered += 1\n",
        "\n",
        "\n",
        "    recovery_rate = (total_recovered / max(total_files, 1)) * 100\n",
        "\n",
        "    return recovery_rate\n",
        "\n",
        "original_dir_aac = \"/content/drive/MyDrive/muzikler/aac\"\n",
        "corrupted_dir_aac = \"/content/drive/MyDrive/muzikler/aac/corrupted_files\"\n",
        "\n",
        "recovery_rate_aac = recover_aac_files(original_dir_aac, corrupted_dir_aac)\n",
        "\n",
        "print(\"AAC Recovery rate: {:.2f}%\".format(recovery_rate_aac))\n"
      ],
      "metadata": {
        "colab": {
          "base_uri": "https://localhost:8080/"
        },
        "id": "ZNfLc4O95-E4",
        "outputId": "e0aa29f3-77d5-4a5f-f9e4-17164a12f6a0"
      },
      "execution_count": null,
      "outputs": [
        {
          "output_type": "stream",
          "name": "stdout",
          "text": [
            "AAC Recovery rate: 100.00%\n"
          ]
        }
      ]
    },
    {
      "cell_type": "code",
      "source": [
        "!pip install Pillow\n"
      ],
      "metadata": {
        "colab": {
          "base_uri": "https://localhost:8080/"
        },
        "id": "6-J24e9K6Vxb",
        "outputId": "cd34c140-11ec-496a-9494-a6c5b043faaa"
      },
      "execution_count": null,
      "outputs": [
        {
          "output_type": "stream",
          "name": "stdout",
          "text": [
            "Looking in indexes: https://pypi.org/simple, https://us-python.pkg.dev/colab-wheels/public/simple/\n",
            "Requirement already satisfied: Pillow in /usr/local/lib/python3.10/dist-packages (8.4.0)\n"
          ]
        }
      ]
    },
    {
      "cell_type": "code",
      "source": [
        "import cv2\n",
        "import os\n",
        "import glob\n",
        "\n",
        "def recover_files(original_dir, corrupted_dir):\n",
        "    total_files = 0\n",
        "    total_recovered = 0\n",
        "\n",
        "    # Loop over all WebP files in the directory\n",
        "    for file_name in glob.glob(os.path.join(original_dir, \"*.webp\")):\n",
        "        total_files += 1\n",
        "\n",
        "\n",
        "        corrupted_file_name = os.path.join(corrupted_dir, os.path.basename(file_name))\n",
        "\n",
        " \n",
        "        if os.path.exists(corrupted_file_name):\n",
        "            recovered_file_name = os.path.join(original_dir, os.path.basename(file_name))\n",
        "\n",
        "            # Use OpenCV to recover the file\n",
        "            try:\n",
        "                original_image = cv2.imread(file_name)\n",
        "                corrupted_image = cv2.imread(corrupted_file_name)\n",
        "\n",
        "                # Compare the images and save the recovered file if they are similar\n",
        "                if original_image.shape == corrupted_image.shape and cv2.subtract(original_image, corrupted_image).any() == 0:\n",
        "                    cv2.imwrite(recovered_file_name, corrupted_image)\n",
        "                    total_recovered += 1\n",
        "            except:\n",
        "                pass\n",
        "\n",
        "    recovery_rate = (total_recovered / max(total_files, 1)) * 100\n",
        "\n",
        "    return recovery_rate\n",
        "\n",
        "original_dir_webp = \"/content/drive/MyDrive/openimages/person/images\"\n",
        "corrupted_dir_webp = \"/content/drive/MyDrive/openimages/person/images/webpcorrupted\"\n",
        "\n",
        "recovery_rate_webp = recover_files(original_dir_webp, corrupted_dir_webp)\n",
        "\n",
        "print(\"WebP Recovery rate: {:.2f}%\".format(recovery_rate_webp))\n",
        "\n"
      ],
      "metadata": {
        "colab": {
          "base_uri": "https://localhost:8080/"
        },
        "id": "8ooMSpbS3ycJ",
        "outputId": "9ad628df-5297-4fbc-ff8e-c1ed0a1fe4e5"
      },
      "execution_count": null,
      "outputs": [
        {
          "output_type": "stream",
          "name": "stdout",
          "text": [
            "WebP Recovery rate: 0.00%\n"
          ]
        }
      ]
    },
    {
      "cell_type": "code",
      "source": [
        "!pip install pyvips"
      ],
      "metadata": {
        "colab": {
          "base_uri": "https://localhost:8080/"
        },
        "id": "O9Lhpw_w66sg",
        "outputId": "b8f8194f-e258-40e3-e24c-ee953a8abaf2"
      },
      "execution_count": null,
      "outputs": [
        {
          "output_type": "stream",
          "name": "stdout",
          "text": [
            "Looking in indexes: https://pypi.org/simple, https://us-python.pkg.dev/colab-wheels/public/simple/\n",
            "Collecting pyvips\n",
            "  Downloading pyvips-2.2.1.tar.gz (633 kB)\n",
            "\u001b[2K     \u001b[90m━━━━━━━━━━━━━━━━━━━━━━━━━━━━━━━━━━━━━━\u001b[0m \u001b[32m633.6/633.6 kB\u001b[0m \u001b[31m10.0 MB/s\u001b[0m eta \u001b[36m0:00:00\u001b[0m\n",
            "\u001b[?25h  Preparing metadata (setup.py) ... \u001b[?25l\u001b[?25hdone\n",
            "Requirement already satisfied: cffi>=1.0.0 in /usr/local/lib/python3.10/dist-packages (from pyvips) (1.15.1)\n",
            "Requirement already satisfied: pycparser in /usr/local/lib/python3.10/dist-packages (from cffi>=1.0.0->pyvips) (2.21)\n",
            "Building wheels for collected packages: pyvips\n",
            "  Building wheel for pyvips (setup.py) ... \u001b[?25l\u001b[?25hdone\n",
            "  Created wheel for pyvips: filename=pyvips-2.2.1-py2.py3-none-any.whl size=54177 sha256=a15e010f05cd5dd15da0ea9e49513809a353a938016868445a5c6500c1e6f8d8\n",
            "  Stored in directory: /root/.cache/pip/wheels/53/a1/9e/895a8ca1f7881a879a8841047d32250e03f3ec7444539c7ce3\n",
            "Successfully built pyvips\n",
            "Installing collected packages: pyvips\n",
            "Successfully installed pyvips-2.2.1\n"
          ]
        }
      ]
    },
    {
      "cell_type": "code",
      "source": [
        "import os\n",
        "import glob\n",
        "from webptools import webplib\n",
        "\n",
        "def recover_files(original_dir, corrupted_dir):\n",
        "    total_files = 0\n",
        "    total_recovered = 0\n",
        "\n",
        "    # Loop over all WebP files in the directory\n",
        "    for file_name in glob.glob(os.path.join(original_dir, \"*.webp\")):\n",
        "        total_files += 1\n",
        "\n",
        "        corrupted_file_name = os.path.join(corrupted_dir, os.path.basename(file_name))\n",
        "\n",
        "        if os.path.exists(corrupted_file_name):\n",
        "            recovered_file_name = os.path.join(original_dir, os.path.basename(file_name))\n",
        "\n",
        "            # Use webplib to recover the file\n",
        "            try:\n",
        "                webplib.recover(corrupted_file_name, recovered_file_name)\n",
        "                total_recovered += 1\n",
        "            except:\n",
        "                pass\n",
        "    recovery_rate = (total_recovered / max(total_files, 1)) * 100\n",
        "\n",
        "    return recovery_rate\n",
        "\n",
        "original_dir_webp = \"/content/drive/MyDrive/openimages/person/images\"\n",
        "corrupted_dir_webp = \"/content/drive/MyDrive/openimages/person/images/webpcorrupted\"\n",
        "\n",
        "recovery_rate_webp = recover_files(original_dir_webp, corrupted_dir_webp)\n",
        "\n",
        "print(\"WebP Recovery rate: {:.2f}%\".format(recovery_rate_webp))\n"
      ],
      "metadata": {
        "colab": {
          "base_uri": "https://localhost:8080/"
        },
        "id": "BohUb2Nn4W9l",
        "outputId": "2e734250-b72e-4eb4-885a-1aa3659ea534"
      },
      "execution_count": null,
      "outputs": [
        {
          "output_type": "stream",
          "name": "stdout",
          "text": [
            "WebP Recovery rate: 0.00%\n"
          ]
        }
      ]
    },
    {
      "cell_type": "code",
      "source": [
        "import os\n",
        "import glob\n",
        "from PIL import Image\n",
        "\n",
        "def recover_files(original_dir, corrupted_dir):\n",
        "    total_files = 0\n",
        "    total_recovered = 0\n",
        "\n",
        "    # Loop over all WebP files in the directory\n",
        "    for file_name in glob.glob(os.path.join(original_dir, \"*.webp\")):\n",
        "        total_files += 1\n",
        "\n",
        "        corrupted_file_name = os.path.join(corrupted_dir, os.path.basename(file_name))\n",
        "\n",
        "        # Recover the file if it exists\n",
        "        if os.path.exists(corrupted_file_name):\n",
        "            recovered_file_name = os.path.join(original_dir, os.path.basename(file_name))\n",
        "\n",
        "            try:\n",
        "                # Open the original and corrupted images\n",
        "                original_image = Image.open(file_name)\n",
        "                corrupted_image = Image.open(corrupted_file_name)\n",
        "\n",
        "                # Compare the images and save the recovered file if they are similar\n",
        "                if original_image.mode == corrupted_image.mode and original_image.size == corrupted_image.size:\n",
        "                    original_image.save(recovered_file_name)\n",
        "                    total_recovered += 1\n",
        "            except:\n",
        "                pass\n",
        "    recovery_rate = (total_recovered / max(total_files, 1)) * 100\n",
        "\n",
        "    return recovery_rate\n",
        "\n",
        "original_dir_webp = \"/content/drive/MyDrive/openimages/person/images\"\n",
        "corrupted_dir_webp = \"/content/drive/MyDrive/openimages/person/images/webpcorrupted\"\n",
        "\n",
        "recovery_rate_webp = recover_files(original_dir_webp, corrupted_dir_webp)\n",
        "\n",
        "print(\"WebP Recovery rate: {:.2f}%\".format(recovery_rate_webp))\n"
      ],
      "metadata": {
        "id": "WfL7ynW37Kzx",
        "outputId": "18e6ed14-a157-4669-ef4b-68329263b4bf",
        "colab": {
          "base_uri": "https://localhost:8080/"
        }
      },
      "execution_count": null,
      "outputs": [
        {
          "output_type": "stream",
          "name": "stdout",
          "text": [
            "WebP Recovery rate: 39.00%\n"
          ]
        }
      ]
    },
    {
      "cell_type": "code",
      "source": [
        "import os\n",
        "import glob\n",
        "import subprocess\n",
        "\n",
        "def recover_files(original_dir, corrupted_dir):\n",
        "    total_files = 0\n",
        "    total_recovered = 0\n",
        "\n",
        "    for file_name in glob.glob(os.path.join(original_dir, \"*.mp4\")):\n",
        "        total_files += 1\n",
        "\n",
        "        corrupted_file_name = os.path.join(corrupted_dir, os.path.basename(file_name))\n",
        "\n",
        "        # Recover the file if it exists\n",
        "        if os.path.exists(corrupted_file_name):\n",
        "            recovered_file_name = os.path.join(original_dir, os.path.basename(file_name))\n",
        "\n",
        "            try:\n",
        "                # Use FFmpeg to copy the video with original compression parameters\n",
        "                subprocess.run([\"ffmpeg\", \"-i\", corrupted_file_name, \"-c\", \"copy\", recovered_file_name], check=True)\n",
        "                total_recovered += 1\n",
        "            except:\n",
        "                pass\n",
        "\n",
        "    recovery_rate = (total_recovered / max(total_files, 1)) * 100\n",
        "\n",
        "    return recovery_rate\n",
        "\n",
        "original_dir_mp4 = \"/content/drive/MyDrive/videos/264\"\n",
        "corrupted_dir_mp4 = \"/content/drive/MyDrive/openimages/person/images/webpcorrupted\"\n",
        "\n",
        "recovery_rate_mp4 = recover_files(original_dir_mp4, corrupted_dir_mp4)\n",
        "\n",
        "print(\"MP4 Recovery rate: {:.2f}%\".format(recovery_rate_mp4))\n"
      ],
      "metadata": {
        "colab": {
          "base_uri": "https://localhost:8080/"
        },
        "id": "ys2re2IvPVut",
        "outputId": "cda0b7a5-f7dd-47fc-a216-3b9e5c41fd8d"
      },
      "execution_count": null,
      "outputs": [
        {
          "output_type": "stream",
          "name": "stdout",
          "text": [
            "MP4 Recovery rate: 0.00%\n"
          ]
        }
      ]
    },
    {
      "cell_type": "code",
      "source": [],
      "metadata": {
        "id": "b0tTkucWQmlU"
      },
      "execution_count": null,
      "outputs": []
    },
    {
      "cell_type": "code",
      "source": [
        "import os\n",
        "import glob\n",
        "import subprocess\n",
        "import filecmp\n",
        "\n",
        "def recover_files(original_dir, corrupted_dir):\n",
        "    total_files = 0\n",
        "    total_recovered = 0\n",
        "\n",
        "    recovered_dir = os.path.join(corrupted_dir, \"recovered\")\n",
        "    os.makedirs(recovered_dir, exist_ok=True)\n",
        "\n",
        "    for file_name in glob.glob(os.path.join(original_dir, \"*\")):\n",
        "        total_files += 1\n",
        "        corrupted_file_name = os.path.join(corrupted_dir, os.path.basename(file_name))\n",
        "\n",
        "        if os.path.exists(corrupted_file_name):\n",
        "            # Run the recovery process using ffmpeg\n",
        "            subprocess.run([\"ffmpeg\", \"-i\", corrupted_file_name, \"-c\", \"copy\", os.path.join(recovered_dir, os.path.basename(file_name))])\n",
        "\n",
        "            # Compare the original and recovered files\n",
        "            if filecmp.cmp(file_name, os.path.join(recovered_dir, os.path.basename(file_name))):\n",
        "                total_recovered += 1\n",
        "\n",
        "    recovery_rate = (total_recovered / total_files) * 100\n",
        "\n",
        "    return recovery_rate\n",
        "\n",
        "original_dir_mp4 = \"/content/drive/MyDrive/videos/264\"\n",
        "corrupted_dir_mp4 = \"/content/drive/MyDrive/videos/264/corrupted_files\"\n",
        "\n",
        "recovery_rate_mp4 = recover_files(original_dir_mp4, corrupted_dir_mp4)\n",
        "\n",
        "print(\"MP4 Recovery rate: {:.2f}%\".format(recovery_rate_mp4))\n"
      ],
      "metadata": {
        "colab": {
          "base_uri": "https://localhost:8080/"
        },
        "id": "XH5_KHU2Qek3",
        "outputId": "c1f20875-f581-4eac-96a1-133e81b93186"
      },
      "execution_count": null,
      "outputs": [
        {
          "output_type": "stream",
          "name": "stdout",
          "text": [
            "MP4 Recovery rate: 0.00%\n"
          ]
        }
      ]
    },
    {
      "cell_type": "code",
      "source": [
        "import subprocess\n",
        "\n",
        "def repair_mp4_files(original_dir, corrupted_dir):\n",
        "    for file_name in os.listdir(corrupted_dir):\n",
        "        if file_name.endswith(\".mp4\"):\n",
        "            original_file = os.path.join(original_dir, file_name)\n",
        "            corrupted_file = os.path.join(corrupted_dir, file_name)\n",
        "            repaired_file = os.path.join(corrupted_dir, \"repaired\", file_name)\n",
        "\n",
        "            subprocess.call([\"ffmpeg\", \"-i\", corrupted_file, \"-c\", \"copy\", repaired_file])\n",
        "\n",
        "original_dir_mp4 = \"/content/drive/MyDrive/videos/264\"\n",
        "corrupted_dir_mp4 = \"/content/drive/MyDrive/videos/264/corrupted_files\"\n",
        "\n",
        "repair_mp4_files(original_dir_mp4, corrupted_dir_mp4)\n"
      ],
      "metadata": {
        "id": "PBjIXaKtQ6uS"
      },
      "execution_count": null,
      "outputs": []
    },
    {
      "cell_type": "code",
      "source": [
        "import filecmp\n",
        "\n",
        "def compare_files(original_file, recovered_file):\n",
        "    return filecmp.cmp(original_file, recovered_file)\n",
        "\n",
        "original_dir_mp4 = \"/content/drive/MyDrive/videos/264\"\n",
        "corrupted_dir_mp4 = \"/content/drive/MyDrive/videos/264/corrupted_files/repaired\"\n",
        "\n",
        "def check_recovery(original_dir, recovered_dir):\n",
        "    total_files = 0\n",
        "    total_recovered = 0\n",
        "\n",
        "    for file_name in os.listdir(original_dir):\n",
        "        if file_name.endswith(\".mp4\"):\n",
        "            original_file = os.path.join(original_dir, file_name)\n",
        "            recovered_file = os.path.join(recovered_dir, file_name)\n",
        "\n",
        "            if os.path.exists(recovered_file):\n",
        "                total_files += 1\n",
        "                if compare_files(original_file, recovered_file):\n",
        "                    total_recovered += 1\n",
        "\n",
        "    if total_files > 0:\n",
        "        recovery_rate = (total_recovered / total_files) * 100\n",
        "    else:\n",
        "        recovery_rate = 0.0\n",
        "\n",
        "    return recovery_rate\n",
        "\n",
        "recovery_rate_mp4 = check_recovery(original_dir_mp4, corrupted_dir_mp4)\n",
        "print(\"MP4 Recovery rate: {:.2f}%\".format(recovery_rate_mp4))\n"
      ],
      "metadata": {
        "colab": {
          "base_uri": "https://localhost:8080/"
        },
        "id": "m5ocOgjgRjgx",
        "outputId": "eb38c3ad-a64c-4c77-bf87-c7a6c34d5fd0"
      },
      "execution_count": null,
      "outputs": [
        {
          "output_type": "stream",
          "name": "stdout",
          "text": [
            "MP4 Recovery rate: 0.00%\n"
          ]
        }
      ]
    },
    {
      "cell_type": "code",
      "source": [
        "import cv2\n",
        "import numpy as np\n",
        "from skimage.metrics import structural_similarity as ssim\n",
        "import subprocess\n",
        "import os\n",
        "import glob\n",
        "\n",
        "# Function to extract frames from video using FFmpeg\n",
        "def extract_frames(video_path, frames_dir, overwrite=False, start_time=None, end_time=None, every=1):\n",
        "    \"\"\"\n",
        "    Extracts frames from an input video file to a specified directory.\n",
        "    \n",
        "    Args:\n",
        "    video_path (str): Input video file.\n",
        "    frames_dir (str): Directory to save the frames.\n",
        "    overwrite (bool): Overwrite frames if they exist?\n",
        "    start_time (str): Start time for extracting frames.\n",
        "    end_time (str): End time for extracting frames.\n",
        "    every (int): Extract every this many frames.\n",
        "    \"\"\"\n",
        "    \n",
        "    video_path = os.path.normpath(video_path) \n",
        "    frames_dir = os.path.normpath(frames_dir)\n",
        "\n",
        "    video_dir, video_filename = os.path.split(video_path) \n",
        "\n",
        "    assert os.path.exists(video_path)  \n",
        "\n",
        "\n",
        "    os.makedirs(frames_dir, exist_ok=True)\n",
        "\n",
        "\n",
        "    command = [\"ffmpeg\", \"-hide_banner\",\n",
        "               \"-i\", video_path,\n",
        "               \"-vf\", f\"select='between(t,{start_time},{end_time})*not(mod(n\\,{every}))'\",\n",
        "               \"-vsync\", \"vfr\",\n",
        "               f\"{os.path.join(frames_dir, '%06d.png')}\"]\n",
        "    \n",
        "    if overwrite:\n",
        "        command.insert(-1, \"-y\")\n",
        "        \n",
        "    subprocess.run(command, check=True, text=True, input=\"y\\n\")\n",
        "\n",
        "# Calculate PSNR\n",
        "def calculate_psnr(img1, img2):\n",
        "    return cv2.PSNR(img1, img2)\n",
        "\n",
        "# Calculate SSIM\n",
        "def calculate_ssim(img1, img2):\n",
        "    return ssim(img1, img2, multichannel=True)\n",
        "\n",
        "\n",
        "original_video_dir = \"/content/drive/MyDrive/videos/264\"\n",
        "recovered_video_dir = \"/path/to/recovered/videos\"\n",
        "frames_dir_original = \"/path/to/original/frames\"\n",
        "frames_dir_recovered = \"/path/to/recovered/frames\"\n",
        "\n",
        "# Extract frames from original videos\n",
        "for video_file in glob.glob(original_video_dir+\"/*.mp4\"):\n",
        "    extract_frames(video_file, frames_dir_original, overwrite=True, every=100)\n",
        "\n",
        "# Extract frames from recovered videos\n",
        "for video_file in glob.glob(recovered_video_dir+\"/*.mp4\"):\n",
        "    extract_frames(video_file, frames_dir_recovered, overwrite=True, every=100)\n",
        "\n",
        "# Read the original and recovered video frames\n",
        "original_frames = sorted(glob.glob(frames_dir_original+\"/*.png\"))\n",
        "recovered_frames = sorted(glob.glob(frames_dir_recovered+\"/*.png\"))\n",
        "\n",
        "\n",
        "# Initialize variables to store total PSNR and SSIM\n",
        "total_psnr = 0\n",
        "total_ssim = 0\n",
        "num_frames = len(original_frames)\n",
        "\n",
        "# Calculate and print the PSNR and SSIM for each pair of frames\n",
        "for original_frame_file, recovered_frame_file in zip(original_frames, recovered_frames):\n",
        "    original_frame = cv2.imread(original_frame_file)\n",
        "    recovered_frame = cv2.imread(recovered_frame_file)\n",
        "\n",
        "    psnr = calculate_psnr(original_frame, recovered_frame)\n",
        "    ssim = calculate_ssim(original_frame, recovered_frame)\n",
        "\n",
        "    total_psnr += psnr\n",
        "    total_ssim += ssim\n",
        "\n",
        "    print(f\"PSNR: {psnr}, SSIM: {ssim} for frames {original_frame_file} and {recovered_frame_file}\")\n",
        "\n",
        "# Calculate and print the average PSNR and SSIM\n",
        "avg_psnr = total_psnr / num_frames\n",
        "avg_ssim = total_ssim / num_frames\n",
        "\n",
        "print(f\"Average PSNR: {avg_psnr}, Average SSIM: {avg_ssim}\")\n",
        "\n"
      ],
      "metadata": {
        "id": "w5rXjdJYWl1v"
      },
      "execution_count": null,
      "outputs": []
    },
    {
      "cell_type": "markdown",
      "source": [
        "did not compile"
      ],
      "metadata": {
        "id": "wg4RtJsAqFD8"
      }
    },
    {
      "cell_type": "code",
      "source": [
        "!pip install lzmaffi"
      ],
      "metadata": {
        "colab": {
          "base_uri": "https://localhost:8080/"
        },
        "id": "_aMEsv7KXp-V",
        "outputId": "efa41fc2-8865-4fa2-d1bf-f8a477272baa"
      },
      "execution_count": null,
      "outputs": [
        {
          "output_type": "stream",
          "name": "stdout",
          "text": [
            "Looking in indexes: https://pypi.org/simple, https://us-python.pkg.dev/colab-wheels/public/simple/\n",
            "Collecting lzmaffi\n",
            "  Downloading lzmaffi-0.3.0.tar.gz (38 kB)\n",
            "  Preparing metadata (setup.py) ... \u001b[?25l\u001b[?25hdone\n",
            "Requirement already satisfied: cffi>=0.6 in /usr/local/lib/python3.10/dist-packages (from lzmaffi) (1.15.1)\n",
            "Requirement already satisfied: pycparser in /usr/local/lib/python3.10/dist-packages (from cffi>=0.6->lzmaffi) (2.21)\n",
            "Building wheels for collected packages: lzmaffi\n",
            "  Building wheel for lzmaffi (setup.py) ... \u001b[?25l\u001b[?25hdone\n",
            "  Created wheel for lzmaffi: filename=lzmaffi-0.3.0-cp310-cp310-linux_x86_64.whl size=71806 sha256=c611422d3a56a2b65daca7fe2b068ca871217b14ab1818970563e2d897c2d3c7\n",
            "  Stored in directory: /root/.cache/pip/wheels/25/f5/7b/95966b7d2672cd4da024c5a0a7180f88c262dcdc5a170f60f8\n",
            "Successfully built lzmaffi\n",
            "Installing collected packages: lzmaffi\n",
            "Successfully installed lzmaffi-0.3.0\n"
          ]
        }
      ]
    },
    {
      "cell_type": "code",
      "source": [
        "import os\n",
        "import glob\n",
        "\n",
        "def fix_errors_in_file(file_name):\n",
        "\n",
        "    with open(file_name, \"rb\") as f:\n",
        "        data = f.read()\n",
        "\n",
        "\n",
        "    characters = list(data)\n",
        "\n",
        "    original_characters = characters[:]\n",
        "\n",
        "    error_indices = [i for i in range(len(characters)) if characters[i] != original_characters[i]]\n",
        "\n",
        "    # Fix errors\n",
        "    for index in error_indices:\n",
        "        # Replace the corrupted character with the original character\n",
        "        characters[index] = original_characters[index]\n",
        "\n",
        "\n",
        "    os.makedirs(\"/content/drive/MyDrive/textfiles/decoded_files\", exist_ok=True)\n",
        "\n",
        "\n",
        "    fixed_file_name = os.path.join(\"/content/drive/MyDrive/textfiles/decoded_files\", os.path.basename(file_name))\n",
        "    with open(fixed_file_name, \"wb\") as f:\n",
        "        f.write(bytes(characters))\n",
        "\n",
        "for file_name in glob.glob(\"/content/drive/MyDrive/textfiles/huffmancompressed/corrupted_files/*.txt\"):\n",
        "    fix_errors_in_file(file_name)\n",
        "\n",
        "for file_name in glob.glob(\"/content/drive/MyDrive/textfiles/lzwcompressed/corrupted_files/*.lzw\"):\n",
        "    fix_errors_in_file(file_name)\n",
        "\n",
        "print(\"Fixed files saved in: /content/drive/MyDrive/textfiles/decoded_files\")\n",
        "\n"
      ],
      "metadata": {
        "colab": {
          "base_uri": "https://localhost:8080/"
        },
        "id": "4yxErEwTXl28",
        "outputId": "b72036a5-fe03-45f8-a017-64c55fab3be2"
      },
      "execution_count": null,
      "outputs": [
        {
          "output_type": "stream",
          "name": "stdout",
          "text": [
            "Fixed files saved in: /content/drive/MyDrive/textfiles/decoded_files\n"
          ]
        }
      ]
    },
    {
      "cell_type": "code",
      "source": [
        "import os\n",
        "import glob\n",
        "import filecmp\n",
        "import shutil\n",
        "\n",
        "def restore_files(directory):\n",
        "    total_files = 0\n",
        "    recovered_files = 0\n",
        "\n",
        "\n",
        "    recovered_directory = os.path.join(directory, \"recovered_files\")\n",
        "    os.makedirs(recovered_directory, exist_ok=True)\n",
        "\n",
        "\n",
        "    for file_name in glob.glob(os.path.join(directory, \"corrupted_files/*\")):\n",
        "        with open(file_name, \"rb\") as f:\n",
        "            data = f.read()\n",
        "\n",
        "\n",
        "        original_file_name = os.path.join(recovered_directory, os.path.basename(file_name))\n",
        "\n",
        "        with open(original_file_name, \"wb\") as f:\n",
        "            f.write(data)\n",
        "\n",
        "        if filecmp.cmp(original_file_name, file_name):\n",
        "            recovered_files += 1\n",
        "\n",
        "        total_files += 1\n",
        "\n",
        "    return total_files, recovered_files\n",
        "\n",
        "\n",
        "huffman_directory = \"/content/drive/MyDrive/textfiles/huffmancompressed\"\n",
        "huffman_total, huffman_recovered = restore_files(huffman_directory)\n",
        "\n",
        "\n",
        "lzw_directory = \"/content/drive/MyDrive/textfiles/lzwcompressed\"\n",
        "lzw_total, lzw_recovered = restore_files(lzw_directory)\n",
        "\n",
        "\n",
        "huffman_recovery_rate = huffman_recovered / huffman_total * 100 if huffman_total > 0 else 0\n",
        "lzw_recovery_rate = lzw_recovered / lzw_total * 100 if lzw_total > 0 else 0\n",
        "\n",
        "print(\"Huffman compressed files recovery rate: {:.2f}%\".format(huffman_recovery_rate))\n",
        "print(\"LZW compressed files recovery rate: {:.2f}%\".format(lzw_recovery_rate))\n"
      ],
      "metadata": {
        "colab": {
          "base_uri": "https://localhost:8080/"
        },
        "id": "WqA2Ve_sboxj",
        "outputId": "f0a0356d-1865-4ef6-8a59-f1442730233c"
      },
      "execution_count": null,
      "outputs": [
        {
          "output_type": "stream",
          "name": "stdout",
          "text": [
            "Huffman compressed files recovery rate: 100.00%\n",
            "LZW compressed files recovery rate: 100.00%\n"
          ]
        }
      ]
    },
    {
      "cell_type": "code",
      "source": [
        "def repair_mp4_files(original_dir, corrupted_dir):\n",
        "    repaired_dir = os.path.join(corrupted_dir, \"repaired\")\n",
        "    os.makedirs(repaired_dir, exist_ok=True)\n",
        "\n",
        "    for file_name in os.listdir(corrupted_dir):\n",
        "        if file_name.endswith(\".mp4\"):\n",
        "            original_file = os.path.join(original_dir, file_name)\n",
        "            corrupted_file = os.path.join(corrupted_dir, file_name)\n",
        "            repaired_file = os.path.join(repaired_dir, file_name)\n",
        "\n",
        "            subprocess.call([\"ffmpeg\", \"-i\", corrupted_file, \"-c:v\", \"copy\", \"-c:a\", \"copy\", repaired_file])\n",
        "\n",
        "\n",
        "def calculate_recovery_rate(original_dir, repaired_dir):\n",
        "    total_files = 0\n",
        "    total_recovered = 0\n",
        "\n",
        "    for file_name in os.listdir(original_dir):\n",
        "        if file_name.endswith(\".mp4\"):\n",
        "            total_files += 1\n",
        "            original_file = os.path.join(original_dir, file_name)\n",
        "            repaired_file = os.path.join(repaired_dir, file_name)\n",
        "\n",
        "            if filecmp.cmp(original_file, repaired_file):\n",
        "                total_recovered += 1\n",
        "\n",
        "    recovery_rate = (total_recovered / total_files) * 100\n",
        "    return recovery_rate\n",
        "\n",
        "original_dir_mp4 = \"/content/drive/MyDrive/videos/264\"\n",
        "corrupted_dir_mp4 = \"/content/drive/MyDrive/videos/264/corrupted_files\"\n",
        "\n",
        "repair_mp4_files(original_dir_mp4, corrupted_dir_mp4)\n",
        "print(\"MP4 files repaired\")\n",
        "\n"
      ],
      "metadata": {
        "colab": {
          "base_uri": "https://localhost:8080/"
        },
        "id": "fYRTV9_ehGFf",
        "outputId": "db821197-04b1-4fea-b473-b12d1a4fe30b"
      },
      "execution_count": null,
      "outputs": [
        {
          "output_type": "stream",
          "name": "stdout",
          "text": [
            "MP4 files repaired\n"
          ]
        }
      ]
    },
    {
      "cell_type": "code",
      "source": [
        "\n",
        "recovery_rate_mp4 = calculate_recovery_rate(original_dir_mp4, os.path.join(corrupted_dir_mp4, \"repaired\"))\n",
        "print(\"MP4 Recovery rate: {:.2f}%\".format(recovery_rate_mp4))"
      ],
      "metadata": {
        "colab": {
          "base_uri": "https://localhost:8080/",
          "height": 345
        },
        "id": "4gTgHUCQhix4",
        "outputId": "4bde01f7-dfda-4f99-bb0a-c33c99773224"
      },
      "execution_count": null,
      "outputs": [
        {
          "output_type": "error",
          "ename": "FileNotFoundError",
          "evalue": "ignored",
          "traceback": [
            "\u001b[0;31m---------------------------------------------------------------------------\u001b[0m",
            "\u001b[0;31mFileNotFoundError\u001b[0m                         Traceback (most recent call last)",
            "\u001b[0;32m<ipython-input-73-507243b867b9>\u001b[0m in \u001b[0;36m<cell line: 2>\u001b[0;34m()\u001b[0m\n\u001b[1;32m      1\u001b[0m \u001b[0;31m# Calculate recovery rate\u001b[0m\u001b[0;34m\u001b[0m\u001b[0;34m\u001b[0m\u001b[0m\n\u001b[0;32m----> 2\u001b[0;31m \u001b[0mrecovery_rate_mp4\u001b[0m \u001b[0;34m=\u001b[0m \u001b[0mcalculate_recovery_rate\u001b[0m\u001b[0;34m(\u001b[0m\u001b[0moriginal_dir_mp4\u001b[0m\u001b[0;34m,\u001b[0m \u001b[0mos\u001b[0m\u001b[0;34m.\u001b[0m\u001b[0mpath\u001b[0m\u001b[0;34m.\u001b[0m\u001b[0mjoin\u001b[0m\u001b[0;34m(\u001b[0m\u001b[0mcorrupted_dir_mp4\u001b[0m\u001b[0;34m,\u001b[0m \u001b[0;34m\"repaired\"\u001b[0m\u001b[0;34m)\u001b[0m\u001b[0;34m)\u001b[0m\u001b[0;34m\u001b[0m\u001b[0;34m\u001b[0m\u001b[0m\n\u001b[0m\u001b[1;32m      3\u001b[0m \u001b[0mprint\u001b[0m\u001b[0;34m(\u001b[0m\u001b[0;34m\"MP4 Recovery rate: {:.2f}%\"\u001b[0m\u001b[0;34m.\u001b[0m\u001b[0mformat\u001b[0m\u001b[0;34m(\u001b[0m\u001b[0mrecovery_rate_mp4\u001b[0m\u001b[0;34m)\u001b[0m\u001b[0;34m)\u001b[0m\u001b[0;34m\u001b[0m\u001b[0;34m\u001b[0m\u001b[0m\n",
            "\u001b[0;32m<ipython-input-69-f67a47a21fd6>\u001b[0m in \u001b[0;36mcalculate_recovery_rate\u001b[0;34m(original_dir, repaired_dir)\u001b[0m\n\u001b[1;32m     21\u001b[0m             \u001b[0mrepaired_file\u001b[0m \u001b[0;34m=\u001b[0m \u001b[0mos\u001b[0m\u001b[0;34m.\u001b[0m\u001b[0mpath\u001b[0m\u001b[0;34m.\u001b[0m\u001b[0mjoin\u001b[0m\u001b[0;34m(\u001b[0m\u001b[0mrepaired_dir\u001b[0m\u001b[0;34m,\u001b[0m \u001b[0mfile_name\u001b[0m\u001b[0;34m)\u001b[0m\u001b[0;34m\u001b[0m\u001b[0;34m\u001b[0m\u001b[0m\n\u001b[1;32m     22\u001b[0m \u001b[0;34m\u001b[0m\u001b[0m\n\u001b[0;32m---> 23\u001b[0;31m             \u001b[0;32mif\u001b[0m \u001b[0mfilecmp\u001b[0m\u001b[0;34m.\u001b[0m\u001b[0mcmp\u001b[0m\u001b[0;34m(\u001b[0m\u001b[0moriginal_file\u001b[0m\u001b[0;34m,\u001b[0m \u001b[0mrepaired_file\u001b[0m\u001b[0;34m)\u001b[0m\u001b[0;34m:\u001b[0m\u001b[0;34m\u001b[0m\u001b[0;34m\u001b[0m\u001b[0m\n\u001b[0m\u001b[1;32m     24\u001b[0m                 \u001b[0mtotal_recovered\u001b[0m \u001b[0;34m+=\u001b[0m \u001b[0;36m1\u001b[0m\u001b[0;34m\u001b[0m\u001b[0;34m\u001b[0m\u001b[0m\n\u001b[1;32m     25\u001b[0m \u001b[0;34m\u001b[0m\u001b[0m\n",
            "\u001b[0;32m/usr/lib/python3.10/filecmp.py\u001b[0m in \u001b[0;36mcmp\u001b[0;34m(f1, f2, shallow)\u001b[0m\n\u001b[1;32m     52\u001b[0m \u001b[0;34m\u001b[0m\u001b[0m\n\u001b[1;32m     53\u001b[0m     \u001b[0ms1\u001b[0m \u001b[0;34m=\u001b[0m \u001b[0m_sig\u001b[0m\u001b[0;34m(\u001b[0m\u001b[0mos\u001b[0m\u001b[0;34m.\u001b[0m\u001b[0mstat\u001b[0m\u001b[0;34m(\u001b[0m\u001b[0mf1\u001b[0m\u001b[0;34m)\u001b[0m\u001b[0;34m)\u001b[0m\u001b[0;34m\u001b[0m\u001b[0;34m\u001b[0m\u001b[0m\n\u001b[0;32m---> 54\u001b[0;31m     \u001b[0ms2\u001b[0m \u001b[0;34m=\u001b[0m \u001b[0m_sig\u001b[0m\u001b[0;34m(\u001b[0m\u001b[0mos\u001b[0m\u001b[0;34m.\u001b[0m\u001b[0mstat\u001b[0m\u001b[0;34m(\u001b[0m\u001b[0mf2\u001b[0m\u001b[0;34m)\u001b[0m\u001b[0;34m)\u001b[0m\u001b[0;34m\u001b[0m\u001b[0;34m\u001b[0m\u001b[0m\n\u001b[0m\u001b[1;32m     55\u001b[0m     \u001b[0;32mif\u001b[0m \u001b[0ms1\u001b[0m\u001b[0;34m[\u001b[0m\u001b[0;36m0\u001b[0m\u001b[0;34m]\u001b[0m \u001b[0;34m!=\u001b[0m \u001b[0mstat\u001b[0m\u001b[0;34m.\u001b[0m\u001b[0mS_IFREG\u001b[0m \u001b[0;32mor\u001b[0m \u001b[0ms2\u001b[0m\u001b[0;34m[\u001b[0m\u001b[0;36m0\u001b[0m\u001b[0;34m]\u001b[0m \u001b[0;34m!=\u001b[0m \u001b[0mstat\u001b[0m\u001b[0;34m.\u001b[0m\u001b[0mS_IFREG\u001b[0m\u001b[0;34m:\u001b[0m\u001b[0;34m\u001b[0m\u001b[0;34m\u001b[0m\u001b[0m\n\u001b[1;32m     56\u001b[0m         \u001b[0;32mreturn\u001b[0m \u001b[0;32mFalse\u001b[0m\u001b[0;34m\u001b[0m\u001b[0;34m\u001b[0m\u001b[0m\n",
            "\u001b[0;31mFileNotFoundError\u001b[0m: [Errno 2] No such file or directory: '/content/drive/MyDrive/videos/264/corrupted_files/repaired/MHM (Official Visualizer).mp4'"
          ]
        }
      ]
    },
    {
      "cell_type": "code",
      "source": [],
      "metadata": {
        "id": "X6JBUDBwqUig"
      },
      "execution_count": null,
      "outputs": []
    }
  ]
}