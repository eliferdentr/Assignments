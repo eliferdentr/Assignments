{
  "nbformat": 4,
  "nbformat_minor": 0,
  "metadata": {
    "colab": {
      "provenance": [],
      "mount_file_id": "1Glg0JWGUCgcTZySvwYlvayIh2HTfoYoh",
      "authorship_tag": "ABX9TyObmmtd9kTQPex06E377MyR",
      "include_colab_link": true
    },
    "kernelspec": {
      "name": "python3",
      "display_name": "Python 3"
    },
    "language_info": {
      "name": "python"
    }
  },
  "cells": [
    {
      "cell_type": "markdown",
      "metadata": {
        "id": "view-in-github",
        "colab_type": "text"
      },
      "source": [
        "<a href=\"https://colab.research.google.com/github/eliferdentr/Assignments/blob/main/mp3aac.ipynb\" target=\"_parent\"><img src=\"https://colab.research.google.com/assets/colab-badge.svg\" alt=\"Open In Colab\"/></a>"
      ]
    },
    {
      "cell_type": "code",
      "source": [
        "!pip install pytube"
      ],
      "metadata": {
        "colab": {
          "base_uri": "https://localhost:8080/"
        },
        "id": "8af5UOUBDmKn",
        "outputId": "b366e14f-fcb6-4d07-9819-35ab4c41dcfd"
      },
      "execution_count": null,
      "outputs": [
        {
          "output_type": "stream",
          "name": "stdout",
          "text": [
            "Looking in indexes: https://pypi.org/simple, https://us-python.pkg.dev/colab-wheels/public/simple/\n",
            "Collecting pytube\n",
            "  Downloading pytube-15.0.0-py3-none-any.whl (57 kB)\n",
            "\u001b[2K     \u001b[90m━━━━━━━━━━━━━━━━━━━━━━━━━━━━━━━━━━━━━━━━\u001b[0m \u001b[32m57.6/57.6 kB\u001b[0m \u001b[31m2.2 MB/s\u001b[0m eta \u001b[36m0:00:00\u001b[0m\n",
            "\u001b[?25hInstalling collected packages: pytube\n",
            "Successfully installed pytube-15.0.0\n"
          ]
        }
      ]
    },
    {
      "cell_type": "code",
      "source": [
        "!pip install youtube"
      ],
      "metadata": {
        "colab": {
          "base_uri": "https://localhost:8080/"
        },
        "id": "ALWEUe9aEiir",
        "outputId": "bd7e6145-b643-479b-b380-970180bb1130"
      },
      "execution_count": null,
      "outputs": [
        {
          "output_type": "stream",
          "name": "stdout",
          "text": [
            "Looking in indexes: https://pypi.org/simple, https://us-python.pkg.dev/colab-wheels/public/simple/\n",
            "\u001b[31mERROR: Could not find a version that satisfies the requirement youtube (from versions: none)\u001b[0m\u001b[31m\n",
            "\u001b[0m\u001b[31mERROR: No matching distribution found for youtube\u001b[0m\u001b[31m\n",
            "\u001b[0m"
          ]
        }
      ]
    },
    {
      "cell_type": "code",
      "source": [
        "from pytube import YouTube"
      ],
      "metadata": {
        "id": "93mLd7IjExpm"
      },
      "execution_count": null,
      "outputs": []
    },
    {
      "cell_type": "code",
      "execution_count": null,
      "metadata": {
        "colab": {
          "base_uri": "https://localhost:8080/"
        },
        "id": "dH2AmGLUCBOg",
        "outputId": "59857028-764e-454b-ac0b-16068670d557"
      },
      "outputs": [
        {
          "output_type": "stream",
          "name": "stdout",
          "text": [
            "MoviePy - Writing audio in /content/drive/MyDrive/muzikler/(여자)아이들((G)I-DLE) - 퀸카 (Queencard) Official Music Video.mp3\n"
          ]
        },
        {
          "output_type": "stream",
          "name": "stderr",
          "text": []
        },
        {
          "output_type": "stream",
          "name": "stdout",
          "text": [
            "MoviePy - Done.\n",
            "/content/drive/MyDrive/muzikler/(여자)아이들((G)I-DLE) - 퀸카 (Queencard) Official Music Video.mp4 indirildi ve /content/drive/MyDrive/muzikler/(여자)아이들((G)I-DLE) - 퀸카 (Queencard) Official Music Video.mp3 olarak dönüştürüldü.\n",
            "MoviePy - Writing audio in /content/drive/MyDrive/muzikler/Idol.mp3\n"
          ]
        },
        {
          "output_type": "stream",
          "name": "stderr",
          "text": []
        },
        {
          "output_type": "stream",
          "name": "stdout",
          "text": [
            "MoviePy - Done.\n",
            "/content/drive/MyDrive/muzikler/Idol.mp4 indirildi ve /content/drive/MyDrive/muzikler/Idol.mp3 olarak dönüştürüldü.\n",
            "MoviePy - Writing audio in /content/drive/MyDrive/muzikler/I AM.mp3\n"
          ]
        },
        {
          "output_type": "stream",
          "name": "stderr",
          "text": []
        },
        {
          "output_type": "stream",
          "name": "stdout",
          "text": [
            "MoviePy - Done.\n",
            "/content/drive/MyDrive/muzikler/I AM.mp4 indirildi ve /content/drive/MyDrive/muzikler/I AM.mp3 olarak dönüştürüldü.\n",
            "MoviePy - Writing audio in /content/drive/MyDrive/muzikler/NIGHT DANCER (Korean Ver).mp3\n"
          ]
        },
        {
          "output_type": "stream",
          "name": "stderr",
          "text": []
        },
        {
          "output_type": "stream",
          "name": "stdout",
          "text": [
            "MoviePy - Done.\n",
            "/content/drive/MyDrive/muzikler/NIGHT DANCER (Korean Ver).mp4 indirildi ve /content/drive/MyDrive/muzikler/NIGHT DANCER (Korean Ver).mp3 olarak dönüştürüldü.\n",
            "MoviePy - Writing audio in /content/drive/MyDrive/muzikler/Spicy.mp3\n"
          ]
        },
        {
          "output_type": "stream",
          "name": "stderr",
          "text": []
        },
        {
          "output_type": "stream",
          "name": "stdout",
          "text": [
            "MoviePy - Done.\n",
            "/content/drive/MyDrive/muzikler/Spicy.mp4 indirildi ve /content/drive/MyDrive/muzikler/Spicy.mp3 olarak dönüştürüldü.\n",
            "MoviePy - Writing audio in /content/drive/MyDrive/muzikler/Cupid (Twin Version).mp3\n"
          ]
        },
        {
          "output_type": "stream",
          "name": "stderr",
          "text": []
        },
        {
          "output_type": "stream",
          "name": "stdout",
          "text": [
            "MoviePy - Done.\n",
            "/content/drive/MyDrive/muzikler/Cupid (Twin Version).mp4 indirildi ve /content/drive/MyDrive/muzikler/Cupid (Twin Version).mp3 olarak dönüştürüldü.\n",
            "MoviePy - Writing audio in /content/drive/MyDrive/muzikler/UNFORGIVEN.mp3\n"
          ]
        },
        {
          "output_type": "stream",
          "name": "stderr",
          "text": []
        },
        {
          "output_type": "stream",
          "name": "stdout",
          "text": [
            "MoviePy - Done.\n",
            "/content/drive/MyDrive/muzikler/UNFORGIVEN.mp4 indirildi ve /content/drive/MyDrive/muzikler/UNFORGIVEN.mp3 olarak dönüştürüldü.\n",
            "MoviePy - Writing audio in /content/drive/MyDrive/muzikler/Kitsch.mp3\n"
          ]
        },
        {
          "output_type": "stream",
          "name": "stderr",
          "text": []
        },
        {
          "output_type": "stream",
          "name": "stdout",
          "text": [
            "MoviePy - Done.\n",
            "/content/drive/MyDrive/muzikler/Kitsch.mp4 indirildi ve /content/drive/MyDrive/muzikler/Kitsch.mp3 olarak dönüştürüldü.\n",
            "MoviePy - Writing audio in /content/drive/MyDrive/muzikler/Eve Psyche & The Bluebeard’s wife.mp3\n"
          ]
        },
        {
          "output_type": "stream",
          "name": "stderr",
          "text": []
        },
        {
          "output_type": "stream",
          "name": "stdout",
          "text": [
            "MoviePy - Done.\n",
            "/content/drive/MyDrive/muzikler/Eve Psyche & The Bluebeard’s wife.mp4 indirildi ve /content/drive/MyDrive/muzikler/Eve Psyche & The Bluebeard’s wife.mp3 olarak dönüştürüldü.\n",
            "MoviePy - Writing audio in /content/drive/MyDrive/muzikler/손오공.mp3\n"
          ]
        },
        {
          "output_type": "stream",
          "name": "stderr",
          "text": []
        },
        {
          "output_type": "stream",
          "name": "stdout",
          "text": [
            "MoviePy - Done.\n",
            "/content/drive/MyDrive/muzikler/손오공.mp4 indirildi ve /content/drive/MyDrive/muzikler/손오공.mp3 olarak dönüştürüldü.\n",
            "MoviePy - Writing audio in /content/drive/MyDrive/muzikler/Flower.mp3\n"
          ]
        },
        {
          "output_type": "stream",
          "name": "stderr",
          "text": []
        },
        {
          "output_type": "stream",
          "name": "stdout",
          "text": [
            "MoviePy - Done.\n",
            "/content/drive/MyDrive/muzikler/Flower.mp4 indirildi ve /content/drive/MyDrive/muzikler/Flower.mp3 olarak dönüştürüldü.\n",
            "MoviePy - Writing audio in /content/drive/MyDrive/muzikler/Hype Boy (Performance ver1).mp3\n"
          ]
        },
        {
          "output_type": "stream",
          "name": "stderr",
          "text": []
        },
        {
          "output_type": "stream",
          "name": "stdout",
          "text": [
            "MoviePy - Done.\n",
            "/content/drive/MyDrive/muzikler/Hype Boy (Performance ver1).mp4 indirildi ve /content/drive/MyDrive/muzikler/Hype Boy (Performance ver1).mp3 olarak dönüştürüldü.\n",
            "MoviePy - Writing audio in /content/drive/MyDrive/muzikler/OMG.mp3\n"
          ]
        },
        {
          "output_type": "stream",
          "name": "stderr",
          "text": []
        },
        {
          "output_type": "stream",
          "name": "stdout",
          "text": [
            "MoviePy - Done.\n",
            "/content/drive/MyDrive/muzikler/OMG.mp4 indirildi ve /content/drive/MyDrive/muzikler/OMG.mp3 olarak dönüştürüldü.\n",
            "MoviePy - Writing audio in /content/drive/MyDrive/muzikler/Ditto.mp3\n"
          ]
        },
        {
          "output_type": "stream",
          "name": "stderr",
          "text": []
        },
        {
          "output_type": "stream",
          "name": "stdout",
          "text": [
            "MoviePy - Done.\n",
            "/content/drive/MyDrive/muzikler/Ditto.mp4 indirildi ve /content/drive/MyDrive/muzikler/Ditto.mp3 olarak dönüştürüldü.\n",
            "MoviePy - Writing audio in /content/drive/MyDrive/muzikler/KNOCK.mp3\n"
          ]
        },
        {
          "output_type": "stream",
          "name": "stderr",
          "text": []
        },
        {
          "output_type": "stream",
          "name": "stdout",
          "text": [
            "MoviePy - Done.\n",
            "/content/drive/MyDrive/muzikler/KNOCK.mp4 indirildi ve /content/drive/MyDrive/muzikler/KNOCK.mp3 olarak dönüştürüldü.\n",
            "MoviePy - Writing audio in /content/drive/MyDrive/muzikler/[최초 공개] DK (디셈버) - 心 (심).mp3\n"
          ]
        },
        {
          "output_type": "stream",
          "name": "stderr",
          "text": []
        },
        {
          "output_type": "stream",
          "name": "stdout",
          "text": [
            "MoviePy - Done.\n",
            "/content/drive/MyDrive/muzikler/[최초 공개] DK (디셈버) - 心 (심).mp4 indirildi ve /content/drive/MyDrive/muzikler/[최초 공개] DK (디셈버) - 心 (심).mp3 olarak dönüştürüldü.\n",
            "MoviePy - Writing audio in /content/drive/MyDrive/muzikler/Dangerously.mp3\n"
          ]
        },
        {
          "output_type": "stream",
          "name": "stderr",
          "text": []
        },
        {
          "output_type": "stream",
          "name": "stdout",
          "text": [
            "MoviePy - Done.\n",
            "/content/drive/MyDrive/muzikler/Dangerously.mp4 indirildi ve /content/drive/MyDrive/muzikler/Dangerously.mp3 olarak dönüştürüldü.\n",
            "MoviePy - Writing audio in /content/drive/MyDrive/muzikler/Part of Your World (From The Little MermaidVisualizer Video).mp3\n"
          ]
        },
        {
          "output_type": "stream",
          "name": "stderr",
          "text": []
        },
        {
          "output_type": "stream",
          "name": "stdout",
          "text": [
            "MoviePy - Done.\n",
            "/content/drive/MyDrive/muzikler/Part of Your World (From The Little MermaidVisualizer Video).mp4 indirildi ve /content/drive/MyDrive/muzikler/Part of Your World (From The Little MermaidVisualizer Video).mp3 olarak dönüştürüldü.\n",
            "MoviePy - Writing audio in /content/drive/MyDrive/muzikler/Teddy Bear.mp3\n"
          ]
        },
        {
          "output_type": "stream",
          "name": "stderr",
          "text": []
        },
        {
          "output_type": "stream",
          "name": "stdout",
          "text": [
            "MoviePy - Done.\n",
            "/content/drive/MyDrive/muzikler/Teddy Bear.mp4 indirildi ve /content/drive/MyDrive/muzikler/Teddy Bear.mp3 olarak dönüştürüldü.\n",
            "MoviePy - Writing audio in /content/drive/MyDrive/muzikler/파이팅 해야지.mp3\n"
          ]
        },
        {
          "output_type": "stream",
          "name": "stderr",
          "text": []
        },
        {
          "output_type": "stream",
          "name": "stdout",
          "text": [
            "MoviePy - Done.\n",
            "/content/drive/MyDrive/muzikler/파이팅 해야지.mp4 indirildi ve /content/drive/MyDrive/muzikler/파이팅 해야지.mp3 olarak dönüştürüldü.\n",
            "MoviePy - Writing audio in /content/drive/MyDrive/muzikler/I Don’t Think That I Like Her.mp3\n"
          ]
        },
        {
          "output_type": "stream",
          "name": "stderr",
          "text": []
        },
        {
          "output_type": "stream",
          "name": "stdout",
          "text": [
            "MoviePy - Done.\n",
            "/content/drive/MyDrive/muzikler/I Don’t Think That I Like Her.mp4 indirildi ve /content/drive/MyDrive/muzikler/I Don’t Think That I Like Her.mp3 olarak dönüştürüldü.\n",
            "MoviePy - Writing audio in /content/drive/MyDrive/muzikler/After LIKE.mp3\n"
          ]
        },
        {
          "output_type": "stream",
          "name": "stderr",
          "text": []
        },
        {
          "output_type": "stream",
          "name": "stdout",
          "text": [
            "MoviePy - Done.\n",
            "/content/drive/MyDrive/muzikler/After LIKE.mp4 indirildi ve /content/drive/MyDrive/muzikler/After LIKE.mp3 olarak dönüştürüldü.\n",
            "MoviePy - Writing audio in /content/drive/MyDrive/muzikler/Ai Wo Tsutaetaidatoka.mp3\n"
          ]
        },
        {
          "output_type": "stream",
          "name": "stderr",
          "text": []
        },
        {
          "output_type": "stream",
          "name": "stdout",
          "text": [
            "MoviePy - Done.\n",
            "/content/drive/MyDrive/muzikler/Ai Wo Tsutaetaidatoka.mp4 indirildi ve /content/drive/MyDrive/muzikler/Ai Wo Tsutaetaidatoka.mp3 olarak dönüştürüldü.\n",
            "MoviePy - Writing audio in /content/drive/MyDrive/muzikler/Allergy.mp3\n"
          ]
        },
        {
          "output_type": "stream",
          "name": "stderr",
          "text": []
        },
        {
          "output_type": "stream",
          "name": "stdout",
          "text": [
            "MoviePy - Done.\n",
            "/content/drive/MyDrive/muzikler/Allergy.mp4 indirildi ve /content/drive/MyDrive/muzikler/Allergy.mp3 olarak dönüştürüldü.\n",
            "MoviePy - Writing audio in /content/drive/MyDrive/muzikler/Attention.mp3\n"
          ]
        },
        {
          "output_type": "stream",
          "name": "stderr",
          "text": []
        },
        {
          "output_type": "stream",
          "name": "stdout",
          "text": [
            "MoviePy - Done.\n",
            "/content/drive/MyDrive/muzikler/Attention.mp4 indirildi ve /content/drive/MyDrive/muzikler/Attention.mp3 olarak dönüştürüldü.\n",
            "MoviePy - Writing audio in /content/drive/MyDrive/muzikler/ANTIFRAGILE.mp3\n"
          ]
        },
        {
          "output_type": "stream",
          "name": "stderr",
          "text": []
        },
        {
          "output_type": "stream",
          "name": "stdout",
          "text": [
            "MoviePy - Done.\n",
            "/content/drive/MyDrive/muzikler/ANTIFRAGILE.mp4 indirildi ve /content/drive/MyDrive/muzikler/ANTIFRAGILE.mp3 olarak dönüştürüldü.\n",
            "MoviePy - Writing audio in /content/drive/MyDrive/muzikler/Thirsty.mp3\n"
          ]
        },
        {
          "output_type": "stream",
          "name": "stderr",
          "text": []
        },
        {
          "output_type": "stream",
          "name": "stdout",
          "text": [
            "MoviePy - Done.\n",
            "/content/drive/MyDrive/muzikler/Thirsty.mp4 indirildi ve /content/drive/MyDrive/muzikler/Thirsty.mp3 olarak dönüştürüldü.\n",
            "MoviePy - Writing audio in /content/drive/MyDrive/muzikler/Love Me Like This.mp3\n"
          ]
        },
        {
          "output_type": "stream",
          "name": "stderr",
          "text": []
        },
        {
          "output_type": "stream",
          "name": "stdout",
          "text": [
            "MoviePy - Done.\n",
            "/content/drive/MyDrive/muzikler/Love Me Like This.mp4 indirildi ve /content/drive/MyDrive/muzikler/Love Me Like This.mp3 olarak dönüştürüldü.\n",
            "MoviePy - Writing audio in /content/drive/MyDrive/muzikler/Oort Cloud (오르트구름).mp3\n"
          ]
        },
        {
          "output_type": "stream",
          "name": "stderr",
          "text": []
        },
        {
          "output_type": "stream",
          "name": "stdout",
          "text": [
            "MoviePy - Done.\n",
            "/content/drive/MyDrive/muzikler/Oort Cloud (오르트구름).mp4 indirildi ve /content/drive/MyDrive/muzikler/Oort Cloud (오르트구름).mp3 olarak dönüştürüldü.\n",
            "MoviePy - Writing audio in /content/drive/MyDrive/muzikler/CHRISTIAN.mp3\n"
          ]
        },
        {
          "output_type": "stream",
          "name": "stderr",
          "text": []
        },
        {
          "output_type": "stream",
          "name": "stdout",
          "text": [
            "MoviePy - Done.\n",
            "/content/drive/MyDrive/muzikler/CHRISTIAN.mp4 indirildi ve /content/drive/MyDrive/muzikler/CHRISTIAN.mp3 olarak dönüştürüldü.\n",
            "MoviePy - Writing audio in /content/drive/MyDrive/muzikler/KICKBACK.mp3\n"
          ]
        },
        {
          "output_type": "stream",
          "name": "stderr",
          "text": []
        },
        {
          "output_type": "stream",
          "name": "stdout",
          "text": [
            "MoviePy - Done.\n",
            "/content/drive/MyDrive/muzikler/KICKBACK.mp4 indirildi ve /content/drive/MyDrive/muzikler/KICKBACK.mp3 olarak dönüştürüldü.\n",
            "MoviePy - Writing audio in /content/drive/MyDrive/muzikler/박재정(Parc Jae Jung) _ 헤어지자 말해요(Lets Say Goodbye).mp3\n"
          ]
        },
        {
          "output_type": "stream",
          "name": "stderr",
          "text": []
        },
        {
          "output_type": "stream",
          "name": "stdout",
          "text": [
            "MoviePy - Done.\n",
            "/content/drive/MyDrive/muzikler/박재정(Parc Jae Jung) _ 헤어지자 말해요(Lets Say Goodbye).mp4 indirildi ve /content/drive/MyDrive/muzikler/박재정(Parc Jae Jung) _ 헤어지자 말해요(Lets Say Goodbye).mp3 olarak dönüştürüldü.\n",
            "MoviePy - Writing audio in /content/drive/MyDrive/muzikler/Shut Down.mp3\n"
          ]
        },
        {
          "output_type": "stream",
          "name": "stderr",
          "text": []
        },
        {
          "output_type": "stream",
          "name": "stdout",
          "text": [
            "MoviePy - Done.\n",
            "/content/drive/MyDrive/muzikler/Shut Down.mp4 indirildi ve /content/drive/MyDrive/muzikler/Shut Down.mp3 olarak dönüştürüldü.\n",
            "MoviePy - Writing audio in /content/drive/MyDrive/muzikler/Pink Venom.mp3\n"
          ]
        },
        {
          "output_type": "stream",
          "name": "stderr",
          "text": []
        },
        {
          "output_type": "stream",
          "name": "stdout",
          "text": [
            "MoviePy - Done.\n",
            "/content/drive/MyDrive/muzikler/Pink Venom.mp4 indirildi ve /content/drive/MyDrive/muzikler/Pink Venom.mp3 olarak dönüştürüldü.\n",
            "MoviePy - Writing audio in /content/drive/MyDrive/muzikler/優里『ベテルギウス』Official Music Video.mp3\n"
          ]
        },
        {
          "output_type": "stream",
          "name": "stderr",
          "text": []
        },
        {
          "output_type": "stream",
          "name": "stdout",
          "text": [
            "MoviePy - Done.\n",
            "/content/drive/MyDrive/muzikler/優里『ベテルギウス』Official Music Video.mp4 indirildi ve /content/drive/MyDrive/muzikler/優里『ベテルギウス』Official Music Video.mp3 olarak dönüştürüldü.\n",
            "MoviePy - Writing audio in /content/drive/MyDrive/muzikler/Candy.mp3\n"
          ]
        },
        {
          "output_type": "stream",
          "name": "stderr",
          "text": []
        },
        {
          "output_type": "stream",
          "name": "stdout",
          "text": [
            "MoviePy - Done.\n",
            "/content/drive/MyDrive/muzikler/Candy.mp4 indirildi ve /content/drive/MyDrive/muzikler/Candy.mp3 olarak dönüştürüldü.\n",
            "MoviePy - Writing audio in /content/drive/MyDrive/muzikler/Heaven(2023).mp3\n"
          ]
        },
        {
          "output_type": "stream",
          "name": "stderr",
          "text": []
        },
        {
          "output_type": "stream",
          "name": "stdout",
          "text": [
            "MoviePy - Done.\n",
            "/content/drive/MyDrive/muzikler/Heaven(2023).mp4 indirildi ve /content/drive/MyDrive/muzikler/Heaven(2023).mp3 olarak dönüştürüldü.\n",
            "MoviePy - Writing audio in /content/drive/MyDrive/muzikler/[MV] LEE MU JIN(이무진) _ Ordinary Confession(잠깐 시간 될까).mp3\n"
          ]
        },
        {
          "output_type": "stream",
          "name": "stderr",
          "text": []
        },
        {
          "output_type": "stream",
          "name": "stdout",
          "text": [
            "MoviePy - Done.\n",
            "/content/drive/MyDrive/muzikler/[MV] LEE MU JIN(이무진) _ Ordinary Confession(잠깐 시간 될까).mp4 indirildi ve /content/drive/MyDrive/muzikler/[MV] LEE MU JIN(이무진) _ Ordinary Confession(잠깐 시간 될까).mp3 olarak dönüştürüldü.\n",
            "MoviePy - Writing audio in /content/drive/MyDrive/muzikler/Rose Blossom.mp3\n"
          ]
        },
        {
          "output_type": "stream",
          "name": "stderr",
          "text": []
        },
        {
          "output_type": "stream",
          "name": "stdout",
          "text": [
            "MoviePy - Done.\n",
            "/content/drive/MyDrive/muzikler/Rose Blossom.mp4 indirildi ve /content/drive/MyDrive/muzikler/Rose Blossom.mp3 olarak dönüştürüldü.\n",
            "MoviePy - Writing audio in /content/drive/MyDrive/muzikler/Suzume.mp3\n"
          ]
        },
        {
          "output_type": "stream",
          "name": "stderr",
          "text": []
        },
        {
          "output_type": "stream",
          "name": "stdout",
          "text": [
            "MoviePy - Done.\n",
            "/content/drive/MyDrive/muzikler/Suzume.mp4 indirildi ve /content/drive/MyDrive/muzikler/Suzume.mp3 olarak dönüştürüldü.\n",
            "MoviePy - Writing audio in /content/drive/MyDrive/muzikler/That’s Not How This Works.mp3\n"
          ]
        },
        {
          "output_type": "stream",
          "name": "stderr",
          "text": []
        },
        {
          "output_type": "stream",
          "name": "stdout",
          "text": [
            "MoviePy - Done.\n",
            "/content/drive/MyDrive/muzikler/That’s Not How This Works.mp4 indirildi ve /content/drive/MyDrive/muzikler/That’s Not How This Works.mp3 olarak dönüştürüldü.\n",
            "MoviePy - Writing audio in /content/drive/MyDrive/muzikler/When I Get Old.mp3\n"
          ]
        },
        {
          "output_type": "stream",
          "name": "stderr",
          "text": []
        },
        {
          "output_type": "stream",
          "name": "stdout",
          "text": [
            "MoviePy - Done.\n",
            "/content/drive/MyDrive/muzikler/When I Get Old.mp4 indirildi ve /content/drive/MyDrive/muzikler/When I Get Old.mp3 olarak dönüştürüldü.\n",
            "MoviePy - Writing audio in /content/drive/MyDrive/muzikler/My Ultimate First Love (부동의 첫사랑).mp3\n"
          ]
        },
        {
          "output_type": "stream",
          "name": "stderr",
          "text": []
        },
        {
          "output_type": "stream",
          "name": "stdout",
          "text": [
            "MoviePy - Done.\n",
            "/content/drive/MyDrive/muzikler/My Ultimate First Love (부동의 첫사랑).mp4 indirildi ve /content/drive/MyDrive/muzikler/My Ultimate First Love (부동의 첫사랑).mp3 olarak dönüştürüldü.\n",
            "MoviePy - Writing audio in /content/drive/MyDrive/muzikler/Marigold.mp3\n"
          ]
        },
        {
          "output_type": "stream",
          "name": "stderr",
          "text": []
        },
        {
          "output_type": "stream",
          "name": "stdout",
          "text": [
            "MoviePy - Done.\n",
            "/content/drive/MyDrive/muzikler/Marigold.mp4 indirildi ve /content/drive/MyDrive/muzikler/Marigold.mp3 olarak dönüştürüldü.\n",
            "MoviePy - Writing audio in /content/drive/MyDrive/muzikler/On Your Side.mp3\n"
          ]
        },
        {
          "output_type": "stream",
          "name": "stderr",
          "text": []
        },
        {
          "output_type": "stream",
          "name": "stdout",
          "text": [
            "MoviePy - Done.\n",
            "/content/drive/MyDrive/muzikler/On Your Side.mp4 indirildi ve /content/drive/MyDrive/muzikler/On Your Side.mp3 olarak dönüştürüldü.\n",
            "MoviePy - Writing audio in /content/drive/MyDrive/muzikler/Blue Flame.mp3\n"
          ]
        },
        {
          "output_type": "stream",
          "name": "stderr",
          "text": []
        },
        {
          "output_type": "stream",
          "name": "stdout",
          "text": [
            "MoviePy - Done.\n",
            "/content/drive/MyDrive/muzikler/Blue Flame.mp4 indirildi ve /content/drive/MyDrive/muzikler/Blue Flame.mp3 olarak dönüştürüldü.\n",
            "MoviePy - Writing audio in /content/drive/MyDrive/muzikler/DAY6 Time of Our Life(한 페이지가 될 수 있게) MV.mp3\n"
          ]
        },
        {
          "output_type": "stream",
          "name": "stderr",
          "text": []
        },
        {
          "output_type": "stream",
          "name": "stdout",
          "text": [
            "MoviePy - Done.\n",
            "/content/drive/MyDrive/muzikler/DAY6 Time of Our Life(한 페이지가 될 수 있게) MV.mp4 indirildi ve /content/drive/MyDrive/muzikler/DAY6 Time of Our Life(한 페이지가 될 수 있게) MV.mp3 olarak dönüştürüldü.\n",
            "MoviePy - Writing audio in /content/drive/MyDrive/muzikler/London Boy.mp3\n"
          ]
        },
        {
          "output_type": "stream",
          "name": "stderr",
          "text": []
        },
        {
          "output_type": "stream",
          "name": "stdout",
          "text": [
            "MoviePy - Done.\n",
            "/content/drive/MyDrive/muzikler/London Boy.mp4 indirildi ve /content/drive/MyDrive/muzikler/London Boy.mp3 olarak dönüştürüldü.\n",
            "MoviePy - Writing audio in /content/drive/MyDrive/muzikler/Polaroid.mp3\n"
          ]
        },
        {
          "output_type": "stream",
          "name": "stderr",
          "text": []
        },
        {
          "output_type": "stream",
          "name": "stdout",
          "text": [
            "MoviePy - Done.\n",
            "/content/drive/MyDrive/muzikler/Polaroid.mp4 indirildi ve /content/drive/MyDrive/muzikler/Polaroid.mp3 olarak dönüştürüldü.\n",
            "MoviePy - Writing audio in /content/drive/MyDrive/muzikler/Candy.mp3\n"
          ]
        },
        {
          "output_type": "stream",
          "name": "stderr",
          "text": []
        },
        {
          "output_type": "stream",
          "name": "stdout",
          "text": [
            "MoviePy - Done.\n",
            "/content/drive/MyDrive/muzikler/Candy.mp4 indirildi ve /content/drive/MyDrive/muzikler/Candy.mp3 olarak dönüştürüldü.\n",
            "MoviePy - Writing audio in /content/drive/MyDrive/muzikler/Boat.mp3\n"
          ]
        },
        {
          "output_type": "stream",
          "name": "stderr",
          "text": []
        },
        {
          "output_type": "stream",
          "name": "stdout",
          "text": [
            "MoviePy - Done.\n",
            "/content/drive/MyDrive/muzikler/Boat.mp4 indirildi ve /content/drive/MyDrive/muzikler/Boat.mp3 olarak dönüştürüldü.\n",
            "MoviePy - Writing audio in /content/drive/MyDrive/muzikler/Poppy.mp3\n"
          ]
        },
        {
          "output_type": "stream",
          "name": "stderr",
          "text": []
        },
        {
          "output_type": "stream",
          "name": "stdout",
          "text": [
            "MoviePy - Done.\n",
            "/content/drive/MyDrive/muzikler/Poppy.mp4 indirildi ve /content/drive/MyDrive/muzikler/Poppy.mp3 olarak dönüştürüldü.\n",
            "MoviePy - Writing audio in /content/drive/MyDrive/muzikler/Die For You (Remix).mp3\n"
          ]
        },
        {
          "output_type": "stream",
          "name": "stderr",
          "text": []
        },
        {
          "output_type": "stream",
          "name": "stdout",
          "text": [
            "MoviePy - Done.\n",
            "/content/drive/MyDrive/muzikler/Die For You (Remix).mp4 indirildi ve /content/drive/MyDrive/muzikler/Die For You (Remix).mp3 olarak dönüştürüldü.\n",
            "MoviePy - Writing audio in /content/drive/MyDrive/muzikler/빛이 나는 너에게(Dear My Light).mp3\n"
          ]
        },
        {
          "output_type": "stream",
          "name": "stderr",
          "text": []
        },
        {
          "output_type": "stream",
          "name": "stdout",
          "text": [
            "MoviePy - Done.\n",
            "/content/drive/MyDrive/muzikler/빛이 나는 너에게(Dear My Light).mp4 indirildi ve /content/drive/MyDrive/muzikler/빛이 나는 너에게(Dear My Light).mp3 olarak dönüştürüldü.\n",
            "MoviePy - Writing audio in /content/drive/MyDrive/muzikler/풍등.mp3\n"
          ]
        },
        {
          "output_type": "stream",
          "name": "stderr",
          "text": []
        },
        {
          "output_type": "stream",
          "name": "stdout",
          "text": [
            "MoviePy - Done.\n",
            "/content/drive/MyDrive/muzikler/풍등.mp4 indirildi ve /content/drive/MyDrive/muzikler/풍등.mp3 olarak dönüştürüldü.\n",
            "MoviePy - Writing audio in /content/drive/MyDrive/muzikler/[MV] KyoungSeo(경서) _ 120BPM(첫 키스에 내 심장은 120BPM).mp3\n"
          ]
        },
        {
          "output_type": "stream",
          "name": "stderr",
          "text": []
        },
        {
          "output_type": "stream",
          "name": "stdout",
          "text": [
            "MoviePy - Done.\n",
            "/content/drive/MyDrive/muzikler/[MV] KyoungSeo(경서) _ 120BPM(첫 키스에 내 심장은 120BPM).mp4 indirildi ve /content/drive/MyDrive/muzikler/[MV] KyoungSeo(경서) _ 120BPM(첫 키스에 내 심장은 120BPM).mp3 olarak dönüştürüldü.\n",
            "MoviePy - Writing audio in /content/drive/MyDrive/muzikler/Typa Girl.mp3\n"
          ]
        },
        {
          "output_type": "stream",
          "name": "stderr",
          "text": []
        },
        {
          "output_type": "stream",
          "name": "stdout",
          "text": [
            "MoviePy - Done.\n",
            "/content/drive/MyDrive/muzikler/Typa Girl.mp4 indirildi ve /content/drive/MyDrive/muzikler/Typa Girl.mp3 olarak dönüştürüldü.\n",
            "MoviePy - Writing audio in /content/drive/MyDrive/muzikler/HANGANG.mp3\n"
          ]
        },
        {
          "output_type": "stream",
          "name": "stderr",
          "text": []
        },
        {
          "output_type": "stream",
          "name": "stdout",
          "text": [
            "MoviePy - Done.\n",
            "/content/drive/MyDrive/muzikler/HANGANG.mp4 indirildi ve /content/drive/MyDrive/muzikler/HANGANG.mp3 olarak dönüştürüldü.\n",
            "MoviePy - Writing audio in /content/drive/MyDrive/muzikler/I Guess I Loved You.mp3\n"
          ]
        },
        {
          "output_type": "stream",
          "name": "stderr",
          "text": []
        },
        {
          "output_type": "stream",
          "name": "stdout",
          "text": [
            "MoviePy - Done.\n",
            "/content/drive/MyDrive/muzikler/I Guess I Loved You.mp4 indirildi ve /content/drive/MyDrive/muzikler/I Guess I Loved You.mp3 olarak dönüştürüldü.\n",
            "MoviePy - Writing audio in /content/drive/MyDrive/muzikler/Because I Dont Love You (사랑하지 않아서 그랬어).mp3\n"
          ]
        },
        {
          "output_type": "stream",
          "name": "stderr",
          "text": []
        },
        {
          "output_type": "stream",
          "name": "stdout",
          "text": [
            "MoviePy - Done.\n",
            "/content/drive/MyDrive/muzikler/Because I Dont Love You (사랑하지 않아서 그랬어).mp4 indirildi ve /content/drive/MyDrive/muzikler/Because I Dont Love You (사랑하지 않아서 그랬어).mp3 olarak dönüştürüldü.\n",
            "MoviePy - Writing audio in /content/drive/MyDrive/muzikler/Shoong!.mp3\n"
          ]
        },
        {
          "output_type": "stream",
          "name": "stderr",
          "text": []
        },
        {
          "output_type": "stream",
          "name": "stdout",
          "text": [
            "MoviePy - Done.\n",
            "/content/drive/MyDrive/muzikler/Shoong!.mp4 indirildi ve /content/drive/MyDrive/muzikler/Shoong!.mp3 olarak dönüştürüldü.\n",
            "MoviePy - Writing audio in /content/drive/MyDrive/muzikler/Wind And Wish.mp3\n"
          ]
        },
        {
          "output_type": "stream",
          "name": "stderr",
          "text": []
        },
        {
          "output_type": "stream",
          "name": "stdout",
          "text": [
            "MoviePy - Done.\n",
            "/content/drive/MyDrive/muzikler/Wind And Wish.mp4 indirildi ve /content/drive/MyDrive/muzikler/Wind And Wish.mp3 olarak dönüştürüldü.\n",
            "MoviePy - Writing audio in /content/drive/MyDrive/muzikler/Kimi Wa Rock Wo Kikanai.mp3\n"
          ]
        },
        {
          "output_type": "stream",
          "name": "stderr",
          "text": []
        },
        {
          "output_type": "stream",
          "name": "stdout",
          "text": [
            "MoviePy - Done.\n",
            "/content/drive/MyDrive/muzikler/Kimi Wa Rock Wo Kikanai.mp4 indirildi ve /content/drive/MyDrive/muzikler/Kimi Wa Rock Wo Kikanai.mp3 olarak dönüştürüldü.\n",
            "MoviePy - Writing audio in /content/drive/MyDrive/muzikler/Dont say Goodbye (안녕이라고 말하지마).mp3\n"
          ]
        },
        {
          "output_type": "stream",
          "name": "stderr",
          "text": []
        },
        {
          "output_type": "stream",
          "name": "stdout",
          "text": [
            "MoviePy - Done.\n",
            "/content/drive/MyDrive/muzikler/Dont say Goodbye (안녕이라고 말하지마).mp4 indirildi ve /content/drive/MyDrive/muzikler/Dont say Goodbye (안녕이라고 말하지마).mp3 olarak dönüştürüldü.\n",
            "MoviePy - Writing audio in /content/drive/MyDrive/muzikler/With you.mp3\n"
          ]
        },
        {
          "output_type": "stream",
          "name": "stderr",
          "text": []
        },
        {
          "output_type": "stream",
          "name": "stdout",
          "text": [
            "MoviePy - Done.\n",
            "/content/drive/MyDrive/muzikler/With you.mp4 indirildi ve /content/drive/MyDrive/muzikler/With you.mp3 olarak dönüştürüldü.\n",
            "MoviePy - Writing audio in /content/drive/MyDrive/muzikler/FRIEND THE END.mp3\n"
          ]
        },
        {
          "output_type": "stream",
          "name": "stderr",
          "text": []
        },
        {
          "output_type": "stream",
          "name": "stdout",
          "text": [
            "MoviePy - Done.\n",
            "/content/drive/MyDrive/muzikler/FRIEND THE END.mp4 indirildi ve /content/drive/MyDrive/muzikler/FRIEND THE END.mp3 olarak dönüştürüldü.\n",
            "MoviePy - Writing audio in /content/drive/MyDrive/muzikler/Only one for me.mp3\n"
          ]
        },
        {
          "output_type": "stream",
          "name": "stderr",
          "text": []
        },
        {
          "output_type": "stream",
          "name": "stdout",
          "text": [
            "MoviePy - Done.\n",
            "/content/drive/MyDrive/muzikler/Only one for me.mp4 indirildi ve /content/drive/MyDrive/muzikler/Only one for me.mp3 olarak dönüştürüldü.\n",
            "MoviePy - Writing audio in /content/drive/MyDrive/muzikler/다시 사랑한다면 (니글니글 버터플라이).mp3\n"
          ]
        },
        {
          "output_type": "stream",
          "name": "stderr",
          "text": []
        },
        {
          "output_type": "stream",
          "name": "stdout",
          "text": [
            "MoviePy - Done.\n",
            "/content/drive/MyDrive/muzikler/다시 사랑한다면 (니글니글 버터플라이).mp4 indirildi ve /content/drive/MyDrive/muzikler/다시 사랑한다면 (니글니글 버터플라이).mp3 olarak dönüştürüldü.\n",
            "MoviePy - Writing audio in /content/drive/MyDrive/muzikler/Until I Found You.mp3\n"
          ]
        },
        {
          "output_type": "stream",
          "name": "stderr",
          "text": []
        },
        {
          "output_type": "stream",
          "name": "stdout",
          "text": [
            "MoviePy - Done.\n",
            "/content/drive/MyDrive/muzikler/Until I Found You.mp4 indirildi ve /content/drive/MyDrive/muzikler/Until I Found You.mp3 olarak dönüştürüldü.\n",
            "MoviePy - Writing audio in /content/drive/MyDrive/muzikler/Bite Me.mp3\n"
          ]
        },
        {
          "output_type": "stream",
          "name": "stderr",
          "text": []
        },
        {
          "output_type": "stream",
          "name": "stdout",
          "text": [
            "MoviePy - Done.\n",
            "/content/drive/MyDrive/muzikler/Bite Me.mp4 indirildi ve /content/drive/MyDrive/muzikler/Bite Me.mp3 olarak dönüştürüldü.\n",
            "MoviePy - Writing audio in /content/drive/MyDrive/muzikler/LoveWhat is it.mp3\n"
          ]
        },
        {
          "output_type": "stream",
          "name": "stderr",
          "text": []
        },
        {
          "output_type": "stream",
          "name": "stdout",
          "text": [
            "MoviePy - Done.\n",
            "/content/drive/MyDrive/muzikler/LoveWhat is it.mp4 indirildi ve /content/drive/MyDrive/muzikler/LoveWhat is it.mp3 olarak dönüştürüldü.\n",
            "MoviePy - Writing audio in /content/drive/MyDrive/muzikler/The Wall Live.mp3\n"
          ]
        },
        {
          "output_type": "stream",
          "name": "stderr",
          "text": []
        },
        {
          "output_type": "stream",
          "name": "stdout",
          "text": [
            "MoviePy - Done.\n",
            "/content/drive/MyDrive/muzikler/The Wall Live.mp4 indirildi ve /content/drive/MyDrive/muzikler/The Wall Live.mp3 olarak dönüştürüldü.\n",
            "MoviePy - Writing audio in /content/drive/MyDrive/muzikler/IVE 아이브 WAVE MV.mp3\n"
          ]
        },
        {
          "output_type": "stream",
          "name": "stderr",
          "text": []
        },
        {
          "output_type": "stream",
          "name": "stdout",
          "text": [
            "MoviePy - Done.\n",
            "/content/drive/MyDrive/muzikler/IVE 아이브 WAVE MV.mp4 indirildi ve /content/drive/MyDrive/muzikler/IVE 아이브 WAVE MV.mp3 olarak dönüştürüldü.\n",
            "MoviePy - Writing audio in /content/drive/MyDrive/muzikler/Dear my X.mp3\n"
          ]
        },
        {
          "output_type": "stream",
          "name": "stderr",
          "text": []
        },
        {
          "output_type": "stream",
          "name": "stdout",
          "text": [
            "MoviePy - Done.\n",
            "/content/drive/MyDrive/muzikler/Dear my X.mp4 indirildi ve /content/drive/MyDrive/muzikler/Dear my X.mp3 olarak dönüştürüldü.\n",
            "MoviePy - Writing audio in /content/drive/MyDrive/muzikler/Summer.mp3\n"
          ]
        },
        {
          "output_type": "stream",
          "name": "stderr",
          "text": []
        },
        {
          "output_type": "stream",
          "name": "stdout",
          "text": [
            "MoviePy - Done.\n",
            "/content/drive/MyDrive/muzikler/Summer.mp4 indirildi ve /content/drive/MyDrive/muzikler/Summer.mp3 olarak dönüştürüldü.\n",
            "MoviePy - Writing audio in /content/drive/MyDrive/muzikler/Haru Haru - Video Edit.mp3\n"
          ]
        },
        {
          "output_type": "stream",
          "name": "stderr",
          "text": []
        },
        {
          "output_type": "stream",
          "name": "stdout",
          "text": [
            "MoviePy - Done.\n",
            "/content/drive/MyDrive/muzikler/Haru Haru - Video Edit.mp4 indirildi ve /content/drive/MyDrive/muzikler/Haru Haru - Video Edit.mp3 olarak dönüştürüldü.\n",
            "MoviePy - Writing audio in /content/drive/MyDrive/muzikler/VIBE.mp3\n"
          ]
        },
        {
          "output_type": "stream",
          "name": "stderr",
          "text": []
        },
        {
          "output_type": "stream",
          "name": "stdout",
          "text": [
            "MoviePy - Done.\n",
            "/content/drive/MyDrive/muzikler/VIBE.mp4 indirildi ve /content/drive/MyDrive/muzikler/VIBE.mp3 olarak dönüştürüldü.\n",
            "MoviePy - Writing audio in /content/drive/MyDrive/muzikler/Goodbye.mp3\n"
          ]
        },
        {
          "output_type": "stream",
          "name": "stderr",
          "text": []
        },
        {
          "output_type": "stream",
          "name": "stdout",
          "text": [
            "MoviePy - Done.\n",
            "/content/drive/MyDrive/muzikler/Goodbye.mp4 indirildi ve /content/drive/MyDrive/muzikler/Goodbye.mp3 olarak dönüştürüldü.\n",
            "MoviePy - Writing audio in /content/drive/MyDrive/muzikler/[노래하는 윤도현(aka Dee)] 사랑했나봐 MV.mp3\n"
          ]
        },
        {
          "output_type": "stream",
          "name": "stderr",
          "text": []
        },
        {
          "output_type": "stream",
          "name": "stdout",
          "text": [
            "MoviePy - Done.\n",
            "/content/drive/MyDrive/muzikler/[노래하는 윤도현(aka Dee)] 사랑했나봐 MV.mp4 indirildi ve /content/drive/MyDrive/muzikler/[노래하는 윤도현(aka Dee)] 사랑했나봐 MV.mp3 olarak dönüştürüldü.\n",
            "MoviePy - Writing audio in /content/drive/MyDrive/muzikler/You Clouds Rain.mp3\n"
          ]
        },
        {
          "output_type": "stream",
          "name": "stderr",
          "text": []
        },
        {
          "output_type": "stream",
          "name": "stdout",
          "text": [
            "MoviePy - Done.\n",
            "/content/drive/MyDrive/muzikler/You Clouds Rain.mp4 indirildi ve /content/drive/MyDrive/muzikler/You Clouds Rain.mp3 olarak dönüştürüldü.\n",
            "MoviePy - Writing audio in /content/drive/MyDrive/muzikler/Sukidakara (Instrumental).mp3\n"
          ]
        },
        {
          "output_type": "stream",
          "name": "stderr",
          "text": []
        },
        {
          "output_type": "stream",
          "name": "stdout",
          "text": [
            "MoviePy - Done.\n",
            "/content/drive/MyDrive/muzikler/Sukidakara (Instrumental).mp4 indirildi ve /content/drive/MyDrive/muzikler/Sukidakara (Instrumental).mp3 olarak dönüştürüldü.\n",
            "MoviePy - Writing audio in /content/drive/MyDrive/muzikler/Kaze (바람).mp3\n"
          ]
        },
        {
          "output_type": "stream",
          "name": "stderr",
          "text": []
        },
        {
          "output_type": "stream",
          "name": "stdout",
          "text": [
            "MoviePy - Done.\n",
            "/content/drive/MyDrive/muzikler/Kaze (바람).mp4 indirildi ve /content/drive/MyDrive/muzikler/Kaze (바람).mp3 olarak dönüştürüldü.\n",
            "MoviePy - Writing audio in /content/drive/MyDrive/muzikler/Higher.mp3\n"
          ]
        },
        {
          "output_type": "stream",
          "name": "stderr",
          "text": []
        },
        {
          "output_type": "stream",
          "name": "stdout",
          "text": [
            "MoviePy - Done.\n",
            "/content/drive/MyDrive/muzikler/Higher.mp4 indirildi ve /content/drive/MyDrive/muzikler/Higher.mp3 olarak dönüştürüldü.\n",
            "MoviePy - Writing audio in /content/drive/MyDrive/muzikler/Lil Nas X - STAR WALKIN (League of Legends Worlds Anthem).mp3\n"
          ]
        },
        {
          "output_type": "stream",
          "name": "stderr",
          "text": []
        },
        {
          "output_type": "stream",
          "name": "stdout",
          "text": [
            "MoviePy - Done.\n",
            "/content/drive/MyDrive/muzikler/Lil Nas X - STAR WALKIN (League of Legends Worlds Anthem).mp4 indirildi ve /content/drive/MyDrive/muzikler/Lil Nas X - STAR WALKIN (League of Legends Worlds Anthem).mp3 olarak dönüştürüldü.\n",
            "MoviePy - Writing audio in /content/drive/MyDrive/muzikler/See tình.mp3\n"
          ]
        },
        {
          "output_type": "stream",
          "name": "stderr",
          "text": []
        },
        {
          "output_type": "stream",
          "name": "stdout",
          "text": [
            "MoviePy - Done.\n",
            "/content/drive/MyDrive/muzikler/See tình.mp4 indirildi ve /content/drive/MyDrive/muzikler/See tình.mp3 olarak dönüştürüldü.\n",
            "MoviePy - Writing audio in /content/drive/MyDrive/muzikler/Flowers.mp3\n"
          ]
        },
        {
          "output_type": "stream",
          "name": "stderr",
          "text": []
        },
        {
          "output_type": "stream",
          "name": "stdout",
          "text": [
            "MoviePy - Done.\n",
            "/content/drive/MyDrive/muzikler/Flowers.mp4 indirildi ve /content/drive/MyDrive/muzikler/Flowers.mp3 olarak dönüştürüldü.\n",
            "MoviePy - Writing audio in /content/drive/MyDrive/muzikler/Love Love Love (Feat Yoong Jin of Casker).mp3\n"
          ]
        },
        {
          "output_type": "stream",
          "name": "stderr",
          "text": []
        },
        {
          "output_type": "stream",
          "name": "stdout",
          "text": [
            "MoviePy - Done.\n",
            "/content/drive/MyDrive/muzikler/Love Love Love (Feat Yoong Jin of Casker).mp4 indirildi ve /content/drive/MyDrive/muzikler/Love Love Love (Feat Yoong Jin of Casker).mp3 olarak dönüştürüldü.\n",
            "MoviePy - Writing audio in /content/drive/MyDrive/muzikler/너에게 난 나에게 넌.mp3\n"
          ]
        },
        {
          "output_type": "stream",
          "name": "stderr",
          "text": []
        },
        {
          "output_type": "stream",
          "name": "stdout",
          "text": [
            "MoviePy - Done.\n",
            "/content/drive/MyDrive/muzikler/너에게 난 나에게 넌.mp4 indirildi ve /content/drive/MyDrive/muzikler/너에게 난 나에게 넌.mp3 olarak dönüştürüldü.\n",
            "MoviePy - Writing audio in /content/drive/MyDrive/muzikler/별이될께.mp3\n"
          ]
        },
        {
          "output_type": "stream",
          "name": "stderr",
          "text": []
        },
        {
          "output_type": "stream",
          "name": "stdout",
          "text": [
            "MoviePy - Done.\n",
            "/content/drive/MyDrive/muzikler/별이될께.mp4 indirildi ve /content/drive/MyDrive/muzikler/별이될께.mp3 olarak dönüştürüldü.\n",
            "MoviePy - Writing audio in /content/drive/MyDrive/muzikler/Young Dumb Stupid.mp3\n"
          ]
        },
        {
          "output_type": "stream",
          "name": "stderr",
          "text": []
        },
        {
          "output_type": "stream",
          "name": "stdout",
          "text": [
            "MoviePy - Done.\n",
            "/content/drive/MyDrive/muzikler/Young Dumb Stupid.mp4 indirildi ve /content/drive/MyDrive/muzikler/Young Dumb Stupid.mp3 olarak dönüştürüldü.\n",
            "MoviePy - Writing audio in /content/drive/MyDrive/muzikler/OTONABLUE.mp3\n"
          ]
        },
        {
          "output_type": "stream",
          "name": "stderr",
          "text": []
        },
        {
          "output_type": "stream",
          "name": "stdout",
          "text": [
            "MoviePy - Done.\n",
            "/content/drive/MyDrive/muzikler/OTONABLUE.mp4 indirildi ve /content/drive/MyDrive/muzikler/OTONABLUE.mp3 olarak dönüştürüldü.\n",
            "MoviePy - Writing audio in /content/drive/MyDrive/muzikler/평행선.mp3\n"
          ]
        },
        {
          "output_type": "stream",
          "name": "stderr",
          "text": []
        },
        {
          "output_type": "stream",
          "name": "stdout",
          "text": [
            "MoviePy - Done.\n",
            "/content/drive/MyDrive/muzikler/평행선.mp4 indirildi ve /content/drive/MyDrive/muzikler/평행선.mp3 olarak dönüştürüldü.\n",
            "MoviePy - Writing audio in /content/drive/MyDrive/muzikler/자니 (Feat DYNAMICDUO) (Johnny ).mp3\n"
          ]
        },
        {
          "output_type": "stream",
          "name": "stderr",
          "text": []
        },
        {
          "output_type": "stream",
          "name": "stdout",
          "text": [
            "MoviePy - Done.\n",
            "/content/drive/MyDrive/muzikler/자니 (Feat DYNAMICDUO) (Johnny ).mp4 indirildi ve /content/drive/MyDrive/muzikler/자니 (Feat DYNAMICDUO) (Johnny ).mp3 olarak dönüştürüldü.\n",
            "MoviePy - Writing audio in /content/drive/MyDrive/muzikler/Overdose.mp3\n"
          ]
        },
        {
          "output_type": "stream",
          "name": "stderr",
          "text": []
        },
        {
          "output_type": "stream",
          "name": "stdout",
          "text": [
            "MoviePy - Done.\n",
            "/content/drive/MyDrive/muzikler/Overdose.mp4 indirildi ve /content/drive/MyDrive/muzikler/Overdose.mp3 olarak dönüştürüldü.\n",
            "MoviePy - Writing audio in /content/drive/MyDrive/muzikler/비행기.mp3\n"
          ]
        },
        {
          "output_type": "stream",
          "name": "stderr",
          "text": []
        },
        {
          "output_type": "stream",
          "name": "stdout",
          "text": [
            "MoviePy - Done.\n",
            "/content/drive/MyDrive/muzikler/비행기.mp4 indirildi ve /content/drive/MyDrive/muzikler/비행기.mp3 olarak dönüştürüldü.\n",
            "MoviePy - Writing audio in /content/drive/MyDrive/muzikler/Rain and You.mp3\n"
          ]
        },
        {
          "output_type": "stream",
          "name": "stderr",
          "text": []
        },
        {
          "output_type": "stream",
          "name": "stdout",
          "text": [
            "MoviePy - Done.\n",
            "/content/drive/MyDrive/muzikler/Rain and You.mp4 indirildi ve /content/drive/MyDrive/muzikler/Rain and You.mp3 olarak dönüştürüldü.\n",
            "MoviePy - Writing audio in /content/drive/MyDrive/muzikler/You and I (박봄).mp3\n"
          ]
        },
        {
          "output_type": "stream",
          "name": "stderr",
          "text": []
        },
        {
          "output_type": "stream",
          "name": "stdout",
          "text": [
            "MoviePy - Done.\n",
            "/content/drive/MyDrive/muzikler/You and I (박봄).mp4 indirildi ve /content/drive/MyDrive/muzikler/You and I (박봄).mp3 olarak dönüştürüldü.\n",
            "MoviePy - Writing audio in /content/drive/MyDrive/muzikler/Boys And Girls.mp3\n"
          ]
        },
        {
          "output_type": "stream",
          "name": "stderr",
          "text": []
        },
        {
          "output_type": "stream",
          "name": "stdout",
          "text": [
            "MoviePy - Done.\n",
            "/content/drive/MyDrive/muzikler/Boys And Girls.mp4 indirildi ve /content/drive/MyDrive/muzikler/Boys And Girls.mp3 olarak dönüştürüldü.\n",
            "MoviePy - Writing audio in /content/drive/MyDrive/muzikler/BIG Naughty - 친구로 지내다 보면 (Feat 김민석 of 멜로망스) Official Live Clip.mp3\n"
          ]
        },
        {
          "output_type": "stream",
          "name": "stderr",
          "text": []
        },
        {
          "output_type": "stream",
          "name": "stdout",
          "text": [
            "MoviePy - Done.\n",
            "/content/drive/MyDrive/muzikler/BIG Naughty - 친구로 지내다 보면 (Feat 김민석 of 멜로망스) Official Live Clip.mp4 indirildi ve /content/drive/MyDrive/muzikler/BIG Naughty - 친구로 지내다 보면 (Feat 김민석 of 멜로망스) Official Live Clip.mp3 olarak dönüştürüldü.\n",
            "MoviePy - Writing audio in /content/drive/MyDrive/muzikler/죽을 만큼 아파서 (Feat 멜로우).mp3\n"
          ]
        },
        {
          "output_type": "stream",
          "name": "stderr",
          "text": [
            "                                                                     "
          ]
        },
        {
          "output_type": "stream",
          "name": "stdout",
          "text": [
            "MoviePy - Done.\n",
            "/content/drive/MyDrive/muzikler/죽을 만큼 아파서 (Feat 멜로우).mp4 indirildi ve /content/drive/MyDrive/muzikler/죽을 만큼 아파서 (Feat 멜로우).mp3 olarak dönüştürüldü.\n",
            "Tüm videolar indirildi ve MP3'e dönüştürüldü.\n"
          ]
        },
        {
          "output_type": "stream",
          "name": "stderr",
          "text": [
            "\r"
          ]
        }
      ],
      "source": [
        "from pytube import Playlist\n",
        "from moviepy.editor import *\n",
        "\n",
        "playlist_url = \"https://youtube.com/playlist?list=PL4fGSI1pDJn6jXS_Tv_N9B8Z0HTRVJE0m\"\n",
        "download_folder = \"/content/drive/MyDrive/muzikler\"\n",
        "\n",
        "playlist = Playlist(playlist_url)\n",
        "\n",
        "for video_url in playlist.video_urls:\n",
        "    youtube_video = YouTube(video_url)\n",
        "    video = youtube_video.streams.get_highest_resolution()\n",
        "    video.download(output_path=download_folder)\n",
        "\n",
        "    video_path = os.path.join(download_folder, video.default_filename)\n",
        "    mp3_path = os.path.join(download_folder, video_path.split(\".\")[0] + \".mp3\")\n",
        "\n",
        "    video_clip = VideoFileClip(video_path)\n",
        "    video_clip.audio.write_audiofile(mp3_path)\n",
        "\n",
        "    video_clip.close()\n",
        "\n",
        "    print(f\"{video_path} indirildi ve {mp3_path} olarak dönüştürüldü.\")\n",
        "\n",
        "print(\"Tüm videolar indirildi ve MP3'e dönüştürüldü.\")\n"
      ]
    },
    {
      "cell_type": "code",
      "source": [
        "!pip install pydub"
      ],
      "metadata": {
        "colab": {
          "base_uri": "https://localhost:8080/"
        },
        "id": "fo5--HPeFfJr",
        "outputId": "5ed267ef-40ec-4856-84ee-3e81bea432ab"
      },
      "execution_count": null,
      "outputs": [
        {
          "output_type": "stream",
          "name": "stdout",
          "text": [
            "Looking in indexes: https://pypi.org/simple, https://us-python.pkg.dev/colab-wheels/public/simple/\n",
            "Requirement already satisfied: pydub in /usr/local/lib/python3.10/dist-packages (0.25.1)\n"
          ]
        }
      ]
    },
    {
      "cell_type": "code",
      "source": [
        "import os\n",
        "\n",
        "directory = \"/content/drive/MyDrive/muzikler\" \n",
        "\n",
        "counter = 1\n",
        "for filename in os.listdir(directory):\n",
        "    if filename.endswith(\".mp4\"):\n",
        "        new_filename = str(counter) + \".mp4\"\n",
        "        os.rename(os.path.join(directory, filename), os.path.join(directory, new_filename))\n",
        "        counter += 1\n"
      ],
      "metadata": {
        "id": "74hjPcIQYD4e"
      },
      "execution_count": null,
      "outputs": []
    },
    {
      "cell_type": "code",
      "source": [
        "!pip install ffmpeg"
      ],
      "metadata": {
        "id": "0qKPljR9bdY_",
        "colab": {
          "base_uri": "https://localhost:8080/"
        },
        "outputId": "bcb62314-09db-4b42-f1ee-ebe509ce80c6"
      },
      "execution_count": null,
      "outputs": [
        {
          "output_type": "stream",
          "name": "stdout",
          "text": [
            "Looking in indexes: https://pypi.org/simple, https://us-python.pkg.dev/colab-wheels/public/simple/\n",
            "Collecting ffmpeg\n",
            "  Downloading ffmpeg-1.4.tar.gz (5.1 kB)\n",
            "  Preparing metadata (setup.py) ... \u001b[?25l\u001b[?25hdone\n",
            "Building wheels for collected packages: ffmpeg\n",
            "  Building wheel for ffmpeg (setup.py) ... \u001b[?25l\u001b[?25hdone\n",
            "  Created wheel for ffmpeg: filename=ffmpeg-1.4-py3-none-any.whl size=6083 sha256=b7de74eefb759681ba60c56a3cfc6bc6a3954b5e22eb3e7237964e71a28ba23c\n",
            "  Stored in directory: /root/.cache/pip/wheels/8e/7a/69/cd6aeb83b126a7f04cbe7c9d929028dc52a6e7d525ff56003a\n",
            "Successfully built ffmpeg\n",
            "Installing collected packages: ffmpeg\n",
            "Successfully installed ffmpeg-1.4\n"
          ]
        }
      ]
    },
    {
      "cell_type": "code",
      "source": [
        "import os\n",
        "import subprocess\n",
        "\n",
        "def convert_to_aac(input_dir, output_dir):\n",
        "    if not os.path.exists(output_dir):\n",
        "        os.makedirs(output_dir)\n",
        "\n",
        "    total_compress_ratio = 0.0\n",
        "    total_comp_complexity = 0.0\n",
        "    num_files = 0\n",
        "    for filename in os.listdir(input_dir):\n",
        "        if filename.endswith(\".mp4\"):\n",
        "            input_path = os.path.join(input_dir, filename)\n",
        "            output_path = os.path.join(output_dir, os.path.splitext(filename)[0] + \".aac\")\n",
        "            subprocess.run([\"ffmpeg\", \"-i\", input_path, \"-c:a\", \"aac\", output_path], check=True)\n",
        "            input_size = os.path.getsize(input_path)\n",
        "            output_size = os.path.getsize(output_path)\n",
        "            compress_ratio = (input_size - output_size) / input_size * 100\n",
        "            comp_complexity = output_size / input_size * 100\n",
        "\n",
        "            total_compress_ratio += compress_ratio\n",
        "            total_comp_complexity += comp_complexity\n",
        "            num_files += 1\n",
        "\n",
        "    # Calculate average compression ratio and computational complexity\n",
        "    average_compress_ratio = total_compress_ratio / num_files\n",
        "    average_comp_complexity = total_comp_complexity / num_files\n",
        "\n",
        "    return average_compress_ratio, average_comp_complexity\n",
        "\n",
        "input_directory = \"/content/drive/MyDrive/muzikler\"\n",
        "output_directory = \"/content/drive/MyDrive/muzikler/aac\"\n",
        "average_ratio, average_complexity = convert_to_aac(input_directory, output_directory)\n",
        "\n",
        "print(f\"Average Compression Ratio: {average_ratio:.2f}%\")\n",
        "print(f\"Average Computational Complexity: {average_complexity:.2f} seconds\")\n"
      ],
      "metadata": {
        "id": "sKMpQduYFaJh",
        "colab": {
          "base_uri": "https://localhost:8080/"
        },
        "outputId": "d2a50797-5cef-4dfb-9f83-0b7b2788df70"
      },
      "execution_count": null,
      "outputs": [
        {
          "output_type": "stream",
          "name": "stdout",
          "text": [
            "Average Compression Ratio: 77.47%\n",
            "Average Computational Complexity: 22.53 seconds\n"
          ]
        }
      ]
    },
    {
      "cell_type": "code",
      "source": [
        "import os\n",
        "import subprocess\n",
        "\n",
        "def convert_to_mp3(input_dir, output_dir):\n",
        "    if not os.path.exists(output_dir):\n",
        "        os.makedirs(output_dir)\n",
        "\n",
        "    total_compress_ratio = 0.0\n",
        "    total_comp_complexity = 0.0\n",
        "    num_files = 0\n",
        "\n",
        "    for filename in os.listdir(input_dir):\n",
        "        if filename.endswith(\".mp4\"):\n",
        "            input_path = os.path.join(input_dir, filename)\n",
        "            output_path = os.path.join(output_dir, os.path.splitext(filename)[0] + \".mp3\")\n",
        "\n",
        "            # Convert .mp4 to .mp3 using FFmpeg\n",
        "            subprocess.run([\"ffmpeg\", \"-i\", input_path, \"-c:a\", \"libmp3lame\", \"-q:a\", \"2\", output_path], check=True)\n",
        "\n",
        "            # Calculate compression ratio and computational complexity\n",
        "            input_size = os.path.getsize(input_path)\n",
        "            output_size = os.path.getsize(output_path)\n",
        "            compress_ratio = (input_size - output_size) / input_size * 100\n",
        "            comp_complexity = output_size / input_size * 100\n",
        "\n",
        "            total_compress_ratio += compress_ratio\n",
        "            total_comp_complexity += comp_complexity\n",
        "            num_files += 1\n",
        "    average_compress_ratio = total_compress_ratio / num_files\n",
        "    average_comp_complexity = total_comp_complexity / num_files\n",
        "\n",
        "    return average_compress_ratio, average_comp_complexity\n",
        "\n",
        "input_directory = \"/content/drive/MyDrive/muzikler\"\n",
        "output_directory = \"/content/drive/MyDrive/muzikler/mp3\"\n",
        "avg_compress_ratio, avg_comp_complexity = convert_to_mp3(input_directory, output_directory)\n",
        "print(\"Average Compression Ratio: {:.2f}%\".format(avg_compress_ratio))\n",
        "print(\"Average Computational Complexity: {:.2f}%\".format(avg_comp_complexity))\n"
      ],
      "metadata": {
        "colab": {
          "base_uri": "https://localhost:8080/"
        },
        "id": "Gug6fLM8dL-s",
        "outputId": "e07eb56d-ed73-42f1-f929-5fb1acbd4750"
      },
      "execution_count": null,
      "outputs": [
        {
          "output_type": "stream",
          "name": "stdout",
          "text": [
            "Average Compression Ratio: 69.23%\n",
            "Average Computational Complexity: 30.77%\n"
          ]
        }
      ]
    }
  ]
}