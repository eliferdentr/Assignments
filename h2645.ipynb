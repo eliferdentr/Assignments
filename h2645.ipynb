{
  "nbformat": 4,
  "nbformat_minor": 0,
  "metadata": {
    "colab": {
      "provenance": [],
      "machine_shape": "hm",
      "gpuType": "A100",
      "mount_file_id": "1uHjYigYvoVXwnorPzP4rO0TVq99V7gx3",
      "authorship_tag": "ABX9TyMCRAqki68i08/0sMK9QTF8",
      "include_colab_link": true
    },
    "kernelspec": {
      "name": "python3",
      "display_name": "Python 3"
    },
    "language_info": {
      "name": "python"
    },
    "accelerator": "GPU"
  },
  "cells": [
    {
      "cell_type": "markdown",
      "metadata": {
        "id": "view-in-github",
        "colab_type": "text"
      },
      "source": [
        "<a href=\"https://colab.research.google.com/github/eliferdentr/Assignments/blob/main/h2645.ipynb\" target=\"_parent\"><img src=\"https://colab.research.google.com/assets/colab-badge.svg\" alt=\"Open In Colab\"/></a>"
      ]
    },
    {
      "cell_type": "code",
      "source": [
        "!pip install pytube\n"
      ],
      "metadata": {
        "colab": {
          "base_uri": "https://localhost:8080/"
        },
        "id": "-g1jFtadF955",
        "outputId": "a0426592-e586-420d-d0b9-717a8d89c56d"
      },
      "execution_count": null,
      "outputs": [
        {
          "output_type": "stream",
          "name": "stdout",
          "text": [
            "Looking in indexes: https://pypi.org/simple, https://us-python.pkg.dev/colab-wheels/public/simple/\n",
            "Collecting pytube\n",
            "  Downloading pytube-15.0.0-py3-none-any.whl (57 kB)\n",
            "\u001b[2K     \u001b[90m━━━━━━━━━━━━━━━━━━━━━━━━━━━━━━━━━━━━━━━━\u001b[0m \u001b[32m57.6/57.6 kB\u001b[0m \u001b[31m2.2 MB/s\u001b[0m eta \u001b[36m0:00:00\u001b[0m\n",
            "\u001b[?25hInstalling collected packages: pytube\n",
            "Successfully installed pytube-15.0.0\n"
          ]
        }
      ]
    },
    {
      "cell_type": "code",
      "source": [
        "from pytube import Playlist\n",
        "\n",
        "def download_playlist(playlist_url, output_path):\n",
        "    playlist = Playlist(playlist_url)\n",
        "\n",
        "    for url in playlist.video_urls:\n",
        "        video = YouTube(url)\n",
        "        video.streams.get_highest_resolution().download(output_path)\n",
        "\n",
        "playlist_url = \"https://youtube.com/playlist?list=PLgtxLlntMqjh_p-Adzc8GJPthoquhCHs8\"\n",
        "output_path = \"/content/drive/MyDrive/videos\"\n",
        "\n",
        "download_playlist(playlist_url, output_path)\n"
      ],
      "metadata": {
        "id": "nHCQ2yUjGBH0"
      },
      "execution_count": null,
      "outputs": []
    },
    {
      "cell_type": "code",
      "source": [
        "import os\n",
        "from moviepy.editor import VideoFileClip\n",
        "\n",
        "def calculate_file_size(file_path):\n",
        "    \"\"\"Calculate the size of a file in bytes.\"\"\"\n",
        "    return os.path.getsize(file_path)\n",
        "\n",
        "def calculate_compression_ratio(original_size, compressed_size):\n",
        "    \"\"\"Calculate the compression ratio.\"\"\"\n",
        "    return compressed_size / original_size\n",
        "\n",
        "def compress_videos(input_dir, output_dir, codec):\n",
        "    \"\"\"Compress videos using the specified codec.\"\"\"\n",
        "    os.makedirs(output_dir, exist_ok=True)\n",
        "    videos = os.listdir(input_dir)\n",
        "    for video in videos:\n",
        "        input_path = os.path.join(input_dir, video)\n",
        "        output_path = os.path.join(output_dir, video)\n",
        "        clip = VideoFileClip(input_path)\n",
        "        clip.write_videofile(output_path, codec=codec, audio=False)\n",
        "\n",
        "def measure_computational_complexity(input_dir, codec):\n",
        "    \"\"\"Measure the computational complexity (encoding time) of compressed videos.\"\"\"\n",
        "    videos = os.listdir(input_dir)\n",
        "    total_time = 0\n",
        "    for video in videos:\n",
        "        input_path = os.path.join(input_dir, video)\n",
        "        clip = VideoFileClip(input_path)\n",
        "        start_time = time.time()\n",
        "        clip.write_videofile(\"/dev/null\", codec=codec, audio=False)\n",
        "        end_time = time.time()\n",
        "        elapsed_time = end_time - start_time\n",
        "        total_time += elapsed_time\n",
        "    return total_time\n",
        "\n",
        "def main():\n",
        "    input_dir = '/content/drive/MyDrive/videos'\n",
        "    h264_output_dir = '/content/drive/MyDrive/videos/264'\n",
        "    h265_output_dir = '/content/drive/MyDrive/videos/265'\n",
        "    codec_h264 = 'libx264'\n",
        "    codec_h265 = 'libx265'\n",
        "\n",
        "    # Compress videos using H.264 and H.265 codecs\n",
        "    compress_videos(input_dir, h264_output_dir, codec_h264)\n",
        "    compress_videos(input_dir, h265_output_dir, codec_h265)\n",
        "\n",
        "    # Calculate average compression ratio\n",
        "    original_sizes = [calculate_file_size(os.path.join(input_dir, video)) for video in os.listdir(input_dir)]\n",
        "    h264_compressed_sizes = [calculate_file_size(os.path.join(h264_output_dir, video)) for video in os.listdir(h264_output_dir)]\n",
        "    h265_compressed_sizes = [calculate_file_size(os.path.join(h265_output_dir, video)) for video in os.listdir(h265_output_dir)]\n",
        "    \n",
        "    h264_avg_compression_ratio = sum(calculate_compression_ratio(original_size, compressed_size) for original_size, compressed_size in zip(original_sizes, h264_compressed_sizes)) / len(original_sizes)\n",
        "    h265_avg_compression_ratio = sum(calculate_compression_ratio(original_size, compressed_size) for original_size, compressed_size in zip(original_sizes, h265_compressed_sizes)) / len(original_sizes)\n",
        "\n",
        "    print(\"Average Compression Ratio:\")\n",
        "    print(f\"H.264: {h264_avg_compression_ratio}\")\n",
        "    print(f\"H.265: {h265_avg_compression_ratio}\")\n",
        "\n",
        "    # Measure computational complexity\n",
        "    h264_total_time = measure_computational_complexity(h264_output_dir, codec_h264)\n",
        "    h265_total_time = measure_computational_complexity(h265_output_dir, codec_h265)\n",
        "\n",
        "    print(\"Computational Complexity:\")\n",
        "    print(f\"H.264: {h264_total_time} seconds\")\n",
        "    print(f\"H.265: {h265_total_time} seconds\")\n",
        "\n",
        "if __name__ == '__main__':\n",
        "    main()\n"
      ],
      "metadata": {
        "colab": {
          "base_uri": "https://localhost:8080/"
        },
        "id": "nTsHypWcSHCi",
        "outputId": "0b914faf-2c5d-4f2f-bda0-cdbbedcd8768"
      },
      "execution_count": null,
      "outputs": [
        {
          "output_type": "stream",
          "name": "stdout",
          "text": [
            "Moviepy - Building video /content/drive/MyDrive/videos/264/Karma (Official Music Video).mp4.\n",
            "Moviepy - Writing video /content/drive/MyDrive/videos/264/Karma (Official Music Video).mp4\n",
            "\n"
          ]
        },
        {
          "output_type": "stream",
          "name": "stderr",
          "text": [
            "t: 100%|█████████▉| 4912/4918 [00:51<00:00, 161.59it/s, now=None]WARNING:py.warnings:/usr/local/lib/python3.10/dist-packages/moviepy/video/io/ffmpeg_reader.py:123: UserWarning: Warning: in file /content/drive/MyDrive/videos/Karma (Official Music Video).mp4, 2764800 bytes wanted but 0 bytes read,at frame 4917/4918, at time 205.08/205.10 sec. Using the last valid frame instead.\n",
            "  warnings.warn(\"Warning: in file %s, \"%(self.filename)+\n",
            "\n"
          ]
        },
        {
          "output_type": "stream",
          "name": "stdout",
          "text": [
            "Moviepy - Done !\n",
            "Moviepy - video ready /content/drive/MyDrive/videos/264/Karma (Official Music Video).mp4\n",
            "Moviepy - Building video /content/drive/MyDrive/videos/264/Calm Down.mp4.\n",
            "Moviepy - Writing video /content/drive/MyDrive/videos/264/Calm Down.mp4\n",
            "\n"
          ]
        },
        {
          "output_type": "stream",
          "name": "stderr",
          "text": [
            "t: 100%|█████████▉| 5736/5740 [01:04<00:00, 126.45it/s, now=None]WARNING:py.warnings:/usr/local/lib/python3.10/dist-packages/moviepy/video/io/ffmpeg_reader.py:123: UserWarning: Warning: in file /content/drive/MyDrive/videos/Calm Down.mp4, 2764800 bytes wanted but 0 bytes read,at frame 5739/5740, at time 239.36/239.37 sec. Using the last valid frame instead.\n",
            "  warnings.warn(\"Warning: in file %s, \"%(self.filename)+\n",
            "\n"
          ]
        },
        {
          "output_type": "stream",
          "name": "stdout",
          "text": [
            "Moviepy - Done !\n",
            "Moviepy - video ready /content/drive/MyDrive/videos/264/Calm Down.mp4\n",
            "Moviepy - Building video /content/drive/MyDrive/videos/264/MHM (Official Visualizer).mp4.\n",
            "Moviepy - Writing video /content/drive/MyDrive/videos/264/MHM (Official Visualizer).mp4\n",
            "\n"
          ]
        },
        {
          "output_type": "stream",
          "name": "stderr",
          "text": [
            "t: 100%|█████████▉| 3097/3103 [00:40<00:00, 68.77it/s, now=None]WARNING:py.warnings:/usr/local/lib/python3.10/dist-packages/moviepy/video/io/ffmpeg_reader.py:123: UserWarning: Warning: in file /content/drive/MyDrive/videos/MHM (Official Visualizer).mp4, 2764800 bytes wanted but 0 bytes read,at frame 3102/3103, at time 129.38/129.38 sec. Using the last valid frame instead.\n",
            "  warnings.warn(\"Warning: in file %s, \"%(self.filename)+\n",
            "\n"
          ]
        },
        {
          "output_type": "stream",
          "name": "stdout",
          "text": [
            "Moviepy - Done !\n",
            "Moviepy - video ready /content/drive/MyDrive/videos/264/MHM (Official Visualizer).mp4\n",
            "Moviepy - Building video /content/drive/MyDrive/videos/264/Flowers.mp4.\n",
            "Moviepy - Writing video /content/drive/MyDrive/videos/264/Flowers.mp4\n",
            "\n"
          ]
        },
        {
          "output_type": "stream",
          "name": "stderr",
          "text": [
            "t: 100%|██████████| 4838/4838 [00:39<00:00, 179.51it/s, now=None]WARNING:py.warnings:/usr/local/lib/python3.10/dist-packages/moviepy/video/io/ffmpeg_reader.py:123: UserWarning: Warning: in file /content/drive/MyDrive/videos/Flowers.mp4, 1797120 bytes wanted but 0 bytes read,at frame 4837/4838, at time 201.54/201.55 sec. Using the last valid frame instead.\n",
            "  warnings.warn(\"Warning: in file %s, \"%(self.filename)+\n",
            "\n"
          ]
        },
        {
          "output_type": "stream",
          "name": "stdout",
          "text": [
            "Moviepy - Done !\n",
            "Moviepy - video ready /content/drive/MyDrive/videos/264/Flowers.mp4\n",
            "Moviepy - Building video /content/drive/MyDrive/videos/264/Until I Found You.mp4.\n",
            "Moviepy - Writing video /content/drive/MyDrive/videos/264/Until I Found You.mp4\n",
            "\n"
          ]
        },
        {
          "output_type": "stream",
          "name": "stderr",
          "text": [
            "t: 100%|█████████▉| 4213/4223 [00:38<00:00, 153.41it/s, now=None]WARNING:py.warnings:/usr/local/lib/python3.10/dist-packages/moviepy/video/io/ffmpeg_reader.py:123: UserWarning: Warning: in file /content/drive/MyDrive/videos/Until I Found You.mp4, 2764800 bytes wanted but 0 bytes read,at frame 4222/4223, at time 175.92/175.94 sec. Using the last valid frame instead.\n",
            "  warnings.warn(\"Warning: in file %s, \"%(self.filename)+\n",
            "\n"
          ]
        },
        {
          "output_type": "stream",
          "name": "stdout",
          "text": [
            "Moviepy - Done !\n",
            "Moviepy - video ready /content/drive/MyDrive/videos/264/Until I Found You.mp4\n",
            "Moviepy - Building video /content/drive/MyDrive/videos/264/As It Was.mp4.\n",
            "Moviepy - Writing video /content/drive/MyDrive/videos/264/As It Was.mp4\n",
            "\n"
          ]
        },
        {
          "output_type": "stream",
          "name": "stderr",
          "text": []
        },
        {
          "output_type": "stream",
          "name": "stdout",
          "text": [
            "Moviepy - Done !\n",
            "Moviepy - video ready /content/drive/MyDrive/videos/264/As It Was.mp4\n",
            "Moviepy - Building video /content/drive/MyDrive/videos/264/Daylight.mp4.\n",
            "Moviepy - Writing video /content/drive/MyDrive/videos/264/Daylight.mp4\n",
            "\n"
          ]
        },
        {
          "output_type": "stream",
          "name": "stderr",
          "text": []
        },
        {
          "output_type": "stream",
          "name": "stdout",
          "text": [
            "Moviepy - Done !\n",
            "Moviepy - video ready /content/drive/MyDrive/videos/264/Daylight.mp4\n",
            "Moviepy - Building video /content/drive/MyDrive/videos/264/People (Official Video).mp4.\n",
            "Moviepy - Writing video /content/drive/MyDrive/videos/264/People (Official Video).mp4\n",
            "\n"
          ]
        },
        {
          "output_type": "stream",
          "name": "stderr",
          "text": [
            "t: 100%|█████████▉| 4727/4744 [00:45<00:00, 161.66it/s, now=None]WARNING:py.warnings:/usr/local/lib/python3.10/dist-packages/moviepy/video/io/ffmpeg_reader.py:123: UserWarning: Warning: in file /content/drive/MyDrive/videos/People (Official Video).mp4, 2595840 bytes wanted but 0 bytes read,at frame 4743/4744, at time 197.82/197.83 sec. Using the last valid frame instead.\n",
            "  warnings.warn(\"Warning: in file %s, \"%(self.filename)+\n",
            "\n"
          ]
        },
        {
          "output_type": "stream",
          "name": "stdout",
          "text": [
            "Moviepy - Done !\n",
            "Moviepy - video ready /content/drive/MyDrive/videos/264/People (Official Video).mp4\n",
            "Moviepy - Building video /content/drive/MyDrive/videos/264/Bones (Official Music Video).mp4.\n",
            "Moviepy - Writing video /content/drive/MyDrive/videos/264/Bones (Official Music Video).mp4\n",
            "\n"
          ]
        },
        {
          "output_type": "stream",
          "name": "stderr",
          "text": [
            "t: 100%|█████████▉| 3955/3959 [00:35<00:00, 123.48it/s, now=None]WARNING:py.warnings:/usr/local/lib/python3.10/dist-packages/moviepy/video/io/ffmpeg_reader.py:123: UserWarning: Warning: in file /content/drive/MyDrive/videos/Bones (Official Music Video).mp4, 2096640 bytes wanted but 0 bytes read,at frame 3958/3959, at time 165.08/165.09 sec. Using the last valid frame instead.\n",
            "  warnings.warn(\"Warning: in file %s, \"%(self.filename)+\n",
            "\n"
          ]
        },
        {
          "output_type": "stream",
          "name": "stdout",
          "text": [
            "Moviepy - Done !\n",
            "Moviepy - video ready /content/drive/MyDrive/videos/264/Bones (Official Music Video).mp4\n",
            "Moviepy - Building video /content/drive/MyDrive/videos/264/Boy’s a liar Pt 2.mp4.\n",
            "Moviepy - Writing video /content/drive/MyDrive/videos/264/Boy’s a liar Pt 2.mp4\n",
            "\n"
          ]
        },
        {
          "output_type": "stream",
          "name": "stderr",
          "text": [
            "t: 100%|█████████▉| 3248/3255 [00:30<00:00, 131.41it/s, now=None]WARNING:py.warnings:/usr/local/lib/python3.10/dist-packages/moviepy/video/io/ffmpeg_reader.py:123: UserWarning: Warning: in file /content/drive/MyDrive/videos/Boy’s a liar Pt 2.mp4, 2250720 bytes wanted but 0 bytes read,at frame 3254/3255, at time 135.72/135.72 sec. Using the last valid frame instead.\n",
            "  warnings.warn(\"Warning: in file %s, \"%(self.filename)+\n",
            "\n"
          ]
        },
        {
          "output_type": "stream",
          "name": "stdout",
          "text": [
            "Moviepy - Done !\n",
            "Moviepy - video ready /content/drive/MyDrive/videos/264/Boy’s a liar Pt 2.mp4\n",
            "Moviepy - Building video /content/drive/MyDrive/videos/264/Rush (Official Music Video).mp4.\n",
            "Moviepy - Writing video /content/drive/MyDrive/videos/264/Rush (Official Music Video).mp4\n",
            "\n"
          ]
        },
        {
          "output_type": "stream",
          "name": "stderr",
          "text": [
            "t: 100%|█████████▉| 4635/4637 [00:51<00:00, 98.41it/s, now=None]WARNING:py.warnings:/usr/local/lib/python3.10/dist-packages/moviepy/video/io/ffmpeg_reader.py:123: UserWarning: Warning: in file /content/drive/MyDrive/videos/Rush (Official Music Video).mp4, 2764800 bytes wanted but 0 bytes read,at frame 4636/4637, at time 185.44/185.46 sec. Using the last valid frame instead.\n",
            "  warnings.warn(\"Warning: in file %s, \"%(self.filename)+\n",
            "\n"
          ]
        },
        {
          "output_type": "stream",
          "name": "stdout",
          "text": [
            "Moviepy - Done !\n",
            "Moviepy - video ready /content/drive/MyDrive/videos/264/Rush (Official Music Video).mp4\n",
            "Moviepy - Building video /content/drive/MyDrive/videos/264/STAY (Official Video).mp4.\n",
            "Moviepy - Writing video /content/drive/MyDrive/videos/264/STAY (Official Video).mp4\n",
            "\n"
          ]
        },
        {
          "output_type": "stream",
          "name": "stderr",
          "text": [
            "t: 100%|█████████▉| 3772/3781 [00:42<00:00, 103.94it/s, now=None]WARNING:py.warnings:/usr/local/lib/python3.10/dist-packages/moviepy/video/io/ffmpeg_reader.py:123: UserWarning: Warning: in file /content/drive/MyDrive/videos/STAY (Official Video).mp4, 2764800 bytes wanted but 0 bytes read,at frame 3780/3781, at time 157.66/157.66 sec. Using the last valid frame instead.\n",
            "  warnings.warn(\"Warning: in file %s, \"%(self.filename)+\n",
            "\n"
          ]
        },
        {
          "output_type": "stream",
          "name": "stdout",
          "text": [
            "Moviepy - Done !\n",
            "Moviepy - video ready /content/drive/MyDrive/videos/264/STAY (Official Video).mp4\n",
            "Moviepy - Building video /content/drive/MyDrive/videos/264/I Ain’t Worried (From “Top Gun Maverick”).mp4.\n",
            "Moviepy - Writing video /content/drive/MyDrive/videos/264/I Ain’t Worried (From “Top Gun Maverick”).mp4\n",
            "\n"
          ]
        },
        {
          "output_type": "stream",
          "name": "stderr",
          "text": [
            "t: 100%|█████████▉| 3688/3700 [00:35<00:00, 157.03it/s, now=None]WARNING:py.warnings:/usr/local/lib/python3.10/dist-packages/moviepy/video/io/ffmpeg_reader.py:123: UserWarning: Warning: in file /content/drive/MyDrive/videos/I Ain’t Worried (From “Top Gun Maverick”).mp4, 2764800 bytes wanted but 0 bytes read,at frame 3699/3700, at time 154.28/154.30 sec. Using the last valid frame instead.\n",
            "  warnings.warn(\"Warning: in file %s, \"%(self.filename)+\n",
            "\n"
          ]
        },
        {
          "output_type": "stream",
          "name": "stdout",
          "text": [
            "Moviepy - Done !\n",
            "Moviepy - video ready /content/drive/MyDrive/videos/264/I Ain’t Worried (From “Top Gun Maverick”).mp4\n",
            "Moviepy - Building video /content/drive/MyDrive/videos/264/UR SO FULL OF IT.mp4.\n",
            "Moviepy - Writing video /content/drive/MyDrive/videos/264/UR SO FULL OF IT.mp4\n",
            "\n"
          ]
        },
        {
          "output_type": "stream",
          "name": "stderr",
          "text": [
            "t: 100%|█████████▉| 3400/3401 [00:37<00:00, 140.70it/s, now=None]WARNING:py.warnings:/usr/local/lib/python3.10/dist-packages/moviepy/video/io/ffmpeg_reader.py:123: UserWarning: Warning: in file /content/drive/MyDrive/videos/UR SO FULL OF IT.mp4, 2764800 bytes wanted but 0 bytes read,at frame 3400/3401, at time 141.81/141.83 sec. Using the last valid frame instead.\n",
            "  warnings.warn(\"Warning: in file %s, \"%(self.filename)+\n",
            "\n"
          ]
        },
        {
          "output_type": "stream",
          "name": "stdout",
          "text": [
            "Moviepy - Done !\n",
            "Moviepy - video ready /content/drive/MyDrive/videos/264/UR SO FULL OF IT.mp4\n",
            "Moviepy - Building video /content/drive/MyDrive/videos/264/golden hour (Cello Version).mp4.\n",
            "Moviepy - Writing video /content/drive/MyDrive/videos/264/golden hour (Cello Version).mp4\n",
            "\n"
          ]
        },
        {
          "output_type": "stream",
          "name": "stderr",
          "text": [
            "t: 100%|█████████▉| 5548/5555 [00:45<00:00, 205.13it/s, now=None]WARNING:py.warnings:/usr/local/lib/python3.10/dist-packages/moviepy/video/io/ffmpeg_reader.py:123: UserWarning: Warning: in file /content/drive/MyDrive/videos/golden hour (Cello Version).mp4, 2121120 bytes wanted but 0 bytes read,at frame 5554/5555, at time 231.65/231.67 sec. Using the last valid frame instead.\n",
            "  warnings.warn(\"Warning: in file %s, \"%(self.filename)+\n",
            "\n"
          ]
        },
        {
          "output_type": "stream",
          "name": "stdout",
          "text": [
            "Moviepy - Done !\n",
            "Moviepy - video ready /content/drive/MyDrive/videos/264/golden hour (Cello Version).mp4\n",
            "Moviepy - Building video /content/drive/MyDrive/videos/264/Im Good (Blue).mp4.\n",
            "Moviepy - Writing video /content/drive/MyDrive/videos/264/Im Good (Blue).mp4\n",
            "\n"
          ]
        },
        {
          "output_type": "stream",
          "name": "stderr",
          "text": [
            "t: 100%|█████████▉| 4433/4434 [00:57<00:00, 95.19it/s, now=None]WARNING:py.warnings:/usr/local/lib/python3.10/dist-packages/moviepy/video/io/ffmpeg_reader.py:123: UserWarning: Warning: in file /content/drive/MyDrive/videos/Im Good (Blue).mp4, 2764800 bytes wanted but 0 bytes read,at frame 4433/4434, at time 177.32/177.33 sec. Using the last valid frame instead.\n",
            "  warnings.warn(\"Warning: in file %s, \"%(self.filename)+\n",
            "\n"
          ]
        },
        {
          "output_type": "stream",
          "name": "stdout",
          "text": [
            "Moviepy - Done !\n",
            "Moviepy - video ready /content/drive/MyDrive/videos/264/Im Good (Blue).mp4\n",
            "Moviepy - Building video /content/drive/MyDrive/videos/264/Cold Heart (PNAU Remix).mp4.\n",
            "Moviepy - Writing video /content/drive/MyDrive/videos/264/Cold Heart (PNAU Remix).mp4\n",
            "\n"
          ]
        },
        {
          "output_type": "stream",
          "name": "stderr",
          "text": [
            "t: 100%|█████████▉| 6349/6354 [01:10<00:00, 97.80it/s, now=None]WARNING:py.warnings:/usr/local/lib/python3.10/dist-packages/moviepy/video/io/ffmpeg_reader.py:123: UserWarning: Warning: in file /content/drive/MyDrive/videos/Cold Heart (PNAU Remix).mp4, 2764800 bytes wanted but 0 bytes read,at frame 6353/6354, at time 254.12/254.14 sec. Using the last valid frame instead.\n",
            "  warnings.warn(\"Warning: in file %s, \"%(self.filename)+\n",
            "\n"
          ]
        },
        {
          "output_type": "stream",
          "name": "stdout",
          "text": [
            "Moviepy - Done !\n",
            "Moviepy - video ready /content/drive/MyDrive/videos/264/Cold Heart (PNAU Remix).mp4\n",
            "Moviepy - Building video /content/drive/MyDrive/videos/264/Bop Menaxe- War Cry (Official Music Video).mp4.\n",
            "Moviepy - Writing video /content/drive/MyDrive/videos/264/Bop Menaxe- War Cry (Official Music Video).mp4\n",
            "\n"
          ]
        },
        {
          "output_type": "stream",
          "name": "stderr",
          "text": [
            "t: 100%|█████████▉| 2892/2898 [00:38<00:00, 80.36it/s, now=None]WARNING:py.warnings:/usr/local/lib/python3.10/dist-packages/moviepy/video/io/ffmpeg_reader.py:123: UserWarning: Warning: in file /content/drive/MyDrive/videos/Bop Menaxe- War Cry (Official Music Video).mp4, 2595840 bytes wanted but 0 bytes read,at frame 2897/2898, at time 115.88/115.89 sec. Using the last valid frame instead.\n",
            "  warnings.warn(\"Warning: in file %s, \"%(self.filename)+\n",
            "\n"
          ]
        },
        {
          "output_type": "stream",
          "name": "stdout",
          "text": [
            "Moviepy - Done !\n",
            "Moviepy - video ready /content/drive/MyDrive/videos/264/Bop Menaxe- War Cry (Official Music Video).mp4\n",
            "Moviepy - Building video /content/drive/MyDrive/videos/264/Escapism.mp4.\n",
            "Moviepy - Writing video /content/drive/MyDrive/videos/264/Escapism.mp4\n",
            "\n"
          ]
        },
        {
          "output_type": "stream",
          "name": "stderr",
          "text": [
            "t: 100%|█████████▉| 6826/6835 [01:10<00:00, 133.41it/s, now=None]WARNING:py.warnings:/usr/local/lib/python3.10/dist-packages/moviepy/video/io/ffmpeg_reader.py:123: UserWarning: Warning: in file /content/drive/MyDrive/videos/Escapism.mp4, 2764800 bytes wanted but 0 bytes read,at frame 6834/6835, at time 273.36/273.37 sec. Using the last valid frame instead.\n",
            "  warnings.warn(\"Warning: in file %s, \"%(self.filename)+\n",
            "\n"
          ]
        },
        {
          "output_type": "stream",
          "name": "stdout",
          "text": [
            "Moviepy - Done !\n",
            "Moviepy - video ready /content/drive/MyDrive/videos/264/Escapism.mp4\n",
            "Moviepy - Building video /content/drive/MyDrive/videos/264/Left And Right.mp4.\n",
            "Moviepy - Writing video /content/drive/MyDrive/videos/264/Left And Right.mp4\n",
            "\n"
          ]
        },
        {
          "output_type": "stream",
          "name": "stderr",
          "text": [
            "t: 100%|█████████▉| 3815/3817 [00:36<00:00, 144.72it/s, now=None]WARNING:py.warnings:/usr/local/lib/python3.10/dist-packages/moviepy/video/io/ffmpeg_reader.py:123: UserWarning: Warning: in file /content/drive/MyDrive/videos/Left And Right.mp4, 2764800 bytes wanted but 0 bytes read,at frame 3816/3817, at time 159.16/159.17 sec. Using the last valid frame instead.\n",
            "  warnings.warn(\"Warning: in file %s, \"%(self.filename)+\n",
            "\n"
          ]
        },
        {
          "output_type": "stream",
          "name": "stdout",
          "text": [
            "Moviepy - Done !\n",
            "Moviepy - video ready /content/drive/MyDrive/videos/264/Left And Right.mp4\n",
            "Moviepy - Building video /content/drive/MyDrive/videos/264/Unholy (Official Music Video).mp4.\n",
            "Moviepy - Writing video /content/drive/MyDrive/videos/264/Unholy (Official Music Video).mp4\n",
            "\n"
          ]
        },
        {
          "output_type": "stream",
          "name": "stderr",
          "text": []
        },
        {
          "output_type": "stream",
          "name": "stdout",
          "text": [
            "Moviepy - Done !\n",
            "Moviepy - video ready /content/drive/MyDrive/videos/264/Unholy (Official Music Video).mp4\n",
            "Moviepy - Building video /content/drive/MyDrive/videos/264/Pepas (Official Video).mp4.\n",
            "Moviepy - Writing video /content/drive/MyDrive/videos/264/Pepas (Official Video).mp4\n",
            "\n"
          ]
        },
        {
          "output_type": "stream",
          "name": "stderr",
          "text": [
            "t: 100%|█████████▉| 7029/7048 [01:11<00:00, 103.89it/s, now=None]WARNING:py.warnings:/usr/local/lib/python3.10/dist-packages/moviepy/video/io/ffmpeg_reader.py:123: UserWarning: Warning: in file /content/drive/MyDrive/videos/Pepas (Official Video).mp4, 1935360 bytes wanted but 0 bytes read,at frame 7047/7048, at time 293.92/293.92 sec. Using the last valid frame instead.\n",
            "  warnings.warn(\"Warning: in file %s, \"%(self.filename)+\n",
            "\n"
          ]
        },
        {
          "output_type": "stream",
          "name": "stdout",
          "text": [
            "Moviepy - Done !\n",
            "Moviepy - video ready /content/drive/MyDrive/videos/264/Pepas (Official Video).mp4\n",
            "Moviepy - Building video /content/drive/MyDrive/videos/264/Last Last.mp4.\n",
            "Moviepy - Writing video /content/drive/MyDrive/videos/264/Last Last.mp4\n",
            "\n"
          ]
        },
        {
          "output_type": "stream",
          "name": "stderr",
          "text": [
            "t: 100%|█████████▉| 4338/4345 [00:52<00:00, 115.57it/s, now=None]WARNING:py.warnings:/usr/local/lib/python3.10/dist-packages/moviepy/video/io/ffmpeg_reader.py:123: UserWarning: Warning: in file /content/drive/MyDrive/videos/Last Last.mp4, 2595840 bytes wanted but 0 bytes read,at frame 4344/4345, at time 173.76/173.78 sec. Using the last valid frame instead.\n",
            "  warnings.warn(\"Warning: in file %s, \"%(self.filename)+\n",
            "\n"
          ]
        },
        {
          "output_type": "stream",
          "name": "stdout",
          "text": [
            "Moviepy - Done !\n",
            "Moviepy - video ready /content/drive/MyDrive/videos/264/Last Last.mp4\n",
            "Moviepy - Building video /content/drive/MyDrive/videos/264/Happier Than Ever (Official Music Video).mp4.\n",
            "Moviepy - Writing video /content/drive/MyDrive/videos/264/Happier Than Ever (Official Music Video).mp4\n",
            "\n"
          ]
        },
        {
          "output_type": "stream",
          "name": "stderr",
          "text": [
            "t: 100%|█████████▉| 7552/7556 [01:02<00:00, 178.47it/s, now=None]WARNING:py.warnings:/usr/local/lib/python3.10/dist-packages/moviepy/video/io/ffmpeg_reader.py:123: UserWarning: Warning: in file /content/drive/MyDrive/videos/Happier Than Ever (Official Music Video).mp4, 2081280 bytes wanted but 0 bytes read,at frame 7555/7556, at time 315.11/315.12 sec. Using the last valid frame instead.\n",
            "  warnings.warn(\"Warning: in file %s, \"%(self.filename)+\n",
            "\n"
          ]
        },
        {
          "output_type": "stream",
          "name": "stdout",
          "text": [
            "Moviepy - Done !\n",
            "Moviepy - video ready /content/drive/MyDrive/videos/264/Happier Than Ever (Official Music Video).mp4\n",
            "Moviepy - Building video /content/drive/MyDrive/videos/264/Jaded (Official Video).mp4.\n",
            "Moviepy - Writing video /content/drive/MyDrive/videos/264/Jaded (Official Video).mp4\n",
            "\n"
          ]
        },
        {
          "output_type": "stream",
          "name": "stderr",
          "text": [
            "t: 100%|█████████▉| 4421/4429 [00:53<00:00, 92.73it/s, now=None]WARNING:py.warnings:/usr/local/lib/python3.10/dist-packages/moviepy/video/io/ffmpeg_reader.py:123: UserWarning: Warning: in file /content/drive/MyDrive/videos/Jaded (Official Video).mp4, 2764800 bytes wanted but 0 bytes read,at frame 4428/4429, at time 184.50/184.51 sec. Using the last valid frame instead.\n",
            "  warnings.warn(\"Warning: in file %s, \"%(self.filename)+\n",
            "\n"
          ]
        },
        {
          "output_type": "stream",
          "name": "stdout",
          "text": [
            "Moviepy - Done !\n",
            "Moviepy - video ready /content/drive/MyDrive/videos/264/Jaded (Official Video).mp4\n",
            "Moviepy - Building video /content/drive/MyDrive/videos/264/True kash x Plug Party (Official Video).mp4.\n",
            "Moviepy - Writing video /content/drive/MyDrive/videos/264/True kash x Plug Party (Official Video).mp4\n",
            "\n"
          ]
        },
        {
          "output_type": "stream",
          "name": "stderr",
          "text": [
            "t: 100%|█████████▉| 2792/2800 [00:37<00:00, 62.53it/s, now=None]WARNING:py.warnings:/usr/local/lib/python3.10/dist-packages/moviepy/video/io/ffmpeg_reader.py:123: UserWarning: Warning: in file /content/drive/MyDrive/videos/True kash x Plug Party (Official Video).mp4, 2764800 bytes wanted but 0 bytes read,at frame 2799/2800, at time 116.62/116.63 sec. Using the last valid frame instead.\n",
            "  warnings.warn(\"Warning: in file %s, \"%(self.filename)+\n",
            "\n"
          ]
        },
        {
          "output_type": "stream",
          "name": "stdout",
          "text": [
            "Moviepy - Done !\n",
            "Moviepy - video ready /content/drive/MyDrive/videos/264/True kash x Plug Party (Official Video).mp4\n",
            "Moviepy - Building video /content/drive/MyDrive/videos/264/Easy On Me (Official Video).mp4.\n",
            "Moviepy - Writing video /content/drive/MyDrive/videos/264/Easy On Me (Official Video).mp4\n",
            "\n"
          ]
        },
        {
          "output_type": "stream",
          "name": "stderr",
          "text": [
            "t: 100%|██████████| 7960/7960 [01:20<00:00, 166.29it/s, now=None]WARNING:py.warnings:/usr/local/lib/python3.10/dist-packages/moviepy/video/io/ffmpeg_reader.py:123: UserWarning: Warning: in file /content/drive/MyDrive/videos/Easy On Me (Official Video).mp4, 2280960 bytes wanted but 0 bytes read,at frame 7959/7960, at time 331.62/331.63 sec. Using the last valid frame instead.\n",
            "  warnings.warn(\"Warning: in file %s, \"%(self.filename)+\n",
            "\n"
          ]
        },
        {
          "output_type": "stream",
          "name": "stdout",
          "text": [
            "Moviepy - Done !\n",
            "Moviepy - video ready /content/drive/MyDrive/videos/264/Easy On Me (Official Video).mp4\n",
            "Moviepy - Building video /content/drive/MyDrive/videos/264/Bad Habits.mp4.\n",
            "Moviepy - Writing video /content/drive/MyDrive/videos/264/Bad Habits.mp4\n",
            "\n"
          ]
        },
        {
          "output_type": "stream",
          "name": "stderr",
          "text": [
            "t: 100%|█████████▉| 5768/5778 [01:00<00:00, 113.79it/s, now=None]WARNING:py.warnings:/usr/local/lib/python3.10/dist-packages/moviepy/video/io/ffmpeg_reader.py:123: UserWarning: Warning: in file /content/drive/MyDrive/videos/Bad Habits.mp4, 2764800 bytes wanted but 0 bytes read,at frame 5777/5778, at time 240.95/240.95 sec. Using the last valid frame instead.\n",
            "  warnings.warn(\"Warning: in file %s, \"%(self.filename)+\n",
            "\n"
          ]
        },
        {
          "output_type": "stream",
          "name": "stdout",
          "text": [
            "Moviepy - Done !\n",
            "Moviepy - video ready /content/drive/MyDrive/videos/264/Bad Habits.mp4\n",
            "Moviepy - Building video /content/drive/MyDrive/videos/264/Hold My Hand.mp4.\n",
            "Moviepy - Writing video /content/drive/MyDrive/videos/264/Hold My Hand.mp4\n",
            "\n"
          ]
        },
        {
          "output_type": "stream",
          "name": "stderr",
          "text": [
            "t: 100%|█████████▉| 5501/5510 [00:54<00:00, 129.26it/s, now=None]WARNING:py.warnings:/usr/local/lib/python3.10/dist-packages/moviepy/video/io/ffmpeg_reader.py:123: UserWarning: Warning: in file /content/drive/MyDrive/videos/Hold My Hand.mp4, 2764800 bytes wanted but 0 bytes read,at frame 5509/5510, at time 229.77/229.78 sec. Using the last valid frame instead.\n",
            "  warnings.warn(\"Warning: in file %s, \"%(self.filename)+\n",
            "\n"
          ]
        },
        {
          "output_type": "stream",
          "name": "stdout",
          "text": [
            "Moviepy - Done !\n",
            "Moviepy - video ready /content/drive/MyDrive/videos/264/Hold My Hand.mp4\n",
            "Moviepy - Building video /content/drive/MyDrive/videos/264/Angel Pt 1.mp4.\n",
            "Moviepy - Writing video /content/drive/MyDrive/videos/264/Angel Pt 1.mp4\n",
            "\n"
          ]
        },
        {
          "output_type": "stream",
          "name": "stderr",
          "text": [
            "t: 100%|█████████▉| 4293/4302 [00:48<00:00, 118.42it/s, now=None]WARNING:py.warnings:/usr/local/lib/python3.10/dist-packages/moviepy/video/io/ffmpeg_reader.py:123: UserWarning: Warning: in file /content/drive/MyDrive/videos/Angel Pt 1.mp4, 2764800 bytes wanted but 0 bytes read,at frame 4301/4302, at time 179.39/179.40 sec. Using the last valid frame instead.\n",
            "  warnings.warn(\"Warning: in file %s, \"%(self.filename)+\n",
            "\n"
          ]
        },
        {
          "output_type": "stream",
          "name": "stdout",
          "text": [
            "Moviepy - Done !\n",
            "Moviepy - video ready /content/drive/MyDrive/videos/264/Angel Pt 1.mp4\n",
            "Moviepy - Building video /content/drive/MyDrive/videos/264/Anti-Hero (Official Lyric Video).mp4.\n",
            "Moviepy - Writing video /content/drive/MyDrive/videos/264/Anti-Hero (Official Lyric Video).mp4\n",
            "\n"
          ]
        },
        {
          "output_type": "stream",
          "name": "stderr",
          "text": []
        },
        {
          "output_type": "stream",
          "name": "stdout",
          "text": [
            "Moviepy - Done !\n",
            "Moviepy - video ready /content/drive/MyDrive/videos/264/Anti-Hero (Official Lyric Video).mp4\n",
            "Moviepy - Building video /content/drive/MyDrive/videos/264/Enemy (from the series Arcane League of Legends).mp4.\n",
            "Moviepy - Writing video /content/drive/MyDrive/videos/264/Enemy (from the series Arcane League of Legends).mp4\n",
            "\n"
          ]
        },
        {
          "output_type": "stream",
          "name": "stderr",
          "text": []
        },
        {
          "output_type": "stream",
          "name": "stdout",
          "text": [
            "Moviepy - Done !\n",
            "Moviepy - video ready /content/drive/MyDrive/videos/264/Enemy (from the series Arcane League of Legends).mp4\n",
            "Moviepy - Building video /content/drive/MyDrive/videos/264/Hero.mp4.\n",
            "Moviepy - Writing video /content/drive/MyDrive/videos/264/Hero.mp4\n",
            "\n"
          ]
        },
        {
          "output_type": "stream",
          "name": "stderr",
          "text": [
            "t: 100%|█████████▉| 4276/4287 [00:42<00:00, 113.82it/s, now=None]WARNING:py.warnings:/usr/local/lib/python3.10/dist-packages/moviepy/video/io/ffmpeg_reader.py:123: UserWarning: Warning: in file /content/drive/MyDrive/videos/Hero.mp4, 2764800 bytes wanted but 0 bytes read,at frame 4286/4287, at time 171.44/171.46 sec. Using the last valid frame instead.\n",
            "  warnings.warn(\"Warning: in file %s, \"%(self.filename)+\n",
            "\n"
          ]
        },
        {
          "output_type": "stream",
          "name": "stdout",
          "text": [
            "Moviepy - Done !\n",
            "Moviepy - video ready /content/drive/MyDrive/videos/264/Hero.mp4\n",
            "Moviepy - Building video /content/drive/MyDrive/videos/264/Wish You The Best.mp4.\n",
            "Moviepy - Writing video /content/drive/MyDrive/videos/264/Wish You The Best.mp4\n",
            "\n"
          ]
        },
        {
          "output_type": "stream",
          "name": "stderr",
          "text": [
            "t: 100%|█████████▉| 5431/5436 [00:51<00:00, 144.90it/s, now=None]WARNING:py.warnings:/usr/local/lib/python3.10/dist-packages/moviepy/video/io/ffmpeg_reader.py:123: UserWarning: Warning: in file /content/drive/MyDrive/videos/Wish You The Best.mp4, 2764800 bytes wanted but 0 bytes read,at frame 5435/5436, at time 217.40/217.41 sec. Using the last valid frame instead.\n",
            "  warnings.warn(\"Warning: in file %s, \"%(self.filename)+\n",
            "\n"
          ]
        },
        {
          "output_type": "stream",
          "name": "stdout",
          "text": [
            "Moviepy - Done !\n",
            "Moviepy - video ready /content/drive/MyDrive/videos/264/Wish You The Best.mp4\n",
            "Moviepy - Building video /content/drive/MyDrive/videos/264/SNAP.mp4.\n",
            "Moviepy - Writing video /content/drive/MyDrive/videos/264/SNAP.mp4\n",
            "\n"
          ]
        },
        {
          "output_type": "stream",
          "name": "stderr",
          "text": [
            "t: 100%|█████████▉| 4680/4684 [00:48<00:00, 106.32it/s, now=None]WARNING:py.warnings:/usr/local/lib/python3.10/dist-packages/moviepy/video/io/ffmpeg_reader.py:123: UserWarning: Warning: in file /content/drive/MyDrive/videos/SNAP.mp4, 2764800 bytes wanted but 0 bytes read,at frame 4683/4684, at time 195.12/195.14 sec. Using the last valid frame instead.\n",
            "  warnings.warn(\"Warning: in file %s, \"%(self.filename)+\n",
            "\n"
          ]
        },
        {
          "output_type": "stream",
          "name": "stdout",
          "text": [
            "Moviepy - Done !\n",
            "Moviepy - video ready /content/drive/MyDrive/videos/264/SNAP.mp4\n",
            "Moviepy - Building video /content/drive/MyDrive/videos/264/Eyes Closed.mp4.\n",
            "Moviepy - Writing video /content/drive/MyDrive/videos/264/Eyes Closed.mp4\n",
            "\n"
          ]
        },
        {
          "output_type": "stream",
          "name": "stderr",
          "text": [
            "t: 100%|█████████▉| 5365/5376 [00:54<00:00, 105.34it/s, now=None]WARNING:py.warnings:/usr/local/lib/python3.10/dist-packages/moviepy/video/io/ffmpeg_reader.py:123: UserWarning: Warning: in file /content/drive/MyDrive/videos/Eyes Closed.mp4, 2764800 bytes wanted but 0 bytes read,at frame 5375/5376, at time 215.00/215.02 sec. Using the last valid frame instead.\n",
            "  warnings.warn(\"Warning: in file %s, \"%(self.filename)+\n",
            "\n"
          ]
        },
        {
          "output_type": "stream",
          "name": "stdout",
          "text": [
            "Moviepy - Done !\n",
            "Moviepy - video ready /content/drive/MyDrive/videos/264/Eyes Closed.mp4\n",
            "Moviepy - Building video /content/drive/MyDrive/videos/264/Dont Be Shy.mp4.\n",
            "Moviepy - Writing video /content/drive/MyDrive/videos/264/Dont Be Shy.mp4\n",
            "\n"
          ]
        },
        {
          "output_type": "stream",
          "name": "stderr",
          "text": [
            "t: 100%|█████████▉| 4485/4486 [00:46<00:00, 142.38it/s, now=None]WARNING:py.warnings:/usr/local/lib/python3.10/dist-packages/moviepy/video/io/ffmpeg_reader.py:123: UserWarning: Warning: in file /content/drive/MyDrive/videos/Dont Be Shy.mp4, 2764800 bytes wanted but 0 bytes read,at frame 4485/4486, at time 187.06/187.08 sec. Using the last valid frame instead.\n",
            "  warnings.warn(\"Warning: in file %s, \"%(self.filename)+\n",
            "\n"
          ]
        },
        {
          "output_type": "stream",
          "name": "stdout",
          "text": [
            "Moviepy - Done !\n",
            "Moviepy - video ready /content/drive/MyDrive/videos/264/Dont Be Shy.mp4\n",
            "Moviepy - Building video /content/drive/MyDrive/videos/264/TRUSTFALL.mp4.\n",
            "Moviepy - Writing video /content/drive/MyDrive/videos/264/TRUSTFALL.mp4\n",
            "\n"
          ]
        },
        {
          "output_type": "stream",
          "name": "stderr",
          "text": [
            "t: 100%|█████████▉| 6775/6782 [00:56<00:00, 131.06it/s, now=None]WARNING:py.warnings:/usr/local/lib/python3.10/dist-packages/moviepy/video/io/ffmpeg_reader.py:123: UserWarning: Warning: in file /content/drive/MyDrive/videos/TRUSTFALL.mp4, 1989120 bytes wanted but 0 bytes read,at frame 6781/6782, at time 282.82/282.84 sec. Using the last valid frame instead.\n",
            "  warnings.warn(\"Warning: in file %s, \"%(self.filename)+\n",
            "\n"
          ]
        },
        {
          "output_type": "stream",
          "name": "stdout",
          "text": [
            "Moviepy - Done !\n",
            "Moviepy - video ready /content/drive/MyDrive/videos/264/TRUSTFALL.mp4\n",
            "Moviepy - Building video /content/drive/MyDrive/videos/264/DONT YOU WORRY (Official Music Video).mp4.\n",
            "Moviepy - Writing video /content/drive/MyDrive/videos/264/DONT YOU WORRY (Official Music Video).mp4\n",
            "\n"
          ]
        },
        {
          "output_type": "stream",
          "name": "stderr",
          "text": [
            "t: 100%|█████████▉| 6128/6129 [00:58<00:00, 124.70it/s, now=None]WARNING:py.warnings:/usr/local/lib/python3.10/dist-packages/moviepy/video/io/ffmpeg_reader.py:123: UserWarning: Warning: in file /content/drive/MyDrive/videos/DONT YOU WORRY (Official Music Video).mp4, 2764800 bytes wanted but 0 bytes read,at frame 6128/6129, at time 255.59/255.61 sec. Using the last valid frame instead.\n",
            "  warnings.warn(\"Warning: in file %s, \"%(self.filename)+\n",
            "\n"
          ]
        },
        {
          "output_type": "stream",
          "name": "stdout",
          "text": [
            "Moviepy - Done !\n",
            "Moviepy - video ready /content/drive/MyDrive/videos/264/DONT YOU WORRY (Official Music Video).mp4\n",
            "Moviepy - Building video /content/drive/MyDrive/videos/264/Lift Me Up (From Black Panther Wakanda Forever).mp4.\n",
            "Moviepy - Writing video /content/drive/MyDrive/videos/264/Lift Me Up (From Black Panther Wakanda Forever).mp4\n",
            "\n"
          ]
        },
        {
          "output_type": "stream",
          "name": "stderr",
          "text": []
        },
        {
          "output_type": "stream",
          "name": "stdout",
          "text": [
            "Moviepy - Done !\n",
            "Moviepy - video ready /content/drive/MyDrive/videos/264/Lift Me Up (From Black Panther Wakanda Forever).mp4\n",
            "Moviepy - Building video /content/drive/MyDrive/videos/264/Chemical.mp4.\n",
            "Moviepy - Writing video /content/drive/MyDrive/videos/264/Chemical.mp4\n",
            "\n"
          ]
        },
        {
          "output_type": "stream",
          "name": "stderr",
          "text": [
            "t: 100%|█████████▉| 4922/4935 [00:46<00:00, 158.80it/s, now=None]WARNING:py.warnings:/usr/local/lib/python3.10/dist-packages/moviepy/video/io/ffmpeg_reader.py:123: UserWarning: Warning: in file /content/drive/MyDrive/videos/Chemical.mp4, 2764800 bytes wanted but 0 bytes read,at frame 4934/4935, at time 205.58/205.59 sec. Using the last valid frame instead.\n",
            "  warnings.warn(\"Warning: in file %s, \"%(self.filename)+\n",
            "\n"
          ]
        },
        {
          "output_type": "stream",
          "name": "stdout",
          "text": [
            "Moviepy - Done !\n",
            "Moviepy - video ready /content/drive/MyDrive/videos/264/Chemical.mp4\n",
            "Moviepy - Building video /content/drive/MyDrive/videos/264/Flow tro - Aroma Live.mp4.\n",
            "Moviepy - Writing video /content/drive/MyDrive/videos/264/Flow tro - Aroma Live.mp4\n",
            "\n"
          ]
        },
        {
          "output_type": "stream",
          "name": "stderr",
          "text": [
            "t: 100%|█████████▉| 5341/5350 [01:10<00:00, 110.61it/s, now=None]WARNING:py.warnings:/usr/local/lib/python3.10/dist-packages/moviepy/video/io/ffmpeg_reader.py:123: UserWarning: Warning: in file /content/drive/MyDrive/videos/Flow tro - Aroma Live.mp4, 2764800 bytes wanted but 0 bytes read,at frame 5349/5350, at time 178.30/178.31 sec. Using the last valid frame instead.\n",
            "  warnings.warn(\"Warning: in file %s, \"%(self.filename)+\n",
            "\n"
          ]
        },
        {
          "output_type": "stream",
          "name": "stdout",
          "text": [
            "Moviepy - Done !\n",
            "Moviepy - video ready /content/drive/MyDrive/videos/264/Flow tro - Aroma Live.mp4\n",
            "Moviepy - Building video /content/drive/MyDrive/videos/264/Shivers.mp4.\n",
            "Moviepy - Writing video /content/drive/MyDrive/videos/264/Shivers.mp4\n",
            "\n"
          ]
        },
        {
          "output_type": "stream",
          "name": "stderr",
          "text": [
            "t: 100%|█████████▉| 5700/5702 [01:00<00:00, 134.86it/s, now=None]WARNING:py.warnings:/usr/local/lib/python3.10/dist-packages/moviepy/video/io/ffmpeg_reader.py:123: UserWarning: Warning: in file /content/drive/MyDrive/videos/Shivers.mp4, 2595840 bytes wanted but 0 bytes read,at frame 5701/5702, at time 237.78/237.80 sec. Using the last valid frame instead.\n",
            "  warnings.warn(\"Warning: in file %s, \"%(self.filename)+\n",
            "\n"
          ]
        },
        {
          "output_type": "stream",
          "name": "stdout",
          "text": [
            "Moviepy - Done !\n",
            "Moviepy - video ready /content/drive/MyDrive/videos/264/Shivers.mp4\n",
            "Moviepy - Building video /content/drive/MyDrive/videos/264/UH OH!.mp4.\n",
            "Moviepy - Writing video /content/drive/MyDrive/videos/264/UH OH!.mp4\n",
            "\n"
          ]
        },
        {
          "output_type": "stream",
          "name": "stderr",
          "text": [
            "t: 100%|█████████▉| 3801/3814 [00:41<00:00, 104.05it/s, now=None]WARNING:py.warnings:/usr/local/lib/python3.10/dist-packages/moviepy/video/io/ffmpeg_reader.py:123: UserWarning: Warning: in file /content/drive/MyDrive/videos/UH OH!.mp4, 2764800 bytes wanted but 0 bytes read,at frame 3813/3814, at time 158.88/158.89 sec. Using the last valid frame instead.\n",
            "  warnings.warn(\"Warning: in file %s, \"%(self.filename)+\n",
            "\n"
          ]
        },
        {
          "output_type": "stream",
          "name": "stdout",
          "text": [
            "Moviepy - Done !\n",
            "Moviepy - video ready /content/drive/MyDrive/videos/264/UH OH!.mp4\n",
            "Moviepy - Building video /content/drive/MyDrive/videos/264/Substitution (Official Music Video).mp4.\n",
            "Moviepy - Writing video /content/drive/MyDrive/videos/264/Substitution (Official Music Video).mp4\n",
            "\n"
          ]
        },
        {
          "output_type": "stream",
          "name": "stderr",
          "text": []
        },
        {
          "output_type": "stream",
          "name": "stdout",
          "text": [
            "Moviepy - Done !\n",
            "Moviepy - video ready /content/drive/MyDrive/videos/264/Substitution (Official Music Video).mp4\n",
            "Moviepy - Building video /content/drive/MyDrive/videos/264/Miracle.mp4.\n",
            "Moviepy - Writing video /content/drive/MyDrive/videos/264/Miracle.mp4\n",
            "\n"
          ]
        },
        {
          "output_type": "stream",
          "name": "stderr",
          "text": [
            "t: 100%|█████████▉| 4616/4630 [00:52<00:00, 113.19it/s, now=None]WARNING:py.warnings:/usr/local/lib/python3.10/dist-packages/moviepy/video/io/ffmpeg_reader.py:123: UserWarning: Warning: in file /content/drive/MyDrive/videos/Miracle.mp4, 2764800 bytes wanted but 0 bytes read,at frame 4629/4630, at time 185.16/185.18 sec. Using the last valid frame instead.\n",
            "  warnings.warn(\"Warning: in file %s, \"%(self.filename)+\n",
            "\n"
          ]
        },
        {
          "output_type": "stream",
          "name": "stdout",
          "text": [
            "Moviepy - Done !\n",
            "Moviepy - video ready /content/drive/MyDrive/videos/264/Miracle.mp4\n",
            "Moviepy - Building video /content/drive/MyDrive/videos/264/Peru.mp4.\n",
            "Moviepy - Writing video /content/drive/MyDrive/videos/264/Peru.mp4\n",
            "\n"
          ]
        },
        {
          "output_type": "stream",
          "name": "stderr",
          "text": [
            "t: 100%|█████████▉| 4726/4730 [00:49<00:00, 100.76it/s, now=None]WARNING:py.warnings:/usr/local/lib/python3.10/dist-packages/moviepy/video/io/ffmpeg_reader.py:123: UserWarning: Warning: in file /content/drive/MyDrive/videos/Peru.mp4, 2764800 bytes wanted but 0 bytes read,at frame 4729/4730, at time 189.16/189.17 sec. Using the last valid frame instead.\n",
            "  warnings.warn(\"Warning: in file %s, \"%(self.filename)+\n",
            "\n"
          ]
        },
        {
          "output_type": "stream",
          "name": "stdout",
          "text": [
            "Moviepy - Done !\n",
            "Moviepy - video ready /content/drive/MyDrive/videos/264/Peru.mp4\n",
            "Moviepy - Building video /content/drive/MyDrive/videos/264/For My Hand.mp4.\n",
            "Moviepy - Writing video /content/drive/MyDrive/videos/264/For My Hand.mp4\n",
            "\n"
          ]
        },
        {
          "output_type": "stream",
          "name": "stderr",
          "text": []
        },
        {
          "output_type": "stream",
          "name": "stdout",
          "text": [
            "Moviepy - Done !\n",
            "Moviepy - video ready /content/drive/MyDrive/videos/264/For My Hand.mp4\n",
            "Moviepy - Building video /content/drive/MyDrive/videos/264/Sharks (Official Music Video).mp4.\n",
            "Moviepy - Writing video /content/drive/MyDrive/videos/264/Sharks (Official Music Video).mp4\n",
            "\n"
          ]
        },
        {
          "output_type": "stream",
          "name": "stderr",
          "text": [
            "t: 100%|█████████▉| 5180/5192 [00:45<00:00, 203.75it/s, now=None]WARNING:py.warnings:/usr/local/lib/python3.10/dist-packages/moviepy/video/io/ffmpeg_reader.py:123: UserWarning: Warning: in file /content/drive/MyDrive/videos/Sharks (Official Music Video).mp4, 2050560 bytes wanted but 0 bytes read,at frame 5191/5192, at time 216.51/216.53 sec. Using the last valid frame instead.\n",
            "  warnings.warn(\"Warning: in file %s, \"%(self.filename)+\n",
            "\n"
          ]
        },
        {
          "output_type": "stream",
          "name": "stdout",
          "text": [
            "Moviepy - Done !\n",
            "Moviepy - video ready /content/drive/MyDrive/videos/264/Sharks (Official Music Video).mp4\n",
            "Moviepy - Building video /content/drive/MyDrive/videos/264/Woman (Official Video).mp4.\n",
            "Moviepy - Writing video /content/drive/MyDrive/videos/264/Woman (Official Video).mp4\n",
            "\n"
          ]
        },
        {
          "output_type": "stream",
          "name": "stderr",
          "text": [
            "t: 100%|██████████| 4626/4626 [00:41<00:00, 181.75it/s, now=None]WARNING:py.warnings:/usr/local/lib/python3.10/dist-packages/moviepy/video/io/ffmpeg_reader.py:123: UserWarning: Warning: in file /content/drive/MyDrive/videos/Woman (Official Video).mp4, 2050560 bytes wanted but 0 bytes read,at frame 4625/4626, at time 192.90/192.91 sec. Using the last valid frame instead.\n",
            "  warnings.warn(\"Warning: in file %s, \"%(self.filename)+\n",
            "\n"
          ]
        },
        {
          "output_type": "stream",
          "name": "stdout",
          "text": [
            "Moviepy - Done !\n",
            "Moviepy - video ready /content/drive/MyDrive/videos/264/Woman (Official Video).mp4\n",
            "Moviepy - Building video /content/drive/MyDrive/videos/264/Bad Habit (Official Video).mp4.\n",
            "Moviepy - Writing video /content/drive/MyDrive/videos/264/Bad Habit (Official Video).mp4\n",
            "\n"
          ]
        },
        {
          "output_type": "stream",
          "name": "stderr",
          "text": [
            "t: 100%|█████████▉| 5811/5821 [00:46<00:00, 135.64it/s, now=None]WARNING:py.warnings:/usr/local/lib/python3.10/dist-packages/moviepy/video/io/ffmpeg_reader.py:123: UserWarning: Warning: in file /content/drive/MyDrive/videos/Bad Habit (Official Video).mp4, 2764800 bytes wanted but 0 bytes read,at frame 5820/5821, at time 242.50/242.51 sec. Using the last valid frame instead.\n",
            "  warnings.warn(\"Warning: in file %s, \"%(self.filename)+\n",
            "\n"
          ]
        },
        {
          "output_type": "stream",
          "name": "stdout",
          "text": [
            "Moviepy - Done !\n",
            "Moviepy - video ready /content/drive/MyDrive/videos/264/Bad Habit (Official Video).mp4\n",
            "Moviepy - Building video /content/drive/MyDrive/videos/264/Dancing With You.mp4.\n",
            "Moviepy - Writing video /content/drive/MyDrive/videos/264/Dancing With You.mp4\n",
            "\n"
          ]
        },
        {
          "output_type": "stream",
          "name": "stderr",
          "text": [
            "t: 100%|█████████▉| 6242/6252 [01:04<00:00, 122.10it/s, now=None]WARNING:py.warnings:/usr/local/lib/python3.10/dist-packages/moviepy/video/io/ffmpeg_reader.py:123: UserWarning: Warning: in file /content/drive/MyDrive/videos/Dancing With You.mp4, 2764800 bytes wanted but 0 bytes read,at frame 6251/6252, at time 260.72/260.74 sec. Using the last valid frame instead.\n",
            "  warnings.warn(\"Warning: in file %s, \"%(self.filename)+\n",
            "\n"
          ]
        },
        {
          "output_type": "stream",
          "name": "stdout",
          "text": [
            "Moviepy - Done !\n",
            "Moviepy - video ready /content/drive/MyDrive/videos/264/Dancing With You.mp4\n",
            "Moviepy - Building video /content/drive/MyDrive/videos/264/Solo.mp4.\n",
            "Moviepy - Writing video /content/drive/MyDrive/videos/264/Solo.mp4\n",
            "\n"
          ]
        },
        {
          "output_type": "stream",
          "name": "stderr",
          "text": [
            "t: 100%|██████████| 3932/3932 [00:45<00:00, 92.06it/s, now=None]WARNING:py.warnings:/usr/local/lib/python3.10/dist-packages/moviepy/video/io/ffmpeg_reader.py:123: UserWarning: Warning: in file /content/drive/MyDrive/videos/Solo.mp4, 2764800 bytes wanted but 0 bytes read,at frame 3931/3932, at time 157.24/157.25 sec. Using the last valid frame instead.\n",
            "  warnings.warn(\"Warning: in file %s, \"%(self.filename)+\n",
            "\n"
          ]
        },
        {
          "output_type": "stream",
          "name": "stdout",
          "text": [
            "Moviepy - Done !\n",
            "Moviepy - video ready /content/drive/MyDrive/videos/264/Solo.mp4\n",
            "Moviepy - Building video /content/drive/MyDrive/videos/264/I Like You (A Happier Song) w Doja Cat [Official Music Video].mp4.\n",
            "Moviepy - Writing video /content/drive/MyDrive/videos/264/I Like You (A Happier Song) w Doja Cat [Official Music Video].mp4\n",
            "\n"
          ]
        },
        {
          "output_type": "stream",
          "name": "stderr",
          "text": [
            "t: 100%|█████████▉| 4739/4745 [00:50<00:00, 120.86it/s, now=None]WARNING:py.warnings:/usr/local/lib/python3.10/dist-packages/moviepy/video/io/ffmpeg_reader.py:123: UserWarning: Warning: in file /content/drive/MyDrive/videos/I Like You (A Happier Song) w Doja Cat [Official Music Video].mp4, 2764800 bytes wanted but 0 bytes read,at frame 4744/4745, at time 197.86/197.88 sec. Using the last valid frame instead.\n",
            "  warnings.warn(\"Warning: in file %s, \"%(self.filename)+\n",
            "\n"
          ]
        },
        {
          "output_type": "stream",
          "name": "stdout",
          "text": [
            "Moviepy - Done !\n",
            "Moviepy - video ready /content/drive/MyDrive/videos/264/I Like You (A Happier Song) w Doja Cat [Official Music Video].mp4\n",
            "Moviepy - Building video /content/drive/MyDrive/videos/264/WAIT FOR U (Official Music Video).mp4.\n",
            "Moviepy - Writing video /content/drive/MyDrive/videos/264/WAIT FOR U (Official Music Video).mp4\n",
            "\n"
          ]
        },
        {
          "output_type": "stream",
          "name": "stderr",
          "text": []
        },
        {
          "output_type": "stream",
          "name": "stdout",
          "text": [
            "Moviepy - Done !\n",
            "Moviepy - video ready /content/drive/MyDrive/videos/264/WAIT FOR U (Official Music Video).mp4\n",
            "Moviepy - Building video /content/drive/MyDrive/videos/264/Baby Dont Hurt Me.mp4.\n",
            "Moviepy - Writing video /content/drive/MyDrive/videos/264/Baby Dont Hurt Me.mp4\n",
            "\n"
          ]
        },
        {
          "output_type": "stream",
          "name": "stderr",
          "text": []
        },
        {
          "output_type": "stream",
          "name": "stdout",
          "text": [
            "Moviepy - Done !\n",
            "Moviepy - video ready /content/drive/MyDrive/videos/264/Baby Dont Hurt Me.mp4\n",
            "Moviepy - Building video /content/drive/MyDrive/videos/264/Nonsense (Official Video).mp4.\n",
            "Moviepy - Writing video /content/drive/MyDrive/videos/264/Nonsense (Official Video).mp4\n",
            "\n"
          ]
        },
        {
          "output_type": "stream",
          "name": "stderr",
          "text": [
            "t: 100%|█████████▉| 4105/4122 [00:43<00:00, 122.97it/s, now=None]WARNING:py.warnings:/usr/local/lib/python3.10/dist-packages/moviepy/video/io/ffmpeg_reader.py:123: UserWarning: Warning: in file /content/drive/MyDrive/videos/Nonsense (Official Video).mp4, 2764800 bytes wanted but 0 bytes read,at frame 4121/4122, at time 171.88/171.90 sec. Using the last valid frame instead.\n",
            "  warnings.warn(\"Warning: in file %s, \"%(self.filename)+\n",
            "\n"
          ]
        },
        {
          "output_type": "stream",
          "name": "stdout",
          "text": [
            "Moviepy - Done !\n",
            "Moviepy - video ready /content/drive/MyDrive/videos/264/Nonsense (Official Video).mp4\n",
            "Moviepy - Building video /content/drive/MyDrive/videos/264/4AM - Relax Your Mind (Official Video).mp4.\n",
            "Moviepy - Writing video /content/drive/MyDrive/videos/264/4AM - Relax Your Mind (Official Video).mp4\n",
            "\n"
          ]
        },
        {
          "output_type": "stream",
          "name": "stderr",
          "text": [
            "t: 100%|█████████▉| 5606/5612 [01:04<00:00, 99.80it/s, now=None]WARNING:py.warnings:/usr/local/lib/python3.10/dist-packages/moviepy/video/io/ffmpeg_reader.py:123: UserWarning: Warning: in file /content/drive/MyDrive/videos/4AM - Relax Your Mind (Official Video).mp4, 2764800 bytes wanted but 0 bytes read,at frame 5611/5612, at time 234.03/234.03 sec. Using the last valid frame instead.\n",
            "  warnings.warn(\"Warning: in file %s, \"%(self.filename)+\n",
            "\n"
          ]
        },
        {
          "output_type": "stream",
          "name": "stdout",
          "text": [
            "Moviepy - Done !\n",
            "Moviepy - video ready /content/drive/MyDrive/videos/264/4AM - Relax Your Mind (Official Video).mp4\n",
            "Moviepy - Building video /content/drive/MyDrive/videos/264/Metro Boomin ft 21 Savage & The Weeknd - Creepin (Music Video).mp4.\n",
            "Moviepy - Writing video /content/drive/MyDrive/videos/264/Metro Boomin ft 21 Savage & The Weeknd - Creepin (Music Video).mp4\n",
            "\n"
          ]
        },
        {
          "output_type": "stream",
          "name": "stderr",
          "text": []
        },
        {
          "output_type": "stream",
          "name": "stdout",
          "text": [
            "Moviepy - Done !\n",
            "Moviepy - video ready /content/drive/MyDrive/videos/264/Metro Boomin ft 21 Savage & The Weeknd - Creepin (Music Video).mp4\n",
            "Moviepy - Building video /content/drive/MyDrive/videos/264/Central Cee - Doja (Directed by Cole Bennett).mp4.\n",
            "Moviepy - Writing video /content/drive/MyDrive/videos/264/Central Cee - Doja (Directed by Cole Bennett).mp4\n",
            "\n"
          ]
        },
        {
          "output_type": "stream",
          "name": "stderr",
          "text": [
            "t: 100%|█████████▉| 2540/2543 [00:23<00:00, 175.72it/s, now=None]WARNING:py.warnings:/usr/local/lib/python3.10/dist-packages/moviepy/video/io/ffmpeg_reader.py:123: UserWarning: Warning: in file /content/drive/MyDrive/videos/Central Cee - Doja (Directed by Cole Bennett).mp4, 2250720 bytes wanted but 0 bytes read,at frame 2542/2543, at time 105.92/105.93 sec. Using the last valid frame instead.\n",
            "  warnings.warn(\"Warning: in file %s, \"%(self.filename)+\n",
            "\n"
          ]
        },
        {
          "output_type": "stream",
          "name": "stdout",
          "text": [
            "Moviepy - Done !\n",
            "Moviepy - video ready /content/drive/MyDrive/videos/264/Central Cee - Doja (Directed by Cole Bennett).mp4\n",
            "Moviepy - Building video /content/drive/MyDrive/videos/264/Made You Look.mp4.\n",
            "Moviepy - Writing video /content/drive/MyDrive/videos/264/Made You Look.mp4\n",
            "\n"
          ]
        },
        {
          "output_type": "stream",
          "name": "stderr",
          "text": [
            "t: 100%|█████████▉| 4172/4179 [00:47<00:00, 139.91it/s, now=None]WARNING:py.warnings:/usr/local/lib/python3.10/dist-packages/moviepy/video/io/ffmpeg_reader.py:123: UserWarning: Warning: in file /content/drive/MyDrive/videos/Made You Look.mp4, 2764800 bytes wanted but 0 bytes read,at frame 4178/4179, at time 174.26/174.27 sec. Using the last valid frame instead.\n",
            "  warnings.warn(\"Warning: in file %s, \"%(self.filename)+\n",
            "\n"
          ]
        },
        {
          "output_type": "stream",
          "name": "stdout",
          "text": [
            "Moviepy - Done !\n",
            "Moviepy - video ready /content/drive/MyDrive/videos/264/Made You Look.mp4\n",
            "Moviepy - Building video /content/drive/MyDrive/videos/264/TQG.mp4.\n",
            "Moviepy - Writing video /content/drive/MyDrive/videos/264/TQG.mp4\n",
            "\n"
          ]
        },
        {
          "output_type": "stream",
          "name": "stderr",
          "text": [
            "t: 100%|█████████▉| 5398/5413 [00:45<00:00, 169.79it/s, now=None]WARNING:py.warnings:/usr/local/lib/python3.10/dist-packages/moviepy/video/io/ffmpeg_reader.py:123: UserWarning: Warning: in file /content/drive/MyDrive/videos/TQG.mp4, 2073600 bytes wanted but 0 bytes read,at frame 5412/5413, at time 216.48/216.50 sec. Using the last valid frame instead.\n",
            "  warnings.warn(\"Warning: in file %s, \"%(self.filename)+\n",
            "\n"
          ]
        },
        {
          "output_type": "stream",
          "name": "stdout",
          "text": [
            "Moviepy - Done !\n",
            "Moviepy - video ready /content/drive/MyDrive/videos/264/TQG.mp4\n",
            "Moviepy - Building video /content/drive/MyDrive/videos/264/Satellite.mp4.\n",
            "Moviepy - Writing video /content/drive/MyDrive/videos/264/Satellite.mp4\n",
            "\n"
          ]
        },
        {
          "output_type": "stream",
          "name": "stderr",
          "text": [
            "t: 100%|█████████▉| 6118/6120 [00:49<00:00, 174.29it/s, now=None]WARNING:py.warnings:/usr/local/lib/python3.10/dist-packages/moviepy/video/io/ffmpeg_reader.py:123: UserWarning: Warning: in file /content/drive/MyDrive/videos/Satellite.mp4, 2285280 bytes wanted but 0 bytes read,at frame 6119/6120, at time 255.21/255.23 sec. Using the last valid frame instead.\n",
            "  warnings.warn(\"Warning: in file %s, \"%(self.filename)+\n",
            "\n"
          ]
        },
        {
          "output_type": "stream",
          "name": "stdout",
          "text": [
            "Moviepy - Done !\n",
            "Moviepy - video ready /content/drive/MyDrive/videos/264/Satellite.mp4\n",
            "Moviepy - Building video /content/drive/MyDrive/videos/264/UP.mp4.\n",
            "Moviepy - Writing video /content/drive/MyDrive/videos/264/UP.mp4\n",
            "\n"
          ]
        },
        {
          "output_type": "stream",
          "name": "stderr",
          "text": [
            "t: 100%|█████████▉| 3735/3739 [00:41<00:00, 98.40it/s, now=None]WARNING:py.warnings:/usr/local/lib/python3.10/dist-packages/moviepy/video/io/ffmpeg_reader.py:123: UserWarning: Warning: in file /content/drive/MyDrive/videos/UP.mp4, 2764800 bytes wanted but 0 bytes read,at frame 3738/3739, at time 149.52/149.54 sec. Using the last valid frame instead.\n",
            "  warnings.warn(\"Warning: in file %s, \"%(self.filename)+\n",
            "\n"
          ]
        },
        {
          "output_type": "stream",
          "name": "stdout",
          "text": [
            "Moviepy - Done !\n",
            "Moviepy - video ready /content/drive/MyDrive/videos/264/UP.mp4\n",
            "Moviepy - Building video /content/drive/MyDrive/videos/264/Sunroof.mp4.\n",
            "Moviepy - Writing video /content/drive/MyDrive/videos/264/Sunroof.mp4\n",
            "\n"
          ]
        },
        {
          "output_type": "stream",
          "name": "stderr",
          "text": [
            "t: 100%|█████████▉| 4179/4193 [00:42<00:00, 142.44it/s, now=None]WARNING:py.warnings:/usr/local/lib/python3.10/dist-packages/moviepy/video/io/ffmpeg_reader.py:123: UserWarning: Warning: in file /content/drive/MyDrive/videos/Sunroof.mp4, 2595840 bytes wanted but 0 bytes read,at frame 4192/4193, at time 174.84/174.85 sec. Using the last valid frame instead.\n",
            "  warnings.warn(\"Warning: in file %s, \"%(self.filename)+\n",
            "\n"
          ]
        },
        {
          "output_type": "stream",
          "name": "stdout",
          "text": [
            "Moviepy - Done !\n",
            "Moviepy - video ready /content/drive/MyDrive/videos/264/Sunroof.mp4\n",
            "Moviepy - Building video /content/drive/MyDrive/videos/264/Lavender Haze.mp4.\n",
            "Moviepy - Writing video /content/drive/MyDrive/videos/264/Lavender Haze.mp4\n",
            "\n"
          ]
        },
        {
          "output_type": "stream",
          "name": "stderr",
          "text": [
            "t: 100%|█████████▉| 5028/5038 [00:50<00:00, 137.23it/s, now=None]WARNING:py.warnings:/usr/local/lib/python3.10/dist-packages/moviepy/video/io/ffmpeg_reader.py:123: UserWarning: Warning: in file /content/drive/MyDrive/videos/Lavender Haze.mp4, 2764800 bytes wanted but 0 bytes read,at frame 5037/5038, at time 210.08/210.09 sec. Using the last valid frame instead.\n",
            "  warnings.warn(\"Warning: in file %s, \"%(self.filename)+\n",
            "\n"
          ]
        },
        {
          "output_type": "stream",
          "name": "stdout",
          "text": [
            "Moviepy - Done !\n",
            "Moviepy - video ready /content/drive/MyDrive/videos/264/Lavender Haze.mp4\n",
            "Moviepy - Building video /content/drive/MyDrive/videos/264/Understand.mp4.\n",
            "Moviepy - Writing video /content/drive/MyDrive/videos/264/Understand.mp4\n",
            "\n"
          ]
        },
        {
          "output_type": "stream",
          "name": "stderr",
          "text": [
            "t: 100%|█████████▉| 4666/4675 [00:44<00:00, 142.61it/s, now=None]WARNING:py.warnings:/usr/local/lib/python3.10/dist-packages/moviepy/video/io/ffmpeg_reader.py:123: UserWarning: Warning: in file /content/drive/MyDrive/videos/Understand.mp4, 2764800 bytes wanted but 0 bytes read,at frame 4674/4675, at time 194.94/194.95 sec. Using the last valid frame instead.\n",
            "  warnings.warn(\"Warning: in file %s, \"%(self.filename)+\n",
            "\n"
          ]
        },
        {
          "output_type": "stream",
          "name": "stdout",
          "text": [
            "Moviepy - Done !\n",
            "Moviepy - video ready /content/drive/MyDrive/videos/264/Understand.mp4\n",
            "Moviepy - Building video /content/drive/MyDrive/videos/264/Vegas (From the Original Motion Picture Soundtrack ELVIS).mp4.\n",
            "Moviepy - Writing video /content/drive/MyDrive/videos/264/Vegas (From the Original Motion Picture Soundtrack ELVIS).mp4\n",
            "\n"
          ]
        },
        {
          "output_type": "stream",
          "name": "stderr",
          "text": [
            "t: 100%|█████████▉| 4851/4854 [00:53<00:00, 85.27it/s, now=None]WARNING:py.warnings:/usr/local/lib/python3.10/dist-packages/moviepy/video/io/ffmpeg_reader.py:123: UserWarning: Warning: in file /content/drive/MyDrive/videos/Vegas (From the Original Motion Picture Soundtrack ELVIS).mp4, 2764800 bytes wanted but 0 bytes read,at frame 4853/4854, at time 202.41/202.43 sec. Using the last valid frame instead.\n",
            "  warnings.warn(\"Warning: in file %s, \"%(self.filename)+\n",
            "\n"
          ]
        },
        {
          "output_type": "stream",
          "name": "stdout",
          "text": [
            "Moviepy - Done !\n",
            "Moviepy - video ready /content/drive/MyDrive/videos/264/Vegas (From the Original Motion Picture Soundtrack ELVIS).mp4\n",
            "Moviepy - Building video /content/drive/MyDrive/videos/264/Alone.mp4.\n",
            "Moviepy - Writing video /content/drive/MyDrive/videos/264/Alone.mp4\n",
            "\n"
          ]
        },
        {
          "output_type": "stream",
          "name": "stderr",
          "text": [
            "t: 100%|█████████▉| 4502/4515 [00:47<00:00, 126.50it/s, now=None]WARNING:py.warnings:/usr/local/lib/python3.10/dist-packages/moviepy/video/io/ffmpeg_reader.py:123: UserWarning: Warning: in file /content/drive/MyDrive/videos/Alone.mp4, 2764800 bytes wanted but 0 bytes read,at frame 4514/4515, at time 188.27/188.29 sec. Using the last valid frame instead.\n",
            "  warnings.warn(\"Warning: in file %s, \"%(self.filename)+\n",
            "\n"
          ]
        },
        {
          "output_type": "stream",
          "name": "stdout",
          "text": [
            "Moviepy - Done !\n",
            "Moviepy - video ready /content/drive/MyDrive/videos/264/Alone.mp4\n",
            "Moviepy - Building video /content/drive/MyDrive/videos/264/Where Are You Now.mp4.\n",
            "Moviepy - Writing video /content/drive/MyDrive/videos/264/Where Are You Now.mp4\n",
            "\n"
          ]
        },
        {
          "output_type": "stream",
          "name": "stderr",
          "text": [
            "t: 100%|█████████▉| 4326/4333 [00:46<00:00, 87.82it/s, now=None]WARNING:py.warnings:/usr/local/lib/python3.10/dist-packages/moviepy/video/io/ffmpeg_reader.py:123: UserWarning: Warning: in file /content/drive/MyDrive/videos/Where Are You Now.mp4, 2764800 bytes wanted but 0 bytes read,at frame 4332/4333, at time 173.28/173.29 sec. Using the last valid frame instead.\n",
            "  warnings.warn(\"Warning: in file %s, \"%(self.filename)+\n",
            "\n"
          ]
        },
        {
          "output_type": "stream",
          "name": "stdout",
          "text": [
            "Moviepy - Done !\n",
            "Moviepy - video ready /content/drive/MyDrive/videos/264/Where Are You Now.mp4\n",
            "Moviepy - Building video /content/drive/MyDrive/videos/264/My Universe.mp4.\n",
            "Moviepy - Writing video /content/drive/MyDrive/videos/264/My Universe.mp4\n",
            "\n"
          ]
        },
        {
          "output_type": "stream",
          "name": "stderr",
          "text": [
            "t: 100%|█████████▉| 6757/6766 [01:17<00:00, 100.21it/s, now=None]WARNING:py.warnings:/usr/local/lib/python3.10/dist-packages/moviepy/video/io/ffmpeg_reader.py:123: UserWarning: Warning: in file /content/drive/MyDrive/videos/My Universe.mp4, 2764800 bytes wanted but 0 bytes read,at frame 6765/6766, at time 282.16/282.17 sec. Using the last valid frame instead.\n",
            "  warnings.warn(\"Warning: in file %s, \"%(self.filename)+\n",
            "\n"
          ]
        },
        {
          "output_type": "stream",
          "name": "stdout",
          "text": [
            "Moviepy - Done !\n",
            "Moviepy - video ready /content/drive/MyDrive/videos/264/My Universe.mp4\n",
            "Moviepy - Building video /content/drive/MyDrive/videos/264/NO BAD DAYS.mp4.\n",
            "Moviepy - Writing video /content/drive/MyDrive/videos/264/NO BAD DAYS.mp4\n",
            "\n"
          ]
        },
        {
          "output_type": "stream",
          "name": "stderr",
          "text": [
            "t: 100%|█████████▉| 4695/4698 [00:56<00:00, 83.00it/s, now=None]WARNING:py.warnings:/usr/local/lib/python3.10/dist-packages/moviepy/video/io/ffmpeg_reader.py:123: UserWarning: Warning: in file /content/drive/MyDrive/videos/NO BAD DAYS.mp4, 2764800 bytes wanted but 0 bytes read,at frame 4697/4698, at time 195.90/195.91 sec. Using the last valid frame instead.\n",
            "  warnings.warn(\"Warning: in file %s, \"%(self.filename)+\n",
            "\n"
          ]
        },
        {
          "output_type": "stream",
          "name": "stdout",
          "text": [
            "Moviepy - Done !\n",
            "Moviepy - video ready /content/drive/MyDrive/videos/264/NO BAD DAYS.mp4\n",
            "Moviepy - Building video /content/drive/MyDrive/videos/264/Eyes Closed (Acoustic @ Kings Theatre New York).mp4.\n",
            "Moviepy - Writing video /content/drive/MyDrive/videos/264/Eyes Closed (Acoustic @ Kings Theatre New York).mp4\n",
            "\n"
          ]
        },
        {
          "output_type": "stream",
          "name": "stderr",
          "text": [
            "t: 100%|█████████▉| 4508/4513 [00:47<00:00, 96.36it/s, now=None]WARNING:py.warnings:/usr/local/lib/python3.10/dist-packages/moviepy/video/io/ffmpeg_reader.py:123: UserWarning: Warning: in file /content/drive/MyDrive/videos/Eyes Closed (Acoustic @ Kings Theatre New York).mp4, 2764800 bytes wanted but 0 bytes read,at frame 4512/4513, at time 180.48/180.49 sec. Using the last valid frame instead.\n",
            "  warnings.warn(\"Warning: in file %s, \"%(self.filename)+\n",
            "\n"
          ]
        },
        {
          "output_type": "stream",
          "name": "stdout",
          "text": [
            "Moviepy - Done !\n",
            "Moviepy - video ready /content/drive/MyDrive/videos/264/Eyes Closed (Acoustic @ Kings Theatre New York).mp4\n",
            "Moviepy - Building video /content/drive/MyDrive/videos/264/No Strings.mp4.\n",
            "Moviepy - Writing video /content/drive/MyDrive/videos/264/No Strings.mp4\n",
            "\n"
          ]
        },
        {
          "output_type": "stream",
          "name": "stderr",
          "text": [
            "t: 100%|█████████▉| 4928/4935 [00:48<00:00, 120.48it/s, now=None]WARNING:py.warnings:/usr/local/lib/python3.10/dist-packages/moviepy/video/io/ffmpeg_reader.py:123: UserWarning: Warning: in file /content/drive/MyDrive/videos/No Strings.mp4, 2764800 bytes wanted but 0 bytes read,at frame 4934/4935, at time 197.36/197.37 sec. Using the last valid frame instead.\n",
            "  warnings.warn(\"Warning: in file %s, \"%(self.filename)+\n",
            "\n"
          ]
        },
        {
          "output_type": "stream",
          "name": "stdout",
          "text": [
            "Moviepy - Done !\n",
            "Moviepy - video ready /content/drive/MyDrive/videos/264/No Strings.mp4\n",
            "Moviepy - Building video /content/drive/MyDrive/videos/264/Vega.mp4.\n",
            "Moviepy - Writing video /content/drive/MyDrive/videos/264/Vega.mp4\n",
            "\n"
          ]
        },
        {
          "output_type": "stream",
          "name": "stderr",
          "text": [
            "t: 100%|█████████▉| 4866/4873 [00:49<00:00, 115.04it/s, now=None]WARNING:py.warnings:/usr/local/lib/python3.10/dist-packages/moviepy/video/io/ffmpeg_reader.py:123: UserWarning: Warning: in file /content/drive/MyDrive/videos/Vega.mp4, 2764800 bytes wanted but 0 bytes read,at frame 4872/4873, at time 194.88/194.89 sec. Using the last valid frame instead.\n",
            "  warnings.warn(\"Warning: in file %s, \"%(self.filename)+\n",
            "\n"
          ]
        },
        {
          "output_type": "stream",
          "name": "stdout",
          "text": [
            "Moviepy - Done !\n",
            "Moviepy - video ready /content/drive/MyDrive/videos/264/Vega.mp4\n",
            "Moviepy - Building video /content/drive/MyDrive/videos/264/Be My Lover (2023 Mix).mp4.\n",
            "Moviepy - Writing video /content/drive/MyDrive/videos/264/Be My Lover (2023 Mix).mp4\n",
            "\n"
          ]
        },
        {
          "output_type": "stream",
          "name": "stderr",
          "text": [
            "t: 100%|█████████▉| 4069/4070 [00:45<00:00, 90.77it/s, now=None]WARNING:py.warnings:/usr/local/lib/python3.10/dist-packages/moviepy/video/io/ffmpeg_reader.py:123: UserWarning: Warning: in file /content/drive/MyDrive/videos/Be My Lover (2023 Mix).mp4, 2764800 bytes wanted but 0 bytes read,at frame 4069/4070, at time 169.54/169.55 sec. Using the last valid frame instead.\n",
            "  warnings.warn(\"Warning: in file %s, \"%(self.filename)+\n",
            "\n"
          ]
        },
        {
          "output_type": "stream",
          "name": "stdout",
          "text": [
            "Moviepy - Done !\n",
            "Moviepy - video ready /content/drive/MyDrive/videos/264/Be My Lover (2023 Mix).mp4\n",
            "Moviepy - Building video /content/drive/MyDrive/videos/264/Salt Water.mp4.\n",
            "Moviepy - Writing video /content/drive/MyDrive/videos/264/Salt Water.mp4\n",
            "\n"
          ]
        },
        {
          "output_type": "stream",
          "name": "stderr",
          "text": [
            "t: 100%|█████████▉| 6284/6288 [01:05<00:00, 145.62it/s, now=None]WARNING:py.warnings:/usr/local/lib/python3.10/dist-packages/moviepy/video/io/ffmpeg_reader.py:123: UserWarning: Warning: in file /content/drive/MyDrive/videos/Salt Water.mp4, 2764800 bytes wanted but 0 bytes read,at frame 6287/6288, at time 251.48/251.50 sec. Using the last valid frame instead.\n",
            "  warnings.warn(\"Warning: in file %s, \"%(self.filename)+\n",
            "\n"
          ]
        },
        {
          "output_type": "stream",
          "name": "stdout",
          "text": [
            "Moviepy - Done !\n",
            "Moviepy - video ready /content/drive/MyDrive/videos/264/Salt Water.mp4\n",
            "Moviepy - Building video /content/drive/MyDrive/videos/264/Heaven (Official Video).mp4.\n",
            "Moviepy - Writing video /content/drive/MyDrive/videos/264/Heaven (Official Video).mp4\n",
            "\n"
          ]
        },
        {
          "output_type": "stream",
          "name": "stderr",
          "text": [
            "t: 100%|█████████▉| 4798/4802 [00:51<00:00, 105.70it/s, now=None]WARNING:py.warnings:/usr/local/lib/python3.10/dist-packages/moviepy/video/io/ffmpeg_reader.py:123: UserWarning: Warning: in file /content/drive/MyDrive/videos/Heaven (Official Video).mp4, 2764800 bytes wanted but 0 bytes read,at frame 4801/4802, at time 200.04/200.06 sec. Using the last valid frame instead.\n",
            "  warnings.warn(\"Warning: in file %s, \"%(self.filename)+\n",
            "\n"
          ]
        },
        {
          "output_type": "stream",
          "name": "stdout",
          "text": [
            "Moviepy - Done !\n",
            "Moviepy - video ready /content/drive/MyDrive/videos/264/Heaven (Official Video).mp4\n",
            "Moviepy - Building video /content/drive/MyDrive/videos/264/End Of Youth.mp4.\n",
            "Moviepy - Writing video /content/drive/MyDrive/videos/264/End Of Youth.mp4\n",
            "\n"
          ]
        },
        {
          "output_type": "stream",
          "name": "stderr",
          "text": [
            "t: 100%|█████████▉| 6314/6323 [01:04<00:00, 122.70it/s, now=None]WARNING:py.warnings:/usr/local/lib/python3.10/dist-packages/moviepy/video/io/ffmpeg_reader.py:123: UserWarning: Warning: in file /content/drive/MyDrive/videos/End Of Youth.mp4, 2764800 bytes wanted but 0 bytes read,at frame 6322/6323, at time 252.88/252.89 sec. Using the last valid frame instead.\n",
            "  warnings.warn(\"Warning: in file %s, \"%(self.filename)+\n",
            "\n"
          ]
        },
        {
          "output_type": "stream",
          "name": "stdout",
          "text": [
            "Moviepy - Done !\n",
            "Moviepy - video ready /content/drive/MyDrive/videos/264/End Of Youth.mp4\n",
            "Moviepy - Building video /content/drive/MyDrive/videos/264/Life Goes On.mp4.\n",
            "Moviepy - Writing video /content/drive/MyDrive/videos/264/Life Goes On.mp4\n",
            "\n"
          ]
        },
        {
          "output_type": "stream",
          "name": "stderr",
          "text": [
            "t: 100%|█████████▉| 5540/5542 [00:55<00:00, 137.71it/s, now=None]WARNING:py.warnings:/usr/local/lib/python3.10/dist-packages/moviepy/video/io/ffmpeg_reader.py:123: UserWarning: Warning: in file /content/drive/MyDrive/videos/Life Goes On.mp4, 2764800 bytes wanted but 0 bytes read,at frame 5541/5542, at time 221.64/221.66 sec. Using the last valid frame instead.\n",
            "  warnings.warn(\"Warning: in file %s, \"%(self.filename)+\n",
            "\n"
          ]
        },
        {
          "output_type": "stream",
          "name": "stdout",
          "text": [
            "Moviepy - Done !\n",
            "Moviepy - video ready /content/drive/MyDrive/videos/264/Life Goes On.mp4\n",
            "Moviepy - Building video /content/drive/MyDrive/videos/264/Colourblind.mp4.\n",
            "Moviepy - Writing video /content/drive/MyDrive/videos/264/Colourblind.mp4\n",
            "\n"
          ]
        },
        {
          "output_type": "stream",
          "name": "stderr",
          "text": [
            "t: 100%|█████████▉| 5589/5592 [01:00<00:00, 97.72it/s, now=None] WARNING:py.warnings:/usr/local/lib/python3.10/dist-packages/moviepy/video/io/ffmpeg_reader.py:123: UserWarning: Warning: in file /content/drive/MyDrive/videos/Colourblind.mp4, 2764800 bytes wanted but 0 bytes read,at frame 5591/5592, at time 223.64/223.65 sec. Using the last valid frame instead.\n",
            "  warnings.warn(\"Warning: in file %s, \"%(self.filename)+\n",
            "\n"
          ]
        },
        {
          "output_type": "stream",
          "name": "stdout",
          "text": [
            "Moviepy - Done !\n",
            "Moviepy - video ready /content/drive/MyDrive/videos/264/Colourblind.mp4\n",
            "Moviepy - Building video /content/drive/MyDrive/videos/264/Dusty.mp4.\n",
            "Moviepy - Writing video /content/drive/MyDrive/videos/264/Dusty.mp4\n",
            "\n"
          ]
        },
        {
          "output_type": "stream",
          "name": "stderr",
          "text": [
            "t: 100%|██████████| 5859/5859 [01:08<00:00, 96.69it/s, now=None]WARNING:py.warnings:/usr/local/lib/python3.10/dist-packages/moviepy/video/io/ffmpeg_reader.py:123: UserWarning: Warning: in file /content/drive/MyDrive/videos/Dusty.mp4, 2764800 bytes wanted but 0 bytes read,at frame 5858/5859, at time 234.32/234.34 sec. Using the last valid frame instead.\n",
            "  warnings.warn(\"Warning: in file %s, \"%(self.filename)+\n",
            "\n"
          ]
        },
        {
          "output_type": "stream",
          "name": "stdout",
          "text": [
            "Moviepy - Done !\n",
            "Moviepy - video ready /content/drive/MyDrive/videos/264/Dusty.mp4\n",
            "Moviepy - Building video /content/drive/MyDrive/videos/264/Bloody Mary Pseudo Video.mp4.\n",
            "Moviepy - Writing video /content/drive/MyDrive/videos/264/Bloody Mary Pseudo Video.mp4\n",
            "\n"
          ]
        },
        {
          "output_type": "stream",
          "name": "stderr",
          "text": [
            "t: 100%|█████████▉| 7323/7338 [00:50<00:00, 156.33it/s, now=None]WARNING:py.warnings:/usr/local/lib/python3.10/dist-packages/moviepy/video/io/ffmpeg_reader.py:123: UserWarning: Warning: in file /content/drive/MyDrive/videos/Bloody Mary Pseudo Video.mp4, 2764800 bytes wanted but 0 bytes read,at frame 7337/7338, at time 244.81/244.83 sec. Using the last valid frame instead.\n",
            "  warnings.warn(\"Warning: in file %s, \"%(self.filename)+\n",
            "\n"
          ]
        },
        {
          "output_type": "stream",
          "name": "stdout",
          "text": [
            "Moviepy - Done !\n",
            "Moviepy - video ready /content/drive/MyDrive/videos/264/Bloody Mary Pseudo Video.mp4\n",
            "Moviepy - Building video /content/drive/MyDrive/videos/264/Borderline.mp4.\n",
            "Moviepy - Writing video /content/drive/MyDrive/videos/264/Borderline.mp4\n",
            "\n"
          ]
        },
        {
          "output_type": "stream",
          "name": "stderr",
          "text": [
            "t: 100%|█████████▉| 6278/6282 [00:49<00:00, 132.82it/s, now=None]WARNING:py.warnings:/usr/local/lib/python3.10/dist-packages/moviepy/video/io/ffmpeg_reader.py:123: UserWarning: Warning: in file /content/drive/MyDrive/videos/Borderline.mp4, 2764800 bytes wanted but 0 bytes read,at frame 6281/6282, at time 251.24/251.26 sec. Using the last valid frame instead.\n",
            "  warnings.warn(\"Warning: in file %s, \"%(self.filename)+\n",
            "\n"
          ]
        },
        {
          "output_type": "stream",
          "name": "stdout",
          "text": [
            "Moviepy - Done !\n",
            "Moviepy - video ready /content/drive/MyDrive/videos/264/Borderline.mp4\n",
            "Moviepy - Building video /content/drive/MyDrive/videos/264/Boat.mp4.\n",
            "Moviepy - Writing video /content/drive/MyDrive/videos/264/Boat.mp4\n",
            "\n"
          ]
        },
        {
          "output_type": "stream",
          "name": "stderr",
          "text": [
            "t: 100%|█████████▉| 4866/4881 [01:03<00:00, 109.10it/s, now=None]WARNING:py.warnings:/usr/local/lib/python3.10/dist-packages/moviepy/video/io/ffmpeg_reader.py:123: UserWarning: Warning: in file /content/drive/MyDrive/videos/Boat.mp4, 2764800 bytes wanted but 0 bytes read,at frame 4880/4881, at time 195.20/195.21 sec. Using the last valid frame instead.\n",
            "  warnings.warn(\"Warning: in file %s, \"%(self.filename)+\n",
            "\n"
          ]
        },
        {
          "output_type": "stream",
          "name": "stdout",
          "text": [
            "Moviepy - Done !\n",
            "Moviepy - video ready /content/drive/MyDrive/videos/264/Boat.mp4\n",
            "Moviepy - Building video /content/drive/MyDrive/videos/264/Spark.mp4.\n",
            "Moviepy - Writing video /content/drive/MyDrive/videos/264/Spark.mp4\n",
            "\n"
          ]
        },
        {
          "output_type": "stream",
          "name": "stderr",
          "text": []
        },
        {
          "output_type": "stream",
          "name": "stdout",
          "text": [
            "Moviepy - Done !\n",
            "Moviepy - video ready /content/drive/MyDrive/videos/264/Spark.mp4\n",
            "Moviepy - Building video /content/drive/MyDrive/videos/264/The Hills of Aberfeldy.mp4.\n",
            "Moviepy - Writing video /content/drive/MyDrive/videos/264/The Hills of Aberfeldy.mp4\n",
            "\n"
          ]
        },
        {
          "output_type": "stream",
          "name": "stderr",
          "text": [
            "t: 100%|█████████▉| 6045/6050 [01:08<00:00, 99.58it/s, now=None]WARNING:py.warnings:/usr/local/lib/python3.10/dist-packages/moviepy/video/io/ffmpeg_reader.py:123: UserWarning: Warning: in file /content/drive/MyDrive/videos/The Hills of Aberfeldy.mp4, 2764800 bytes wanted but 0 bytes read,at frame 6049/6050, at time 241.96/241.98 sec. Using the last valid frame instead.\n",
            "  warnings.warn(\"Warning: in file %s, \"%(self.filename)+\n",
            "\n"
          ]
        },
        {
          "output_type": "stream",
          "name": "stdout",
          "text": [
            "Moviepy - Done !\n",
            "Moviepy - video ready /content/drive/MyDrive/videos/264/The Hills of Aberfeldy.mp4\n",
            "Moviepy - Building video /content/drive/MyDrive/videos/264/Dance The Night (From Barbie The Album).mp4.\n",
            "Moviepy - Writing video /content/drive/MyDrive/videos/264/Dance The Night (From Barbie The Album).mp4\n",
            "\n"
          ]
        },
        {
          "output_type": "stream",
          "name": "stderr",
          "text": [
            "t: 100%|█████████▉| 5063/5076 [01:01<00:00, 122.63it/s, now=None]WARNING:py.warnings:/usr/local/lib/python3.10/dist-packages/moviepy/video/io/ffmpeg_reader.py:123: UserWarning: Warning: in file /content/drive/MyDrive/videos/Dance The Night (From Barbie The Album).mp4, 2764800 bytes wanted but 0 bytes read,at frame 5075/5076, at time 211.46/211.46 sec. Using the last valid frame instead.\n",
            "  warnings.warn(\"Warning: in file %s, \"%(self.filename)+\n",
            "\n"
          ]
        },
        {
          "output_type": "stream",
          "name": "stdout",
          "text": [
            "Moviepy - Done !\n",
            "Moviepy - video ready /content/drive/MyDrive/videos/264/Dance The Night (From Barbie The Album).mp4\n",
            "Moviepy - Building video /content/drive/MyDrive/videos/264/Nobody Gets Me.mp4.\n",
            "Moviepy - Writing video /content/drive/MyDrive/videos/264/Nobody Gets Me.mp4\n",
            "\n"
          ]
        },
        {
          "output_type": "stream",
          "name": "stderr",
          "text": [
            "t: 100%|█████████▉| 4363/4380 [00:36<00:00, 155.23it/s, now=None]WARNING:py.warnings:/usr/local/lib/python3.10/dist-packages/moviepy/video/io/ffmpeg_reader.py:123: UserWarning: Warning: in file /content/drive/MyDrive/videos/Nobody Gets Me.mp4, 2250720 bytes wanted but 0 bytes read,at frame 4379/4380, at time 182.64/182.65 sec. Using the last valid frame instead.\n",
            "  warnings.warn(\"Warning: in file %s, \"%(self.filename)+\n",
            "\n"
          ]
        },
        {
          "output_type": "stream",
          "name": "stdout",
          "text": [
            "Moviepy - Done !\n",
            "Moviepy - video ready /content/drive/MyDrive/videos/264/Nobody Gets Me.mp4\n",
            "Moviepy - Building video /content/drive/MyDrive/videos/264/Sycamore.mp4.\n",
            "Moviepy - Writing video /content/drive/MyDrive/videos/264/Sycamore.mp4\n",
            "\n"
          ]
        },
        {
          "output_type": "stream",
          "name": "stderr",
          "text": [
            "t: 100%|█████████▉| 4580/4585 [00:44<00:00, 112.41it/s, now=None]WARNING:py.warnings:/usr/local/lib/python3.10/dist-packages/moviepy/video/io/ffmpeg_reader.py:123: UserWarning: Warning: in file /content/drive/MyDrive/videos/Sycamore.mp4, 2764800 bytes wanted but 0 bytes read,at frame 4584/4585, at time 183.36/183.37 sec. Using the last valid frame instead.\n",
            "  warnings.warn(\"Warning: in file %s, \"%(self.filename)+\n",
            "\n"
          ]
        },
        {
          "output_type": "stream",
          "name": "stdout",
          "text": [
            "Moviepy - Done !\n",
            "Moviepy - video ready /content/drive/MyDrive/videos/264/Sycamore.mp4\n",
            "Moviepy - Building video /content/drive/MyDrive/videos/264/Giovani Wannabe (Official Video).mp4.\n",
            "Moviepy - Writing video /content/drive/MyDrive/videos/264/Giovani Wannabe (Official Video).mp4\n",
            "\n"
          ]
        },
        {
          "output_type": "stream",
          "name": "stderr",
          "text": []
        },
        {
          "output_type": "stream",
          "name": "stdout",
          "text": [
            "Moviepy - Done !\n",
            "Moviepy - video ready /content/drive/MyDrive/videos/264/Giovani Wannabe (Official Video).mp4\n",
            "Moviepy - Building video /content/drive/MyDrive/videos/264/About Damn Time.mp4.\n",
            "Moviepy - Writing video /content/drive/MyDrive/videos/264/About Damn Time.mp4\n",
            "\n"
          ]
        },
        {
          "output_type": "stream",
          "name": "stderr",
          "text": [
            "t: 100%|█████████▉| 5878/5880 [01:07<00:00, 110.70it/s, now=None]WARNING:py.warnings:/usr/local/lib/python3.10/dist-packages/moviepy/video/io/ffmpeg_reader.py:123: UserWarning: Warning: in file /content/drive/MyDrive/videos/About Damn Time.mp4, 2764800 bytes wanted but 0 bytes read,at frame 5879/5880, at time 245.20/245.23 sec. Using the last valid frame instead.\n",
            "  warnings.warn(\"Warning: in file %s, \"%(self.filename)+\n",
            "\n"
          ]
        },
        {
          "output_type": "stream",
          "name": "stdout",
          "text": [
            "Moviepy - Done !\n",
            "Moviepy - video ready /content/drive/MyDrive/videos/264/About Damn Time.mp4\n",
            "Moviepy - Building video /content/drive/MyDrive/videos/264/Se lo senti lo sai.mp4.\n",
            "Moviepy - Writing video /content/drive/MyDrive/videos/264/Se lo senti lo sai.mp4\n",
            "\n"
          ]
        },
        {
          "output_type": "stream",
          "name": "stderr",
          "text": [
            "t: 100%|█████████▉| 5604/5610 [01:05<00:00, 87.87it/s, now=None]WARNING:py.warnings:/usr/local/lib/python3.10/dist-packages/moviepy/video/io/ffmpeg_reader.py:123: UserWarning: Warning: in file /content/drive/MyDrive/videos/Se lo senti lo sai.mp4, 2764800 bytes wanted but 0 bytes read,at frame 5609/5610, at time 224.36/224.37 sec. Using the last valid frame instead.\n",
            "  warnings.warn(\"Warning: in file %s, \"%(self.filename)+\n",
            "\n"
          ]
        },
        {
          "output_type": "stream",
          "name": "stdout",
          "text": [
            "Moviepy - Done !\n",
            "Moviepy - video ready /content/drive/MyDrive/videos/264/Se lo senti lo sai.mp4\n",
            "Moviepy - Building video /content/drive/MyDrive/videos/264/BREAK MY SOUL (Official Lyric Video).mp4.\n",
            "Moviepy - Writing video /content/drive/MyDrive/videos/264/BREAK MY SOUL (Official Lyric Video).mp4\n",
            "\n"
          ]
        },
        {
          "output_type": "stream",
          "name": "stderr",
          "text": [
            "t: 100%|█████████▉| 6880/6881 [00:46<00:00, 130.85it/s, now=None]WARNING:py.warnings:/usr/local/lib/python3.10/dist-packages/moviepy/video/io/ffmpeg_reader.py:123: UserWarning: Warning: in file /content/drive/MyDrive/videos/BREAK MY SOUL (Official Lyric Video).mp4, 2764800 bytes wanted but 0 bytes read,at frame 6880/6881, at time 286.95/286.98 sec. Using the last valid frame instead.\n",
            "  warnings.warn(\"Warning: in file %s, \"%(self.filename)+\n",
            "\n"
          ]
        },
        {
          "output_type": "stream",
          "name": "stdout",
          "text": [
            "Moviepy - Done !\n",
            "Moviepy - video ready /content/drive/MyDrive/videos/264/BREAK MY SOUL (Official Lyric Video).mp4\n",
            "Moviepy - Building video /content/drive/MyDrive/videos/264/Tacones Rojos With John Legend (Official Video).mp4.\n",
            "Moviepy - Writing video /content/drive/MyDrive/videos/264/Tacones Rojos With John Legend (Official Video).mp4\n",
            "\n"
          ]
        },
        {
          "output_type": "stream",
          "name": "stderr",
          "text": [
            "t: 100%|██████████| 4619/4619 [00:46<00:00, 113.15it/s, now=None]WARNING:py.warnings:/usr/local/lib/python3.10/dist-packages/moviepy/video/io/ffmpeg_reader.py:123: UserWarning: Warning: in file /content/drive/MyDrive/videos/Tacones Rojos With John Legend (Official Video).mp4, 2764800 bytes wanted but 0 bytes read,at frame 4618/4619, at time 192.61/192.61 sec. Using the last valid frame instead.\n",
            "  warnings.warn(\"Warning: in file %s, \"%(self.filename)+\n",
            "\n"
          ]
        },
        {
          "output_type": "stream",
          "name": "stdout",
          "text": [
            "Moviepy - Done !\n",
            "Moviepy - video ready /content/drive/MyDrive/videos/264/Tacones Rojos With John Legend (Official Video).mp4\n",
            "Moviepy - Building video /content/drive/MyDrive/videos/264/LA DOLCE VITA (Official Video).mp4.\n",
            "Moviepy - Writing video /content/drive/MyDrive/videos/264/LA DOLCE VITA (Official Video).mp4\n",
            "\n"
          ]
        },
        {
          "output_type": "stream",
          "name": "stderr",
          "text": [
            "t: 100%|█████████▉| 5006/5007 [00:51<00:00, 102.83it/s, now=None]WARNING:py.warnings:/usr/local/lib/python3.10/dist-packages/moviepy/video/io/ffmpeg_reader.py:123: UserWarning: Warning: in file /content/drive/MyDrive/videos/LA DOLCE VITA (Official Video).mp4, 2764800 bytes wanted but 0 bytes read,at frame 5006/5007, at time 200.24/200.25 sec. Using the last valid frame instead.\n",
            "  warnings.warn(\"Warning: in file %s, \"%(self.filename)+\n",
            "\n"
          ]
        },
        {
          "output_type": "stream",
          "name": "stdout",
          "text": [
            "Moviepy - Done !\n",
            "Moviepy - video ready /content/drive/MyDrive/videos/264/LA DOLCE VITA (Official Video).mp4\n"
          ]
        },
        {
          "output_type": "error",
          "ename": "OSError",
          "evalue": "ignored",
          "traceback": [
            "\u001b[0;31m---------------------------------------------------------------------------\u001b[0m",
            "\u001b[0;31mIndexError\u001b[0m                                Traceback (most recent call last)",
            "\u001b[0;32m/usr/local/lib/python3.10/dist-packages/moviepy/video/io/ffmpeg_reader.py\u001b[0m in \u001b[0;36mffmpeg_parse_infos\u001b[0;34m(filename, print_infos, check_duration, fps_source)\u001b[0m\n\u001b[1;32m    284\u001b[0m             \u001b[0mindex\u001b[0m \u001b[0;34m=\u001b[0m \u001b[0;34m-\u001b[0m\u001b[0;36m1\u001b[0m \u001b[0;32mif\u001b[0m \u001b[0mis_GIF\u001b[0m \u001b[0;32melse\u001b[0m \u001b[0;36m0\u001b[0m\u001b[0;34m\u001b[0m\u001b[0;34m\u001b[0m\u001b[0m\n\u001b[0;32m--> 285\u001b[0;31m             \u001b[0mline\u001b[0m \u001b[0;34m=\u001b[0m \u001b[0;34m[\u001b[0m\u001b[0ml\u001b[0m \u001b[0;32mfor\u001b[0m \u001b[0ml\u001b[0m \u001b[0;32min\u001b[0m \u001b[0mlines\u001b[0m \u001b[0;32mif\u001b[0m \u001b[0mkeyword\u001b[0m \u001b[0;32min\u001b[0m \u001b[0ml\u001b[0m\u001b[0;34m]\u001b[0m\u001b[0;34m[\u001b[0m\u001b[0mindex\u001b[0m\u001b[0;34m]\u001b[0m\u001b[0;34m\u001b[0m\u001b[0;34m\u001b[0m\u001b[0m\n\u001b[0m\u001b[1;32m    286\u001b[0m             \u001b[0mmatch\u001b[0m \u001b[0;34m=\u001b[0m \u001b[0mre\u001b[0m\u001b[0;34m.\u001b[0m\u001b[0mfindall\u001b[0m\u001b[0;34m(\u001b[0m\u001b[0;34m\"([0-9][0-9]:[0-9][0-9]:[0-9][0-9].[0-9][0-9])\"\u001b[0m\u001b[0;34m,\u001b[0m \u001b[0mline\u001b[0m\u001b[0;34m)\u001b[0m\u001b[0;34m[\u001b[0m\u001b[0;36m0\u001b[0m\u001b[0;34m]\u001b[0m\u001b[0;34m\u001b[0m\u001b[0;34m\u001b[0m\u001b[0m\n",
            "\u001b[0;31mIndexError\u001b[0m: list index out of range",
            "\nDuring handling of the above exception, another exception occurred:\n",
            "\u001b[0;31mOSError\u001b[0m                                   Traceback (most recent call last)",
            "\u001b[0;32m<ipython-input-1-235438f3b4a7>\u001b[0m in \u001b[0;36m<cell line: 67>\u001b[0;34m()\u001b[0m\n\u001b[1;32m     66\u001b[0m \u001b[0;34m\u001b[0m\u001b[0m\n\u001b[1;32m     67\u001b[0m \u001b[0;32mif\u001b[0m \u001b[0m__name__\u001b[0m \u001b[0;34m==\u001b[0m \u001b[0;34m'__main__'\u001b[0m\u001b[0;34m:\u001b[0m\u001b[0;34m\u001b[0m\u001b[0;34m\u001b[0m\u001b[0m\n\u001b[0;32m---> 68\u001b[0;31m     \u001b[0mmain\u001b[0m\u001b[0;34m(\u001b[0m\u001b[0;34m)\u001b[0m\u001b[0;34m\u001b[0m\u001b[0;34m\u001b[0m\u001b[0m\n\u001b[0m",
            "\u001b[0;32m<ipython-input-1-235438f3b4a7>\u001b[0m in \u001b[0;36mmain\u001b[0;34m()\u001b[0m\n\u001b[1;32m     42\u001b[0m \u001b[0;34m\u001b[0m\u001b[0m\n\u001b[1;32m     43\u001b[0m     \u001b[0;31m# Compress videos using H.264 and H.265 codecs\u001b[0m\u001b[0;34m\u001b[0m\u001b[0;34m\u001b[0m\u001b[0m\n\u001b[0;32m---> 44\u001b[0;31m     \u001b[0mcompress_videos\u001b[0m\u001b[0;34m(\u001b[0m\u001b[0minput_dir\u001b[0m\u001b[0;34m,\u001b[0m \u001b[0mh264_output_dir\u001b[0m\u001b[0;34m,\u001b[0m \u001b[0mcodec_h264\u001b[0m\u001b[0;34m)\u001b[0m\u001b[0;34m\u001b[0m\u001b[0;34m\u001b[0m\u001b[0m\n\u001b[0m\u001b[1;32m     45\u001b[0m     \u001b[0mcompress_videos\u001b[0m\u001b[0;34m(\u001b[0m\u001b[0minput_dir\u001b[0m\u001b[0;34m,\u001b[0m \u001b[0mh265_output_dir\u001b[0m\u001b[0;34m,\u001b[0m \u001b[0mcodec_h265\u001b[0m\u001b[0;34m)\u001b[0m\u001b[0;34m\u001b[0m\u001b[0;34m\u001b[0m\u001b[0m\n\u001b[1;32m     46\u001b[0m \u001b[0;34m\u001b[0m\u001b[0m\n",
            "\u001b[0;32m<ipython-input-1-235438f3b4a7>\u001b[0m in \u001b[0;36mcompress_videos\u001b[0;34m(input_dir, output_dir, codec)\u001b[0m\n\u001b[1;32m     17\u001b[0m         \u001b[0minput_path\u001b[0m \u001b[0;34m=\u001b[0m \u001b[0mos\u001b[0m\u001b[0;34m.\u001b[0m\u001b[0mpath\u001b[0m\u001b[0;34m.\u001b[0m\u001b[0mjoin\u001b[0m\u001b[0;34m(\u001b[0m\u001b[0minput_dir\u001b[0m\u001b[0;34m,\u001b[0m \u001b[0mvideo\u001b[0m\u001b[0;34m)\u001b[0m\u001b[0;34m\u001b[0m\u001b[0;34m\u001b[0m\u001b[0m\n\u001b[1;32m     18\u001b[0m         \u001b[0moutput_path\u001b[0m \u001b[0;34m=\u001b[0m \u001b[0mos\u001b[0m\u001b[0;34m.\u001b[0m\u001b[0mpath\u001b[0m\u001b[0;34m.\u001b[0m\u001b[0mjoin\u001b[0m\u001b[0;34m(\u001b[0m\u001b[0moutput_dir\u001b[0m\u001b[0;34m,\u001b[0m \u001b[0mvideo\u001b[0m\u001b[0;34m)\u001b[0m\u001b[0;34m\u001b[0m\u001b[0;34m\u001b[0m\u001b[0m\n\u001b[0;32m---> 19\u001b[0;31m         \u001b[0mclip\u001b[0m \u001b[0;34m=\u001b[0m \u001b[0mVideoFileClip\u001b[0m\u001b[0;34m(\u001b[0m\u001b[0minput_path\u001b[0m\u001b[0;34m)\u001b[0m\u001b[0;34m\u001b[0m\u001b[0;34m\u001b[0m\u001b[0m\n\u001b[0m\u001b[1;32m     20\u001b[0m         \u001b[0mclip\u001b[0m\u001b[0;34m.\u001b[0m\u001b[0mwrite_videofile\u001b[0m\u001b[0;34m(\u001b[0m\u001b[0moutput_path\u001b[0m\u001b[0;34m,\u001b[0m \u001b[0mcodec\u001b[0m\u001b[0;34m=\u001b[0m\u001b[0mcodec\u001b[0m\u001b[0;34m,\u001b[0m \u001b[0maudio\u001b[0m\u001b[0;34m=\u001b[0m\u001b[0;32mFalse\u001b[0m\u001b[0;34m)\u001b[0m\u001b[0;34m\u001b[0m\u001b[0;34m\u001b[0m\u001b[0m\n\u001b[1;32m     21\u001b[0m \u001b[0;34m\u001b[0m\u001b[0m\n",
            "\u001b[0;32m/usr/local/lib/python3.10/dist-packages/moviepy/video/io/VideoFileClip.py\u001b[0m in \u001b[0;36m__init__\u001b[0;34m(self, filename, has_mask, audio, audio_buffersize, target_resolution, resize_algorithm, audio_fps, audio_nbytes, verbose, fps_source)\u001b[0m\n\u001b[1;32m     86\u001b[0m         \u001b[0;31m# Make a reader\u001b[0m\u001b[0;34m\u001b[0m\u001b[0;34m\u001b[0m\u001b[0m\n\u001b[1;32m     87\u001b[0m         \u001b[0mpix_fmt\u001b[0m \u001b[0;34m=\u001b[0m \u001b[0;34m\"rgba\"\u001b[0m \u001b[0;32mif\u001b[0m \u001b[0mhas_mask\u001b[0m \u001b[0;32melse\u001b[0m \u001b[0;34m\"rgb24\"\u001b[0m\u001b[0;34m\u001b[0m\u001b[0;34m\u001b[0m\u001b[0m\n\u001b[0;32m---> 88\u001b[0;31m         self.reader = FFMPEG_VideoReader(filename, pix_fmt=pix_fmt,\n\u001b[0m\u001b[1;32m     89\u001b[0m                                          \u001b[0mtarget_resolution\u001b[0m\u001b[0;34m=\u001b[0m\u001b[0mtarget_resolution\u001b[0m\u001b[0;34m,\u001b[0m\u001b[0;34m\u001b[0m\u001b[0;34m\u001b[0m\u001b[0m\n\u001b[1;32m     90\u001b[0m                                          \u001b[0mresize_algo\u001b[0m\u001b[0;34m=\u001b[0m\u001b[0mresize_algorithm\u001b[0m\u001b[0;34m,\u001b[0m\u001b[0;34m\u001b[0m\u001b[0;34m\u001b[0m\u001b[0m\n",
            "\u001b[0;32m/usr/local/lib/python3.10/dist-packages/moviepy/video/io/ffmpeg_reader.py\u001b[0m in \u001b[0;36m__init__\u001b[0;34m(self, filename, print_infos, bufsize, pix_fmt, check_duration, target_resolution, resize_algo, fps_source)\u001b[0m\n\u001b[1;32m     33\u001b[0m         \u001b[0mself\u001b[0m\u001b[0;34m.\u001b[0m\u001b[0mfilename\u001b[0m \u001b[0;34m=\u001b[0m \u001b[0mfilename\u001b[0m\u001b[0;34m\u001b[0m\u001b[0;34m\u001b[0m\u001b[0m\n\u001b[1;32m     34\u001b[0m         \u001b[0mself\u001b[0m\u001b[0;34m.\u001b[0m\u001b[0mproc\u001b[0m \u001b[0;34m=\u001b[0m \u001b[0;32mNone\u001b[0m\u001b[0;34m\u001b[0m\u001b[0;34m\u001b[0m\u001b[0m\n\u001b[0;32m---> 35\u001b[0;31m         infos = ffmpeg_parse_infos(filename, print_infos, check_duration,\n\u001b[0m\u001b[1;32m     36\u001b[0m                                    fps_source)\n\u001b[1;32m     37\u001b[0m         \u001b[0mself\u001b[0m\u001b[0;34m.\u001b[0m\u001b[0mfps\u001b[0m \u001b[0;34m=\u001b[0m \u001b[0minfos\u001b[0m\u001b[0;34m[\u001b[0m\u001b[0;34m'video_fps'\u001b[0m\u001b[0;34m]\u001b[0m\u001b[0;34m\u001b[0m\u001b[0;34m\u001b[0m\u001b[0m\n",
            "\u001b[0;32m/usr/local/lib/python3.10/dist-packages/moviepy/video/io/ffmpeg_reader.py\u001b[0m in \u001b[0;36mffmpeg_parse_infos\u001b[0;34m(filename, print_infos, check_duration, fps_source)\u001b[0m\n\u001b[1;32m    287\u001b[0m             \u001b[0mresult\u001b[0m\u001b[0;34m[\u001b[0m\u001b[0;34m'duration'\u001b[0m\u001b[0;34m]\u001b[0m \u001b[0;34m=\u001b[0m \u001b[0mcvsecs\u001b[0m\u001b[0;34m(\u001b[0m\u001b[0mmatch\u001b[0m\u001b[0;34m)\u001b[0m\u001b[0;34m\u001b[0m\u001b[0;34m\u001b[0m\u001b[0m\n\u001b[1;32m    288\u001b[0m         \u001b[0;32mexcept\u001b[0m\u001b[0;34m:\u001b[0m\u001b[0;34m\u001b[0m\u001b[0;34m\u001b[0m\u001b[0m\n\u001b[0;32m--> 289\u001b[0;31m             raise IOError((\"MoviePy error: failed to read the duration of file %s.\\n\"\n\u001b[0m\u001b[1;32m    290\u001b[0m                            \u001b[0;34m\"Here are the file infos returned by ffmpeg:\\n\\n%s\"\u001b[0m\u001b[0;34m)\u001b[0m\u001b[0;34m%\u001b[0m\u001b[0;34m(\u001b[0m\u001b[0;34m\u001b[0m\u001b[0;34m\u001b[0m\u001b[0m\n\u001b[1;32m    291\u001b[0m                               filename, infos))\n",
            "\u001b[0;31mOSError\u001b[0m: MoviePy error: failed to read the duration of file /content/drive/MyDrive/videos/264.\nHere are the file infos returned by ffmpeg:\n\nffmpeg version 4.2.2-static https://johnvansickle.com/ffmpeg/  Copyright (c) 2000-2019 the FFmpeg developers\n  built with gcc 8 (Debian 8.3.0-6)\n  configuration: --enable-gpl --enable-version3 --enable-static --disable-debug --disable-ffplay --disable-indev=sndio --disable-outdev=sndio --cc=gcc --enable-fontconfig --enable-frei0r --enable-gnutls --enable-gmp --enable-libgme --enable-gray --enable-libaom --enable-libfribidi --enable-libass --enable-libvmaf --enable-libfreetype --enable-libmp3lame --enable-libopencore-amrnb --enable-libopencore-amrwb --enable-libopenjpeg --enable-librubberband --enable-libsoxr --enable-libspeex --enable-libsrt --enable-libvorbis --enable-libopus --enable-libtheora --enable-libvidstab --enable-libvo-amrwbenc --enable-libvpx --enable-libwebp --enable-libx264 --enable-libx265 --enable-libxml2 --enable-libdav1d --enable-libxvid --enable-libzvbi --enable-libzimg\n  libavutil      56. 31.100 / 56. 31.100\n  libavcodec     58. 54.100 / 58. 54.100\n  libavformat    58. 29.100 / 58. 29.100\n  libavdevice    58.  8.100 / 58.  8.100\n  libavfilter     7. 57.100 /  7. 57.100\n  libswscale      5.  5.100 /  5.  5.100\n  libswresample   3.  5.100 /  3.  5.100\n  libpostproc    55.  5.100 / 55.  5.100\n/content/drive/MyDrive/videos/264: Is a directory\n"
          ]
        }
      ]
    }
  ]
}