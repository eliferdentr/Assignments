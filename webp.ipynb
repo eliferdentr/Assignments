{
  "nbformat": 4,
  "nbformat_minor": 0,
  "metadata": {
    "colab": {
      "provenance": [],
      "mount_file_id": "1wa6viYlrW6vEXc5LLHrxiI275bmPGF2o",
      "authorship_tag": "ABX9TyN6RrAueWVCnkEh3+5kn59X",
      "include_colab_link": true
    },
    "kernelspec": {
      "name": "python3",
      "display_name": "Python 3"
    },
    "language_info": {
      "name": "python"
    }
  },
  "cells": [
    {
      "cell_type": "markdown",
      "metadata": {
        "id": "view-in-github",
        "colab_type": "text"
      },
      "source": [
        "<a href=\"https://colab.research.google.com/github/eliferdentr/Assignments/blob/main/webp.ipynb\" target=\"_parent\"><img src=\"https://colab.research.google.com/assets/colab-badge.svg\" alt=\"Open In Colab\"/></a>"
      ]
    },
    {
      "cell_type": "code",
      "execution_count": null,
      "metadata": {
        "colab": {
          "base_uri": "https://localhost:8080/"
        },
        "id": "Ayyeuod6GlYv",
        "outputId": "50d09a79-8356-4a12-b822-c6e527b38bbf"
      },
      "outputs": [
        {
          "output_type": "stream",
          "name": "stdout",
          "text": [
            "Average Compression Ratio: 4.23327900119408\n",
            "Average Computational Complexity: 0.10243426561355591\n"
          ]
        }
      ],
      "source": [
        "import os\n",
        "import glob\n",
        "from PIL import Image\n",
        "import time\n",
        "\n",
        "def calculate_compression_ratio(original_size, compressed_size):\n",
        "    return float(original_size) / compressed_size\n",
        "\n",
        "def calculate_computational_complexity(compression_time):\n",
        "    return compression_time\n",
        "\n",
        "def calculate_efficiency(directory):\n",
        "    total_compression_ratio = 0.0\n",
        "    total_computational_complexity = 0.0\n",
        "    total_images = 0\n",
        "\n",
        "    for image_file in glob.glob(directory + '/*.jpg'):\n",
        "        image = Image.open(image_file)\n",
        "        original_size = os.path.getsize(image_file)\n",
        "\n",
        "        compressed_file = image_file.replace('.jpg', '.webp')\n",
        "        start_time = time.time()\n",
        "        image.save(compressed_file, 'webp', lossless=False)\n",
        "        end_time = time.time()\n",
        "        compressed_size = os.path.getsize(compressed_file)\n",
        "        compression_ratio = calculate_compression_ratio(original_size, compressed_size)\n",
        "        computational_complexity = calculate_computational_complexity(end_time - start_time)\n",
        "        total_compression_ratio += compression_ratio\n",
        "        total_computational_complexity += computational_complexity\n",
        "        total_images += 1\n",
        "        # os.remove(compressed_file)\n",
        "\n",
        "    average_compression_ratio = total_compression_ratio / total_images\n",
        "    average_computational_complexity = total_computational_complexity / total_images\n",
        "\n",
        "    return average_compression_ratio, average_computational_complexity\n",
        "\n",
        "directory = '/content/drive/MyDrive/openimages/person/images'\n",
        "avg_ratio, avg_complexity = calculate_efficiency(directory)\n",
        "print(\"Average Compression Ratio:\", avg_ratio)\n",
        "print(\"Average Computational Complexity:\", avg_complexity)\n"
      ]
    }
  ]
}