{
  "nbformat": 4,
  "nbformat_minor": 0,
  "metadata": {
    "colab": {
      "provenance": [],
      "mount_file_id": "1Wo4uzfoWi6aZSfyeWuXU7tFRm7V9snRu",
      "authorship_tag": "ABX9TyOl1cYQyZlXeJz7MfzYBx9J",
      "include_colab_link": true
    },
    "kernelspec": {
      "name": "python3",
      "display_name": "Python 3"
    },
    "language_info": {
      "name": "python"
    }
  },
  "cells": [
    {
      "cell_type": "markdown",
      "metadata": {
        "id": "view-in-github",
        "colab_type": "text"
      },
      "source": [
        "<a href=\"https://colab.research.google.com/github/eliferdentr/Assignments/blob/main/errorcorrection.ipynb\" target=\"_parent\"><img src=\"https://colab.research.google.com/assets/colab-badge.svg\" alt=\"Open In Colab\"/></a>"
      ]
    },
    {
      "cell_type": "code",
      "source": [
        "import os\n",
        "import numpy as np\n",
        "import glob\n",
        "\n",
        "def calculate_error_rate(original_dir, corrupted_dir):\n",
        "    total_original_size = 0\n",
        "    total_corrupted_size = 0\n",
        "\n",
        "    for file_name in glob.glob(os.path.join(original_dir, \"*\")):\n",
        "        original_size = os.path.getsize(file_name)\n",
        "        total_original_size += original_size\n",
        "        corrupted_file_name = os.path.join(corrupted_dir, os.path.basename(file_name))\n",
        "        if os.path.exists(corrupted_file_name):\n",
        "            corrupted_size = os.path.getsize(corrupted_file_name)\n",
        "            total_corrupted_size += corrupted_size\n",
        "    error_rate = (total_corrupted_size / total_original_size) * 100\n",
        "\n",
        "    return error_rate\n",
        "\n"
      ],
      "metadata": {
        "id": "M2Hd4D-YV1kf"
      },
      "execution_count": null,
      "outputs": []
    },
    {
      "cell_type": "code",
      "source": [
        "import os\n",
        "import numpy as np\n",
        "import glob\n",
        "\n",
        "def introduce_errors_to_file(file_name, error_rate):\n",
        "    with open(file_name, \"rb\") as f:\n",
        "        data = np.frombuffer(f.read(), dtype=np.uint8)\n",
        "\n",
        "    num_errors = int(error_rate * len(data))\n",
        "    error_indices = np.random.choice(len(data), size=num_errors, replace=False)\n",
        "\n",
        "    corrupted_data = data.copy()\n",
        "    corrupted_data[error_indices] = np.random.randint(0, 256, size=num_errors, dtype=np.uint8)\n",
        "\n",
        "    new_file_name = os.path.join(\"/content/drive/MyDrive/openimages/compressed/corrupted_files\", os.path.basename(file_name))\n",
        "    with open(new_file_name, \"wb\") as f:\n",
        "        f.write(corrupted_data.tobytes())\n",
        "\n",
        "os.makedirs(\"/content/drive/MyDrive/openimages/compressed/corrupted_files\", exist_ok=True)\n",
        "\n",
        "total_error_rate = 0\n",
        "\n",
        "for file_name in glob.glob(\"/content/drive/MyDrive/openimages/compressed/*.jpeg\"):\n",
        "    introduce_errors_to_file(file_name, 0.01)  # 1% error rate\n",
        "    total_error_rate += 0.01\n"
      ],
      "metadata": {
        "colab": {
          "base_uri": "https://localhost:8080/"
        },
        "id": "jbXuhE12hNPr",
        "outputId": "1d06b0a9-3899-4f54-92ce-d2feb4694988"
      },
      "execution_count": null,
      "outputs": [
        {
          "output_type": "stream",
          "name": "stdout",
          "text": [
            "Average error correction rate: 1.00%\n"
          ]
        }
      ]
    },
    {
      "cell_type": "code",
      "source": [
        "\n",
        "original_dir = \"/content/drive/MyDrive/openimages/compressed\"\n",
        "corrupted_dir = \"/content/drive/MyDrive/openimages/compressed/corrupted_files\"\n",
        "\n",
        "error_rate = calculate_error_rate(original_dir, corrupted_dir)\n",
        "print(\"Error rate: {:.2f}%\".format(error_rate))"
      ],
      "metadata": {
        "colab": {
          "base_uri": "https://localhost:8080/"
        },
        "id": "2lr2vUR_V6H1",
        "outputId": "4f1ef2ea-430c-42fe-d11b-e088fc66d312"
      },
      "execution_count": null,
      "outputs": [
        {
          "output_type": "stream",
          "name": "stdout",
          "text": [
            "Error rate: 99.96%\n"
          ]
        }
      ]
    },
    {
      "cell_type": "code",
      "source": [
        "import os\n",
        "import numpy as np\n",
        "import glob\n",
        "from PIL import Image\n",
        "\n",
        "def introduce_errors_to_file(file_name, error_rate):\n",
        "    image = Image.open(file_name)\n",
        "\n",
        "    # Convert the image to RGB mode if it's not\n",
        "    if image.mode != \"RGB\":\n",
        "        image = image.convert(\"RGB\")\n",
        "\n",
        "    # Convert the image to a numpy array\n",
        "    data = np.array(image)\n",
        "\n",
        "    # Determine the number of pixels to corrupt based on the error rate\n",
        "    num_errors = int(error_rate * data.size)\n",
        "\n",
        "    # Randomly select the indices of pixels to corrupt\n",
        "    error_indices = np.random.choice(data.size, size=num_errors, replace=False)\n",
        "\n",
        "    # Introduce errors\n",
        "    corrupted_data = data.flatten()\n",
        "    corrupted_data[error_indices] = np.random.randint(0, 256, size=num_errors)\n",
        "\n",
        "    # Reshape the corrupted data back to the original shape\n",
        "    corrupted_data = corrupted_data.reshape(data.shape)\n",
        "    os.makedirs(\"/content/drive/MyDrive/openimages/compressed/corrupted_files_webp\", exist_ok=True)\n",
        "    new_file_name = os.path.join(\"/content/drive/MyDrive/openimages/compressed/corrupted_files_webp\", os.path.basename(file_name))\n",
        "    corrupted_image = Image.fromarray(corrupted_data)\n",
        "    corrupted_image.save(new_file_name)\n",
        "\n",
        "for file_name in glob.glob(\"/content/drive/MyDrive/openimages/person/images/*.webp\"):\n",
        "    introduce_errors_to_file(file_name, 0.01)  # 1% error rate\n"
      ],
      "metadata": {
        "colab": {
          "base_uri": "https://localhost:8080/"
        },
        "id": "XvlBpiLKSo0I",
        "outputId": "a61e6285-9284-469a-a26e-e78fe43878c6"
      },
      "execution_count": null,
      "outputs": [
        {
          "output_type": "stream",
          "name": "stdout",
          "text": [
            "Average error correction rate: 100.00%\n"
          ]
        }
      ]
    },
    {
      "cell_type": "code",
      "source": [
        "\n",
        "original_dir = \"/content/drive/MyDrive/openimages/person/images\"\n",
        "corrupted_dir = \"/content/drive/MyDrive/openimages/compressed/corrupted_files_webp\"\n",
        "\n",
        "error_rate = calculate_error_rate(original_dir, corrupted_dir)\n",
        "print(\"Error rate: {:.2f}%\".format(error_rate))"
      ],
      "metadata": {
        "colab": {
          "base_uri": "https://localhost:8080/"
        },
        "id": "wlmtF9PBV7Y3",
        "outputId": "8090d3f0-1bd9-434f-a537-6e38b6043748"
      },
      "execution_count": null,
      "outputs": [
        {
          "output_type": "stream",
          "name": "stdout",
          "text": [
            "Error rate: 33.95%\n"
          ]
        }
      ]
    },
    {
      "cell_type": "markdown",
      "source": [
        "------------------------------------------------"
      ],
      "metadata": {
        "id": "I848BYblg-Gv"
      }
    },
    {
      "cell_type": "code",
      "source": [
        "!pip install pydub"
      ],
      "metadata": {
        "colab": {
          "base_uri": "https://localhost:8080/"
        },
        "id": "7WSh72hFhNIA",
        "outputId": "7832a33d-d8a4-4d61-a3b4-6be08fc634c8"
      },
      "execution_count": null,
      "outputs": [
        {
          "output_type": "stream",
          "name": "stdout",
          "text": [
            "Looking in indexes: https://pypi.org/simple, https://us-python.pkg.dev/colab-wheels/public/simple/\n",
            "Collecting pydub\n",
            "  Downloading pydub-0.25.1-py2.py3-none-any.whl (32 kB)\n",
            "Installing collected packages: pydub\n",
            "Successfully installed pydub-0.25.1\n"
          ]
        }
      ]
    },
    {
      "cell_type": "code",
      "source": [
        "import os\n",
        "import numpy as np\n",
        "import glob\n",
        "import shutil\n",
        "from pydub import AudioSegment\n",
        "\n",
        "def introduce_errors_to_file(file_name, error_rate):\n",
        "    # Load the audio file\n",
        "    audio = AudioSegment.from_file(file_name)\n",
        "\n",
        "    # Convert to mono if it's stereo\n",
        "    if audio.channels == 2:\n",
        "        audio = audio.set_channels(1)\n",
        "\n",
        "    # Convert to 16-bit if it's not\n",
        "    if audio.sample_width != 2:\n",
        "        audio = audio.set_sample_width(2)\n",
        "\n",
        "    # Get the raw audio data\n",
        "    raw_data = audio.raw_data\n",
        "\n",
        "    # Convert raw data to numpy array\n",
        "    samples = np.frombuffer(raw_data, dtype=np.int16)\n",
        "\n",
        "    # Determine the number of samples to corrupt based on the error rate\n",
        "    num_errors = int(error_rate * len(samples))\n",
        "\n",
        "    # Randomly select the indices of samples to corrupt\n",
        "    error_indices = np.random.choice(len(samples), size=num_errors, replace=False)\n",
        "    \n",
        "    corrupted_samples = samples.copy()\n",
        "    corrupted_samples[error_indices] = np.random.randint(-32768, 32767, size=num_errors, dtype=np.int16)\n",
        "    os.makedirs(\"/content/drive/MyDrive/muzikler/mp3/corrupted_files\", exist_ok=True)\n",
        "    os.makedirs(\"/content/drive/MyDrive/muzikler/aac/corrupted_files\", exist_ok=True)\n",
        "    corrupted_raw_data = corrupted_samples.tobytes()\n",
        "    if file_name.endswith(\".mp3\"):\n",
        "        new_file_name = os.path.join(\"/content/drive/MyDrive/muzikler/mp3/corrupted_files\", os.path.basename(file_name))\n",
        "    else:\n",
        "        new_file_name = os.path.join(\"/content/drive/MyDrive/muzikler/aac/corrupted_files\", os.path.basename(file_name))\n",
        "\n",
        "    corrupted_audio = AudioSegment(\n",
        "        data=corrupted_raw_data,\n",
        "        sample_width=audio.sample_width,\n",
        "        frame_rate=audio.frame_rate,\n",
        "        channels=audio.channels\n",
        "    )\n",
        "    corrupted_audio.export(new_file_name, format=file_name.split(\".\")[-1])\n",
        "\n",
        "for file_name in glob.glob(\"/content/drive/MyDrive/muzikler/mp3/*.mp3\"):\n",
        "    introduce_errors_to_file(file_name, 0.01) \n",
        "\n",
        "for file_name in glob.glob(\"/content/drive/MyDrive/muzikler/aac/*.aac\"):\n",
        "    introduce_errors_to_file(file_name, 0.01)  \n",
        "\n",
        "print(\"Corrupted MP3 files saved in: /content/drive/MyDrive/muzikler/mp3/corrupted_files\")\n",
        "print(\"Corrupted AAC files saved in: /content/drive/MyDrive/muzikler/aac/corrupted_files\")\n",
        "\n"
      ],
      "metadata": {
        "colab": {
          "base_uri": "https://localhost:8080/",
          "height": 866
        },
        "id": "vrb1Dl5ShAZs",
        "outputId": "5cb6a41f-0d00-4785-b68a-f1d1dd532114"
      },
      "execution_count": null,
      "outputs": [
        {
          "output_type": "error",
          "ename": "CouldntEncodeError",
          "evalue": "ignored",
          "traceback": [
            "\u001b[0;31m---------------------------------------------------------------------------\u001b[0m",
            "\u001b[0;31mCouldntEncodeError\u001b[0m                        Traceback (most recent call last)",
            "\u001b[0;32m<ipython-input-3-f4b8e87fa947>\u001b[0m in \u001b[0;36m<cell line: 61>\u001b[0;34m()\u001b[0m\n\u001b[1;32m     60\u001b[0m \u001b[0;31m# Loop over all AAC files in the directory\u001b[0m\u001b[0;34m\u001b[0m\u001b[0;34m\u001b[0m\u001b[0m\n\u001b[1;32m     61\u001b[0m \u001b[0;32mfor\u001b[0m \u001b[0mfile_name\u001b[0m \u001b[0;32min\u001b[0m \u001b[0mglob\u001b[0m\u001b[0;34m.\u001b[0m\u001b[0mglob\u001b[0m\u001b[0;34m(\u001b[0m\u001b[0;34m\"/content/drive/MyDrive/muzikler/aac/*.aac\"\u001b[0m\u001b[0;34m)\u001b[0m\u001b[0;34m:\u001b[0m\u001b[0;34m\u001b[0m\u001b[0;34m\u001b[0m\u001b[0m\n\u001b[0;32m---> 62\u001b[0;31m     \u001b[0mintroduce_errors_to_file\u001b[0m\u001b[0;34m(\u001b[0m\u001b[0mfile_name\u001b[0m\u001b[0;34m,\u001b[0m \u001b[0;36m0.01\u001b[0m\u001b[0;34m)\u001b[0m  \u001b[0;31m# 1% error rate\u001b[0m\u001b[0;34m\u001b[0m\u001b[0;34m\u001b[0m\u001b[0m\n\u001b[0m\u001b[1;32m     63\u001b[0m \u001b[0;34m\u001b[0m\u001b[0m\n\u001b[1;32m     64\u001b[0m \u001b[0mprint\u001b[0m\u001b[0;34m(\u001b[0m\u001b[0;34m\"Corrupted MP3 files saved in: /content/drive/MyDrive/muzikler/mp3/corrupted_files\"\u001b[0m\u001b[0;34m)\u001b[0m\u001b[0;34m\u001b[0m\u001b[0;34m\u001b[0m\u001b[0m\n",
            "\u001b[0;32m<ipython-input-3-f4b8e87fa947>\u001b[0m in \u001b[0;36mintroduce_errors_to_file\u001b[0;34m(file_name, error_rate)\u001b[0m\n\u001b[1;32m     52\u001b[0m         \u001b[0mchannels\u001b[0m\u001b[0;34m=\u001b[0m\u001b[0maudio\u001b[0m\u001b[0;34m.\u001b[0m\u001b[0mchannels\u001b[0m\u001b[0;34m\u001b[0m\u001b[0;34m\u001b[0m\u001b[0m\n\u001b[1;32m     53\u001b[0m     )\n\u001b[0;32m---> 54\u001b[0;31m     \u001b[0mcorrupted_audio\u001b[0m\u001b[0;34m.\u001b[0m\u001b[0mexport\u001b[0m\u001b[0;34m(\u001b[0m\u001b[0mnew_file_name\u001b[0m\u001b[0;34m,\u001b[0m \u001b[0mformat\u001b[0m\u001b[0;34m=\u001b[0m\u001b[0mfile_name\u001b[0m\u001b[0;34m.\u001b[0m\u001b[0msplit\u001b[0m\u001b[0;34m(\u001b[0m\u001b[0;34m\".\"\u001b[0m\u001b[0;34m)\u001b[0m\u001b[0;34m[\u001b[0m\u001b[0;34m-\u001b[0m\u001b[0;36m1\u001b[0m\u001b[0;34m]\u001b[0m\u001b[0;34m)\u001b[0m\u001b[0;34m\u001b[0m\u001b[0;34m\u001b[0m\u001b[0m\n\u001b[0m\u001b[1;32m     55\u001b[0m \u001b[0;34m\u001b[0m\u001b[0m\n\u001b[1;32m     56\u001b[0m \u001b[0;31m# Loop over all MP3 files in the directory\u001b[0m\u001b[0;34m\u001b[0m\u001b[0;34m\u001b[0m\u001b[0m\n",
            "\u001b[0;32m/usr/local/lib/python3.10/dist-packages/pydub/audio_segment.py\u001b[0m in \u001b[0;36mexport\u001b[0;34m(self, out_f, format, codec, bitrate, parameters, tags, id3v2_version, cover)\u001b[0m\n\u001b[1;32m    968\u001b[0m \u001b[0;34m\u001b[0m\u001b[0m\n\u001b[1;32m    969\u001b[0m         \u001b[0;32mif\u001b[0m \u001b[0mp\u001b[0m\u001b[0;34m.\u001b[0m\u001b[0mreturncode\u001b[0m \u001b[0;34m!=\u001b[0m \u001b[0;36m0\u001b[0m\u001b[0;34m:\u001b[0m\u001b[0;34m\u001b[0m\u001b[0;34m\u001b[0m\u001b[0m\n\u001b[0;32m--> 970\u001b[0;31m             raise CouldntEncodeError(\n\u001b[0m\u001b[1;32m    971\u001b[0m                 \"Encoding failed. ffmpeg/avlib returned error code: {0}\\n\\nCommand:{1}\\n\\nOutput from ffmpeg/avlib:\\n\\n{2}\".format(\n\u001b[1;32m    972\u001b[0m                     p.returncode, conversion_command, p_err.decode(errors='ignore') ))\n",
            "\u001b[0;31mCouldntEncodeError\u001b[0m: Encoding failed. ffmpeg/avlib returned error code: 1\n\nCommand:['ffmpeg', '-y', '-f', 'wav', '-i', '/tmp/tmpogfwzbo6', '-f', 'aac', '/tmp/tmpp1trv0yj']\n\nOutput from ffmpeg/avlib:\n\nffmpeg version 4.2.7-0ubuntu0.1 Copyright (c) 2000-2022 the FFmpeg developers\n  built with gcc 9 (Ubuntu 9.4.0-1ubuntu1~20.04.1)\n  configuration: --prefix=/usr --extra-version=0ubuntu0.1 --toolchain=hardened --libdir=/usr/lib/x86_64-linux-gnu --incdir=/usr/include/x86_64-linux-gnu --arch=amd64 --enable-gpl --disable-stripping --enable-avresample --disable-filter=resample --enable-avisynth --enable-gnutls --enable-ladspa --enable-libaom --enable-libass --enable-libbluray --enable-libbs2b --enable-libcaca --enable-libcdio --enable-libcodec2 --enable-libflite --enable-libfontconfig --enable-libfreetype --enable-libfribidi --enable-libgme --enable-libgsm --enable-libjack --enable-libmp3lame --enable-libmysofa --enable-libopenjpeg --enable-libopenmpt --enable-libopus --enable-libpulse --enable-librsvg --enable-librubberband --enable-libshine --enable-libsnappy --enable-libsoxr --enable-libspeex --enable-libssh --enable-libtheora --enable-libtwolame --enable-libvidstab --enable-libvorbis --enable-libvpx --enable-libwavpack --enable-libwebp --enable-libx265 --enable-libxml2 --enable-libxvid --enable-libzmq --enable-libzvbi --enable-lv2 --enable-omx --enable-openal --enable-opencl --enable-opengl --enable-sdl2 --enable-libdc1394 --enable-libdrm --enable-libiec61883 --enable-nvenc --enable-chromaprint --enable-frei0r --enable-libx264 --enable-shared\n  libavutil      56. 31.100 / 56. 31.100\n  libavcodec     58. 54.100 / 58. 54.100\n  libavformat    58. 29.100 / 58. 29.100\n  libavdevice    58.  8.100 / 58.  8.100\n  libavfilter     7. 57.100 /  7. 57.100\n  libavresample   4.  0.  0 /  4.  0.  0\n  libswscale      5.  5.100 /  5.  5.100\n  libswresample   3.  5.100 /  3.  5.100\n  libpostproc    55.  5.100 / 55.  5.100\nGuessed Channel Layout for Input Stream #0.0 : mono\nInput #0, wav, from '/tmp/tmpogfwzbo6':\n  Duration: 00:03:45.79, bitrate: 705 kb/s\n    Stream #0:0: Audio: pcm_s16le ([1][0][0][0] / 0x0001), 44100 Hz, mono, s16, 705 kb/s\n[NULL @ 0x55890a43d640] Requested output format 'aac' is not a suitable output format\n/tmp/tmpp1trv0yj: Invalid argument\n"
          ]
        }
      ]
    },
    {
      "cell_type": "code",
      "source": [
        "original_dir = \"/content/drive/MyDrive/muzikler/mp3\"\n",
        "corrupted_dir = \"/content/drive/MyDrive/muzikler/mp3/corrupted_files\"\n",
        "\n",
        "error_rate = calculate_error_rate(original_dir, corrupted_dir)\n",
        "print(\"Error rate: {:.2f}%\".format(error_rate))\n"
      ],
      "metadata": {
        "id": "LSJHbQyuhcZD",
        "outputId": "555e1b8f-3811-4afa-ef7f-03b92fe79075",
        "colab": {
          "base_uri": "https://localhost:8080/"
        }
      },
      "execution_count": null,
      "outputs": [
        {
          "output_type": "stream",
          "name": "stdout",
          "text": [
            "Error rate: 100.00%\n"
          ]
        }
      ]
    },
    {
      "cell_type": "code",
      "source": [
        "import os\n",
        "import numpy as np\n",
        "import glob\n",
        "import shutil\n",
        "from pydub import AudioSegment\n",
        "import subprocess\n",
        "\n",
        "def introduce_errors_to_file(file_name, error_rate):\n",
        "\n",
        "    audio = AudioSegment.from_file(file_name)\n",
        "\n",
        "    if audio.channels == 2:\n",
        "        audio = audio.set_channels(1)\n",
        "\n",
        "    if audio.sample_width != 2:\n",
        "        audio = audio.set_sample_width(2)\n",
        "\n",
        "    raw_data = audio.raw_data\n",
        "\n",
        "    samples = np.frombuffer(raw_data, dtype=np.int16)\n",
        "\n",
        "    num_errors = int(error_rate * len(samples))\n",
        "\n",
        "    error_indices = np.random.choice(len(samples), size=num_errors, replace=False)\n",
        "\n",
        "    corrupted_samples = samples.copy()\n",
        "    corrupted_samples[error_indices] = np.random.randint(-32768, 32767, size=num_errors, dtype=np.int16)\n",
        "\n",
        "    corrupted_raw_data = corrupted_samples.tobytes()\n",
        "\n",
        "    os.makedirs(\"/content/drive/MyDrive/muzikler/aac/corrupted_files\", exist_ok=True)\n",
        "\n",
        "    if file_name.endswith(\".mp3\"):\n",
        "        new_file_name = os.path.join(\"/content/drive/MyDrive/muzikler/mp3/corrupted_files\", os.path.basename(file_name))\n",
        "    else:\n",
        "        new_file_name = os.path.join(\"/content/drive/MyDrive/muzikler/aac/corrupted_files\", os.path.basename(file_name))\n",
        "\n",
        "    tmp_wav_file = \"/tmp/tmp.wav\"\n",
        "    tmp_aac_file = \"/tmp/tmp.aac\"\n",
        "\n",
        "    audio.export(tmp_wav_file, format=\"wav\")\n",
        "    subprocess.run([\"ffmpeg\", \"-y\", \"-i\", tmp_wav_file, \"-c:a\", \"aac\", tmp_aac_file])\n",
        "    shutil.move(tmp_aac_file, new_file_name)\n",
        "\n",
        "    os.remove(tmp_wav_file)\n",
        "\n",
        "for file_name in glob.glob(\"/content/drive/MyDrive/muzikler/aac/*.aac\"):\n",
        "    introduce_errors_to_file(file_name, 0.01)\n",
        "\n",
        "print(\"Corrupted AAC files saved in: /content/drive/MyDrive/muzikler/aac/corrupted_files\")\n"
      ],
      "metadata": {
        "colab": {
          "base_uri": "https://localhost:8080/"
        },
        "id": "QMDLNfBBixvV",
        "outputId": "2435844b-33fa-4668-f35a-922b5fc8826b"
      },
      "execution_count": null,
      "outputs": [
        {
          "output_type": "stream",
          "name": "stdout",
          "text": [
            "Corrupted AAC files saved in: /content/drive/MyDrive/muzikler/aac/corrupted_files\n"
          ]
        }
      ]
    },
    {
      "cell_type": "code",
      "source": [
        "original_dir = \"/content/drive/MyDrive/muzikler/aac\"\n",
        "corrupted_dir = \"/content/drive/MyDrive/muzikler/aac/corrupted_files\"\n",
        "\n",
        "error_rate = calculate_error_rate(original_dir, corrupted_dir)\n",
        "print(\"Error rate: {:.2f}%\".format(error_rate))\n"
      ],
      "metadata": {
        "colab": {
          "base_uri": "https://localhost:8080/"
        },
        "id": "hBe1IEhajFSY",
        "outputId": "ddd7b856-49a8-4d22-d311-067b6ee42316"
      },
      "execution_count": null,
      "outputs": [
        {
          "output_type": "stream",
          "name": "stdout",
          "text": [
            "Error rate: 54.87%\n"
          ]
        }
      ]
    },
    {
      "cell_type": "code",
      "source": [
        "!pip install ffmpeg"
      ],
      "metadata": {
        "colab": {
          "base_uri": "https://localhost:8080/"
        },
        "id": "XAaMqrimviTB",
        "outputId": "6b8207e5-482b-49ce-e8bb-cb6323daf9f7"
      },
      "execution_count": null,
      "outputs": [
        {
          "output_type": "stream",
          "name": "stdout",
          "text": [
            "Looking in indexes: https://pypi.org/simple, https://us-python.pkg.dev/colab-wheels/public/simple/\n",
            "Collecting ffmpeg\n",
            "  Downloading ffmpeg-1.4.tar.gz (5.1 kB)\n",
            "  Preparing metadata (setup.py) ... \u001b[?25l\u001b[?25hdone\n",
            "Building wheels for collected packages: ffmpeg\n",
            "  Building wheel for ffmpeg (setup.py) ... \u001b[?25l\u001b[?25hdone\n",
            "  Created wheel for ffmpeg: filename=ffmpeg-1.4-py3-none-any.whl size=6083 sha256=ad54772b69081b46b516bb82a0cdc33a8bc387ea1c000f445a0edd72d2f4f81c\n",
            "  Stored in directory: /root/.cache/pip/wheels/8e/7a/69/cd6aeb83b126a7f04cbe7c9d929028dc52a6e7d525ff56003a\n",
            "Successfully built ffmpeg\n",
            "Installing collected packages: ffmpeg\n",
            "Successfully installed ffmpeg-1.4\n"
          ]
        }
      ]
    },
    {
      "cell_type": "code",
      "source": [
        "import os\n",
        "import numpy as np\n",
        "import glob\n",
        "import shutil\n",
        "import subprocess\n",
        "\n",
        "def introduce_errors_to_file(file_name, error_rate):\n",
        "    os.makedirs(\"/content/drive/MyDrive/videos/264/corrupted_files\", exist_ok=True)\n",
        "\n",
        "    new_file_name = os.path.join(\"/content/drive/MyDrive/videos/264/corrupted_files\", os.path.basename(file_name))\n",
        "\n",
        "    command = f\"ffmpeg -i {file_name} -c:v libx264 -b:v {int(error_rate * 100)}k {new_file_name}\"\n",
        "\n",
        "    subprocess.run(command, shell=True)\n",
        "\n",
        "for file_name in glob.glob(\"/content/drive/MyDrive/videos/264/*.mp4\"):\n",
        "    introduce_errors_to_file(file_name, 0.01)  \n",
        "\n",
        "print(\"Corrupted MP4 files saved in: /content/drive/MyDrive/videos/264/corrupted_files\")\n"
      ],
      "metadata": {
        "colab": {
          "base_uri": "https://localhost:8080/"
        },
        "id": "dFkKKa9KjKV8",
        "outputId": "fafc5d06-d422-49bb-d0ea-2417ebe3f18c"
      },
      "execution_count": null,
      "outputs": [
        {
          "output_type": "stream",
          "name": "stdout",
          "text": [
            "Corrupted MP4 files saved in: /content/drive/MyDrive/videos/264/corrupted_files\n"
          ]
        }
      ]
    },
    {
      "cell_type": "code",
      "source": [
        "original_dir = \"/content/drive/MyDrive/videos/264\"\n",
        "corrupted_dir = \"/content/drive/MyDrive/videos/264/corrupted_files\"\n",
        "\n",
        "error_rate = calculate_error_rate(original_dir, corrupted_dir)\n",
        "print(\"Error rate: {:.2f}%\".format(error_rate))"
      ],
      "metadata": {
        "colab": {
          "base_uri": "https://localhost:8080/"
        },
        "id": "LV-z3RZ2xSTl",
        "outputId": "64b66a7b-4a65-45f9-83c9-1b75ae93fced"
      },
      "execution_count": null,
      "outputs": [
        {
          "output_type": "stream",
          "name": "stdout",
          "text": [
            "Error rate: 0.77%\n"
          ]
        }
      ]
    },
    {
      "cell_type": "code",
      "source": [
        "import os\n",
        "import glob\n",
        "import random\n",
        "import shutil\n",
        "\n",
        "def introduce_errors_to_file(file_name, error_rate):\n",
        "    with open(file_name, \"rb\") as f:\n",
        "        data = f.read()\n",
        "\n",
        "    characters = list(data)\n",
        "\n",
        "    num_errors = int(error_rate * len(characters))\n",
        "\n",
        "    error_indices = random.sample(range(len(characters)), num_errors)\n",
        "\n",
        "    for index in error_indices:\n",
        "        characters[index] = random.choice(list(set(range(256)) - {characters[index]}))\n",
        "    os.makedirs(\"/content/drive/MyDrive/textfiles/huffmancompressed/corrupted_files\", exist_ok=True)\n",
        "    os.makedirs(\"/content/drive/MyDrive/textfiles/lzwcompressed/corrupted_files\", exist_ok=True)\n",
        "    corrupted_file_name = os.path.join(\"/content/drive/MyDrive/textfiles/huffmancompressed/corrupted_files\", os.path.basename(file_name))\n",
        "    with open(corrupted_file_name, \"wb\") as f:\n",
        "        f.write(bytes(characters))\n",
        "\n",
        "    if file_name.endswith(\".lzw\"):\n",
        "        corrupted_file_name = os.path.join(\"/content/drive/MyDrive/textfiles/lzwcompressed/corrupted_files\", os.path.basename(file_name))\n",
        "        with open(corrupted_file_name, \"wb\") as f:\n",
        "            f.write(bytes(characters))\n",
        "for file_name in glob.glob(\"/content/drive/MyDrive/textfiles/huffmancompressed/*.txt\"):\n",
        "    introduce_errors_to_file(file_name, 0.01) \n",
        "\n",
        "for file_name in glob.glob(\"/content/drive/MyDrive/textfiles/lzwcompressed/*.lzw\"):\n",
        "    introduce_errors_to_file(file_name, 0.01) \n",
        "\n",
        "print(\"Corrupted Huffman compressed files saved in: /content/drive/MyDrive/textfiles/huffmancompressed/corrupted_files\")\n",
        "print(\"Corrupted LZW compressed files saved in: /content/drive/MyDrive/textfiles/lzwcompressed/corrupted_files\")\n"
      ],
      "metadata": {
        "colab": {
          "base_uri": "https://localhost:8080/"
        },
        "id": "97e83_KSxNl5",
        "outputId": "0b69b4f5-f78d-4791-f4a1-a7013468d451"
      },
      "execution_count": null,
      "outputs": [
        {
          "output_type": "stream",
          "name": "stdout",
          "text": [
            "Corrupted Huffman compressed files saved in: /content/drive/MyDrive/textfiles/huffmancompressed/corrupted_files\n",
            "Corrupted LZW compressed files saved in: /content/drive/MyDrive/textfiles/lzwcompressed/corrupted_files\n"
          ]
        }
      ]
    },
    {
      "cell_type": "code",
      "source": [
        "original_dir = \"/content/drive/MyDrive/textfiles/huffmancompressed\"\n",
        "corrupted_dir = \"/content/drive/MyDrive/textfiles/huffmancompressed/corrupted_files\"\n",
        "\n",
        "error_rate = calculate_error_rate(original_dir, corrupted_dir)\n",
        "print(\"Error rate: {:.2f}%\".format(error_rate))"
      ],
      "metadata": {
        "colab": {
          "base_uri": "https://localhost:8080/"
        },
        "id": "25FwRiDpxbXd",
        "outputId": "2574242a-2b2d-4b3b-c617-4a1445e1329f"
      },
      "execution_count": null,
      "outputs": [
        {
          "output_type": "stream",
          "name": "stdout",
          "text": [
            "Error rate: 99.08%\n"
          ]
        }
      ]
    },
    {
      "cell_type": "code",
      "source": [
        "original_dir = \"/content/drive/MyDrive/textfiles/lzwcompressed\"\n",
        "corrupted_dir = \"/content/drive/MyDrive/textfiles/lzwcompressed/corrupted_files\"\n",
        "\n",
        "error_rate = calculate_error_rate(original_dir, corrupted_dir)\n",
        "print(\"Error rate: {:.2f}%\".format(error_rate))"
      ],
      "metadata": {
        "colab": {
          "base_uri": "https://localhost:8080/"
        },
        "id": "LCmdegvkxbcP",
        "outputId": "e04e7c4c-b8f6-448b-f216-cf971776aee1"
      },
      "execution_count": null,
      "outputs": [
        {
          "output_type": "stream",
          "name": "stdout",
          "text": [
            "Error rate: 94.12%\n"
          ]
        }
      ]
    },
    {
      "cell_type": "code",
      "source": [
        "\n",
        "for file_name in glob.glob(\"/content/drive/MyDrive/textfiles/lzwcompressed/*.lzw\"):\n",
        "    introduce_errors_to_file(file_name, 0.01)\n",
        "print(\"Corrupted LZW compressed files saved in: /content/drive/MyDrive/textfiles/lzwcompressed/corrupted_files\")"
      ],
      "metadata": {
        "colab": {
          "base_uri": "https://localhost:8080/"
        },
        "id": "b89xkk0fdhS-",
        "outputId": "1ef54287-ebc0-4904-8946-00e608f0297c"
      },
      "execution_count": null,
      "outputs": [
        {
          "output_type": "stream",
          "name": "stdout",
          "text": [
            "Corrupted LZW compressed files saved in: /content/drive/MyDrive/textfiles/lzwcompressed/corrupted_files\n"
          ]
        }
      ]
    },
    {
      "cell_type": "code",
      "source": [
        "\n",
        "for file_name in glob.glob(\"/content/drive/MyDrive/textfiles/huffmancompressed/*.txt\"):\n",
        "    introduce_errors_to_file(file_name, 0.01) \n"
      ],
      "metadata": {
        "id": "Kr20F0aLf-6I"
      },
      "execution_count": null,
      "outputs": []
    },
    {
      "cell_type": "markdown",
      "source": [
        "--------------------------------------------------------------------------------------------------"
      ],
      "metadata": {
        "id": "xAvdYdNQg-33"
      }
    }
  ]
}